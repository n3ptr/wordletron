{
 "cells": [
  {
   "cell_type": "code",
   "execution_count": 1,
   "metadata": {},
   "outputs": [],
   "source": [
    "import pandas as pd"
   ]
  },
  {
   "cell_type": "code",
   "execution_count": 2,
   "metadata": {},
   "outputs": [],
   "source": [
    "csv = 'guess_value_iterations_guesses.csv'\n",
    "doubles = 'double_letters.csv'\n",
    "solutions = 'solutions.csv'"
   ]
  },
  {
   "cell_type": "code",
   "execution_count": 3,
   "metadata": {},
   "outputs": [],
   "source": [
    "df_guesses = pd.read_csv(csv)\n",
    "df_doubles = pd.read_csv(doubles)\n",
    "df_solutions = pd.read_csv(solutions)"
   ]
  },
  {
   "cell_type": "code",
   "execution_count": 4,
   "metadata": {},
   "outputs": [],
   "source": [
    "df_solutions.columns=['guess']\n",
    "df_solutions['solution'] = True"
   ]
  },
  {
   "cell_type": "code",
   "execution_count": 5,
   "metadata": {},
   "outputs": [
    {
     "name": "stderr",
     "output_type": "stream",
     "text": [
      "/tmp/ipykernel_2116637/3291066838.py:1: FutureWarning: Indexing with multiple keys (implicitly converted to a tuple of keys) will be deprecated, use a list instead.\n",
      "  sums = df_guesses.groupby(['guess'])['score_match','score_exact_match'].sum().reset_index()\n"
     ]
    }
   ],
   "source": [
    "sums = df_guesses.groupby(['guess'])['score_match','score_exact_match'].sum().reset_index()"
   ]
  },
  {
   "cell_type": "code",
   "execution_count": 6,
   "metadata": {},
   "outputs": [
    {
     "data": {
      "text/html": [
       "<div>\n",
       "<style scoped>\n",
       "    .dataframe tbody tr th:only-of-type {\n",
       "        vertical-align: middle;\n",
       "    }\n",
       "\n",
       "    .dataframe tbody tr th {\n",
       "        vertical-align: top;\n",
       "    }\n",
       "\n",
       "    .dataframe thead th {\n",
       "        text-align: right;\n",
       "    }\n",
       "</style>\n",
       "<table border=\"1\" class=\"dataframe\">\n",
       "  <thead>\n",
       "    <tr style=\"text-align: right;\">\n",
       "      <th></th>\n",
       "      <th>guess</th>\n",
       "      <th>score_match</th>\n",
       "      <th>score_exact_match</th>\n",
       "    </tr>\n",
       "  </thead>\n",
       "  <tbody>\n",
       "    <tr>\n",
       "      <th>502</th>\n",
       "      <td>areae</td>\n",
       "      <td>5323.0</td>\n",
       "      <td>419.0</td>\n",
       "    </tr>\n",
       "    <tr>\n",
       "      <th>3301</th>\n",
       "      <td>eerie</td>\n",
       "      <td>5269.0</td>\n",
       "      <td>413.0</td>\n",
       "    </tr>\n",
       "    <tr>\n",
       "      <th>9113</th>\n",
       "      <td>resee</td>\n",
       "      <td>5267.0</td>\n",
       "      <td>656.0</td>\n",
       "    </tr>\n",
       "    <tr>\n",
       "      <th>8908</th>\n",
       "      <td>raree</td>\n",
       "      <td>5243.0</td>\n",
       "      <td>554.0</td>\n",
       "    </tr>\n",
       "    <tr>\n",
       "      <th>514</th>\n",
       "      <td>arere</td>\n",
       "      <td>5243.0</td>\n",
       "      <td>408.0</td>\n",
       "    </tr>\n",
       "  </tbody>\n",
       "</table>\n",
       "</div>"
      ],
      "text/plain": [
       "      guess  score_match  score_exact_match\n",
       "502   areae       5323.0              419.0\n",
       "3301  eerie       5269.0              413.0\n",
       "9113  resee       5267.0              656.0\n",
       "8908  raree       5243.0              554.0\n",
       "514   arere       5243.0              408.0"
      ]
     },
     "execution_count": 6,
     "metadata": {},
     "output_type": "execute_result"
    }
   ],
   "source": [
    "sums.sort_values(by=['score_match','score_exact_match'],ascending=False).head()"
   ]
  },
  {
   "cell_type": "code",
   "execution_count": 7,
   "metadata": {},
   "outputs": [],
   "source": [
    "sums = sums.merge(df_solutions,how='left',left_on='guess',right_on='guess')"
   ]
  },
  {
   "cell_type": "code",
   "execution_count": 8,
   "metadata": {},
   "outputs": [],
   "source": [
    "df_word_ranks = sums.merge(df_doubles,how='left',left_on='guess',right_on='guess')"
   ]
  },
  {
   "cell_type": "code",
   "execution_count": 9,
   "metadata": {},
   "outputs": [
    {
     "name": "stdout",
     "output_type": "stream",
     "text": [
      "   guess  score_match  score_exact_match solution  Unnamed: 0 double\n",
      "0  aahed       3973.0              118.0      NaN       749.0   True\n",
      "1  aalii       4019.0              269.0      NaN       750.0   True\n",
      "2  aargh       3557.0               90.0      NaN       751.0   True\n",
      "3  aarti       4257.0              140.0      NaN       752.0   True\n",
      "4  abaca       3695.0              511.0      NaN       753.0   True\n",
      "12972\n"
     ]
    }
   ],
   "source": [
    "print(df_word_ranks.head())\n",
    "index = df_word_ranks.index\n",
    "number_of_rows = len(index)\n",
    "print(number_of_rows)\n",
    "df_word_ranks.to_csv('large_word_ranks')"
   ]
  },
  {
   "cell_type": "code",
   "execution_count": 10,
   "metadata": {},
   "outputs": [
    {
     "data": {
      "text/html": [
       "<div>\n",
       "<style scoped>\n",
       "    .dataframe tbody tr th:only-of-type {\n",
       "        vertical-align: middle;\n",
       "    }\n",
       "\n",
       "    .dataframe tbody tr th {\n",
       "        vertical-align: top;\n",
       "    }\n",
       "\n",
       "    .dataframe thead th {\n",
       "        text-align: right;\n",
       "    }\n",
       "</style>\n",
       "<table border=\"1\" class=\"dataframe\">\n",
       "  <thead>\n",
       "    <tr style=\"text-align: right;\">\n",
       "      <th></th>\n",
       "      <th>guess</th>\n",
       "      <th>score_match</th>\n",
       "      <th>score_exact_match</th>\n",
       "      <th>solution</th>\n",
       "      <th>Unnamed: 0</th>\n",
       "      <th>double</th>\n",
       "    </tr>\n",
       "  </thead>\n",
       "  <tbody>\n",
       "    <tr>\n",
       "      <th>502</th>\n",
       "      <td>areae</td>\n",
       "      <td>5323.0</td>\n",
       "      <td>419.0</td>\n",
       "      <td>NaN</td>\n",
       "      <td>955.0</td>\n",
       "      <td>True</td>\n",
       "    </tr>\n",
       "    <tr>\n",
       "      <th>3301</th>\n",
       "      <td>eerie</td>\n",
       "      <td>5269.0</td>\n",
       "      <td>413.0</td>\n",
       "      <td>True</td>\n",
       "      <td>191.0</td>\n",
       "      <td>True</td>\n",
       "    </tr>\n",
       "    <tr>\n",
       "      <th>9113</th>\n",
       "      <td>resee</td>\n",
       "      <td>5267.0</td>\n",
       "      <td>656.0</td>\n",
       "      <td>NaN</td>\n",
       "      <td>3374.0</td>\n",
       "      <td>True</td>\n",
       "    </tr>\n",
       "    <tr>\n",
       "      <th>8908</th>\n",
       "      <td>raree</td>\n",
       "      <td>5243.0</td>\n",
       "      <td>554.0</td>\n",
       "      <td>NaN</td>\n",
       "      <td>3292.0</td>\n",
       "      <td>True</td>\n",
       "    </tr>\n",
       "    <tr>\n",
       "      <th>514</th>\n",
       "      <td>arere</td>\n",
       "      <td>5243.0</td>\n",
       "      <td>408.0</td>\n",
       "      <td>NaN</td>\n",
       "      <td>964.0</td>\n",
       "      <td>True</td>\n",
       "    </tr>\n",
       "  </tbody>\n",
       "</table>\n",
       "</div>"
      ],
      "text/plain": [
       "      guess  score_match  score_exact_match solution  Unnamed: 0 double\n",
       "502   areae       5323.0              419.0      NaN       955.0   True\n",
       "3301  eerie       5269.0              413.0     True       191.0   True\n",
       "9113  resee       5267.0              656.0      NaN      3374.0   True\n",
       "8908  raree       5243.0              554.0      NaN      3292.0   True\n",
       "514   arere       5243.0              408.0      NaN       964.0   True"
      ]
     },
     "execution_count": 10,
     "metadata": {},
     "output_type": "execute_result"
    }
   ],
   "source": [
    "df_word_ranks.sort_values(by=['score_match','score_exact_match'],ascending=False).head()"
   ]
  },
  {
   "cell_type": "code",
   "execution_count": 11,
   "metadata": {},
   "outputs": [],
   "source": [
    "rank_no_doubles = (df_word_ranks.loc[(df_word_ranks['double']!=True)])"
   ]
  },
  {
   "cell_type": "code",
   "execution_count": 12,
   "metadata": {},
   "outputs": [
    {
     "name": "stderr",
     "output_type": "stream",
     "text": [
      "/tmp/ipykernel_2116637/2662046364.py:1: SettingWithCopyWarning: \n",
      "A value is trying to be set on a copy of a slice from a DataFrame.\n",
      "Try using .loc[row_indexer,col_indexer] = value instead\n",
      "\n",
      "See the caveats in the documentation: https://pandas.pydata.org/pandas-docs/stable/user_guide/indexing.html#returning-a-view-versus-a-copy\n",
      "  rank_no_doubles['total_score'] = rank_no_doubles['score_match']+rank_no_doubles['score_exact_match']\n"
     ]
    }
   ],
   "source": [
    "rank_no_doubles['total_score'] = rank_no_doubles['score_match']+rank_no_doubles['score_exact_match']"
   ]
  },
  {
   "cell_type": "code",
   "execution_count": 13,
   "metadata": {},
   "outputs": [
    {
     "data": {
      "text/html": [
       "<div>\n",
       "<style scoped>\n",
       "    .dataframe tbody tr th:only-of-type {\n",
       "        vertical-align: middle;\n",
       "    }\n",
       "\n",
       "    .dataframe tbody tr th {\n",
       "        vertical-align: top;\n",
       "    }\n",
       "\n",
       "    .dataframe thead th {\n",
       "        text-align: right;\n",
       "    }\n",
       "</style>\n",
       "<table border=\"1\" class=\"dataframe\">\n",
       "  <thead>\n",
       "    <tr style=\"text-align: right;\">\n",
       "      <th></th>\n",
       "      <th>guess</th>\n",
       "      <th>score_match</th>\n",
       "      <th>score_exact_match</th>\n",
       "      <th>solution</th>\n",
       "      <th>Unnamed: 0</th>\n",
       "      <th>double</th>\n",
       "      <th>total_score</th>\n",
       "    </tr>\n",
       "  </thead>\n",
       "  <tbody>\n",
       "    <tr>\n",
       "      <th>10364</th>\n",
       "      <td>soare</td>\n",
       "      <td>4534.0</td>\n",
       "      <td>413.0</td>\n",
       "      <td>NaN</td>\n",
       "      <td>NaN</td>\n",
       "      <td>NaN</td>\n",
       "      <td>4947.0</td>\n",
       "    </tr>\n",
       "    <tr>\n",
       "      <th>9247</th>\n",
       "      <td>roate</td>\n",
       "      <td>4594.0</td>\n",
       "      <td>334.0</td>\n",
       "      <td>NaN</td>\n",
       "      <td>NaN</td>\n",
       "      <td>NaN</td>\n",
       "      <td>4928.0</td>\n",
       "    </tr>\n",
       "    <tr>\n",
       "      <th>7628</th>\n",
       "      <td>oater</td>\n",
       "      <td>4594.0</td>\n",
       "      <td>325.0</td>\n",
       "      <td>NaN</td>\n",
       "      <td>NaN</td>\n",
       "      <td>NaN</td>\n",
       "      <td>4919.0</td>\n",
       "    </tr>\n",
       "    <tr>\n",
       "      <th>11067</th>\n",
       "      <td>taler</td>\n",
       "      <td>4559.0</td>\n",
       "      <td>359.0</td>\n",
       "      <td>NaN</td>\n",
       "      <td>NaN</td>\n",
       "      <td>NaN</td>\n",
       "      <td>4918.0</td>\n",
       "    </tr>\n",
       "    <tr>\n",
       "      <th>7778</th>\n",
       "      <td>orate</td>\n",
       "      <td>4594.0</td>\n",
       "      <td>319.0</td>\n",
       "      <td>NaN</td>\n",
       "      <td>NaN</td>\n",
       "      <td>NaN</td>\n",
       "      <td>4913.0</td>\n",
       "    </tr>\n",
       "  </tbody>\n",
       "</table>\n",
       "</div>"
      ],
      "text/plain": [
       "       guess  score_match  score_exact_match solution  Unnamed: 0 double  \\\n",
       "10364  soare       4534.0              413.0      NaN         NaN    NaN   \n",
       "9247   roate       4594.0              334.0      NaN         NaN    NaN   \n",
       "7628   oater       4594.0              325.0      NaN         NaN    NaN   \n",
       "11067  taler       4559.0              359.0      NaN         NaN    NaN   \n",
       "7778   orate       4594.0              319.0      NaN         NaN    NaN   \n",
       "\n",
       "       total_score  \n",
       "10364       4947.0  \n",
       "9247        4928.0  \n",
       "7628        4919.0  \n",
       "11067       4918.0  \n",
       "7778        4913.0  "
      ]
     },
     "execution_count": 13,
     "metadata": {},
     "output_type": "execute_result"
    }
   ],
   "source": [
    "rank_no_doubles.sort_values(by=['total_score'],ascending=False).head()"
   ]
  },
  {
   "cell_type": "code",
   "execution_count": 14,
   "metadata": {},
   "outputs": [
    {
     "name": "stdout",
     "output_type": "stream",
     "text": [
      "    guess  score_match  score_exact_match solution  Unnamed: 0 double  \\\n",
      "26  abers       4061.0              133.0      NaN         NaN    NaN   \n",
      "27  abets       3891.0              125.0      NaN         NaN    NaN   \n",
      "28  abhor       3302.0              101.0     True         NaN    NaN   \n",
      "29  abide       3557.0              215.0     True         NaN    NaN   \n",
      "30  abies       3833.0              159.0      NaN         NaN    NaN   \n",
      "\n",
      "    total_score  \n",
      "26       4194.0  \n",
      "27       4016.0  \n",
      "28       3403.0  \n",
      "29       3772.0  \n",
      "30       3992.0  \n",
      "8322\n"
     ]
    }
   ],
   "source": [
    "print(rank_no_doubles.head())\n",
    "index = rank_no_doubles.index\n",
    "number_of_rows = len(index)\n",
    "print(number_of_rows)\n",
    "rank_no_doubles.to_csv('large_rank_no_doubles')"
   ]
  },
  {
   "cell_type": "code",
   "execution_count": null,
   "metadata": {},
   "outputs": [],
   "source": []
  }
 ],
 "metadata": {
  "interpreter": {
   "hash": "0fd60408384064d40e51647f0c8dc788d73d0fd6cabb1af75a64a9d507f10b19"
  },
  "kernelspec": {
   "display_name": "Python 3.10.2 64-bit ('wordletron2000-9JAwi6tr': pipenv)",
   "language": "python",
   "name": "python3"
  },
  "language_info": {
   "codemirror_mode": {
    "name": "ipython",
    "version": 3
   },
   "file_extension": ".py",
   "mimetype": "text/x-python",
   "name": "python",
   "nbconvert_exporter": "python",
   "pygments_lexer": "ipython3",
   "version": "3.10.2"
  },
  "orig_nbformat": 4
 },
 "nbformat": 4,
 "nbformat_minor": 2
}
