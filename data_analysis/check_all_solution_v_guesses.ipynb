{
 "cells": [
  {
   "cell_type": "code",
   "execution_count": 1,
   "metadata": {},
   "outputs": [],
   "source": [
    "import multiprocessing as mp\n",
    "import warnings\n",
    "import pandas as pd"
   ]
  },
  {
   "cell_type": "code",
   "execution_count": 2,
   "metadata": {},
   "outputs": [],
   "source": [
    "warnings.filterwarnings('ignore')"
   ]
  },
  {
   "cell_type": "code",
   "execution_count": 3,
   "metadata": {},
   "outputs": [
    {
     "name": "stdout",
     "output_type": "stream",
     "text": [
      "12972\n"
     ]
    }
   ],
   "source": [
    "f = open('datasets/guesses.txt','r')\n",
    "guesses = []\n",
    "\n",
    "for line in f:\n",
    "    guesses.append(line.strip())\n",
    "\n",
    "print(str(len(guesses)))"
   ]
  },
  {
   "cell_type": "code",
   "execution_count": 4,
   "metadata": {},
   "outputs": [
    {
     "name": "stdout",
     "output_type": "stream",
     "text": [
      "2315\n"
     ]
    }
   ],
   "source": [
    "f = open('datasets/solutions.txt','r')\n",
    "solutions = []\n",
    "\n",
    "for line in f:\n",
    "    solutions.append(line.strip())\n",
    "\n",
    "print(str(len(solutions)))"
   ]
  },
  {
   "cell_type": "code",
   "execution_count": 5,
   "metadata": {},
   "outputs": [],
   "source": [
    "words5 = guesses"
   ]
  },
  {
   "cell_type": "code",
   "execution_count": 6,
   "metadata": {},
   "outputs": [
    {
     "name": "stdout",
     "output_type": "stream",
     "text": [
      "[]\n"
     ]
    }
   ],
   "source": [
    "# this should be an empty list, checking to be sure we do not have non alpha chars in the words\n",
    "print([i for i in words5 if not i.isalpha()])"
   ]
  },
  {
   "cell_type": "code",
   "execution_count": 7,
   "metadata": {},
   "outputs": [
    {
     "data": {
      "text/plain": [
       "12972"
      ]
     },
     "execution_count": 7,
     "metadata": {},
     "output_type": "execute_result"
    }
   ],
   "source": [
    "len(words5)"
   ]
  },
  {
   "cell_type": "code",
   "execution_count": 8,
   "metadata": {},
   "outputs": [],
   "source": [
    "# word = 'wifie'\n",
    "word_doubles = []\n",
    "for word in words5:\n",
    "    word_counts = 0\n",
    "    for letter in word:\n",
    "        # print(word)\n",
    "        # print(letter)\n",
    "        # print(str(word.count(letter)))\n",
    "        word_counts += word.count(letter)\n",
    "    if word_counts > 5:\n",
    "        word_doubles.append(word)"
   ]
  },
  {
   "cell_type": "code",
   "execution_count": 9,
   "metadata": {},
   "outputs": [
    {
     "data": {
      "text/plain": [
       "4650"
      ]
     },
     "execution_count": 9,
     "metadata": {},
     "output_type": "execute_result"
    }
   ],
   "source": [
    "len(word_doubles)"
   ]
  },
  {
   "cell_type": "code",
   "execution_count": 10,
   "metadata": {},
   "outputs": [],
   "source": [
    "df_words = pd.DataFrame(words5)\n",
    "df_words.columns=['words']\n",
    "\n",
    "df_doubles = pd.DataFrame(word_doubles)\n",
    "df_doubles.columns=['word']"
   ]
  },
  {
   "cell_type": "code",
   "execution_count": 11,
   "metadata": {},
   "outputs": [],
   "source": [
    "df_doubles['double']=True"
   ]
  },
  {
   "cell_type": "code",
   "execution_count": 12,
   "metadata": {},
   "outputs": [
    {
     "data": {
      "text/html": [
       "<div>\n",
       "<style scoped>\n",
       "    .dataframe tbody tr th:only-of-type {\n",
       "        vertical-align: middle;\n",
       "    }\n",
       "\n",
       "    .dataframe tbody tr th {\n",
       "        vertical-align: top;\n",
       "    }\n",
       "\n",
       "    .dataframe thead th {\n",
       "        text-align: right;\n",
       "    }\n",
       "</style>\n",
       "<table border=\"1\" class=\"dataframe\">\n",
       "  <thead>\n",
       "    <tr style=\"text-align: right;\">\n",
       "      <th></th>\n",
       "      <th>word</th>\n",
       "      <th>double</th>\n",
       "    </tr>\n",
       "  </thead>\n",
       "  <tbody>\n",
       "    <tr>\n",
       "      <th>0</th>\n",
       "      <td>sissy</td>\n",
       "      <td>True</td>\n",
       "    </tr>\n",
       "    <tr>\n",
       "      <th>1</th>\n",
       "      <td>humph</td>\n",
       "      <td>True</td>\n",
       "    </tr>\n",
       "    <tr>\n",
       "      <th>2</th>\n",
       "      <td>awake</td>\n",
       "      <td>True</td>\n",
       "    </tr>\n",
       "    <tr>\n",
       "      <th>3</th>\n",
       "      <td>evade</td>\n",
       "      <td>True</td>\n",
       "    </tr>\n",
       "    <tr>\n",
       "      <th>4</th>\n",
       "      <td>naval</td>\n",
       "      <td>True</td>\n",
       "    </tr>\n",
       "  </tbody>\n",
       "</table>\n",
       "</div>"
      ],
      "text/plain": [
       "    word  double\n",
       "0  sissy    True\n",
       "1  humph    True\n",
       "2  awake    True\n",
       "3  evade    True\n",
       "4  naval    True"
      ]
     },
     "execution_count": 12,
     "metadata": {},
     "output_type": "execute_result"
    }
   ],
   "source": [
    "df_doubles.head()"
   ]
  },
  {
   "cell_type": "code",
   "execution_count": 13,
   "metadata": {},
   "outputs": [
    {
     "name": "stdout",
     "output_type": "stream",
     "text": [
      "    word  double\n",
      "0  sissy    True\n",
      "1  humph    True\n",
      "2  awake    True\n",
      "3  evade    True\n",
      "4  naval    True\n",
      "4650\n"
     ]
    }
   ],
   "source": [
    "print(df_doubles.head())\n",
    "index = df_doubles.index\n",
    "number_of_rows = len(index)\n",
    "print(number_of_rows)\n",
    "df_doubles.to_csv('datasets/double_letters.csv')"
   ]
  },
  {
   "cell_type": "code",
   "execution_count": 14,
   "metadata": {},
   "outputs": [],
   "source": [
    "df_words['first'] = df_words['words'].str.slice(0,1)\n",
    "df_words['second'] = df_words['words'].str.slice(1,2)\n",
    "df_words['third'] = df_words['words'].str.slice(2,3)\n",
    "df_words['fourth'] = df_words['words'].str.slice(3,4)\n",
    "df_words['fifth'] = df_words['words'].str.slice(4,5)"
   ]
  },
  {
   "cell_type": "code",
   "execution_count": 15,
   "metadata": {},
   "outputs": [
    {
     "data": {
      "text/html": [
       "<div>\n",
       "<style scoped>\n",
       "    .dataframe tbody tr th:only-of-type {\n",
       "        vertical-align: middle;\n",
       "    }\n",
       "\n",
       "    .dataframe tbody tr th {\n",
       "        vertical-align: top;\n",
       "    }\n",
       "\n",
       "    .dataframe thead th {\n",
       "        text-align: right;\n",
       "    }\n",
       "</style>\n",
       "<table border=\"1\" class=\"dataframe\">\n",
       "  <thead>\n",
       "    <tr style=\"text-align: right;\">\n",
       "      <th></th>\n",
       "      <th>words</th>\n",
       "      <th>first</th>\n",
       "      <th>second</th>\n",
       "      <th>third</th>\n",
       "      <th>fourth</th>\n",
       "      <th>fifth</th>\n",
       "    </tr>\n",
       "  </thead>\n",
       "  <tbody>\n",
       "    <tr>\n",
       "      <th>0</th>\n",
       "      <td>cigar</td>\n",
       "      <td>c</td>\n",
       "      <td>i</td>\n",
       "      <td>g</td>\n",
       "      <td>a</td>\n",
       "      <td>r</td>\n",
       "    </tr>\n",
       "    <tr>\n",
       "      <th>1</th>\n",
       "      <td>rebut</td>\n",
       "      <td>r</td>\n",
       "      <td>e</td>\n",
       "      <td>b</td>\n",
       "      <td>u</td>\n",
       "      <td>t</td>\n",
       "    </tr>\n",
       "    <tr>\n",
       "      <th>2</th>\n",
       "      <td>sissy</td>\n",
       "      <td>s</td>\n",
       "      <td>i</td>\n",
       "      <td>s</td>\n",
       "      <td>s</td>\n",
       "      <td>y</td>\n",
       "    </tr>\n",
       "    <tr>\n",
       "      <th>3</th>\n",
       "      <td>humph</td>\n",
       "      <td>h</td>\n",
       "      <td>u</td>\n",
       "      <td>m</td>\n",
       "      <td>p</td>\n",
       "      <td>h</td>\n",
       "    </tr>\n",
       "    <tr>\n",
       "      <th>4</th>\n",
       "      <td>awake</td>\n",
       "      <td>a</td>\n",
       "      <td>w</td>\n",
       "      <td>a</td>\n",
       "      <td>k</td>\n",
       "      <td>e</td>\n",
       "    </tr>\n",
       "  </tbody>\n",
       "</table>\n",
       "</div>"
      ],
      "text/plain": [
       "   words first second third fourth fifth\n",
       "0  cigar     c      i     g      a     r\n",
       "1  rebut     r      e     b      u     t\n",
       "2  sissy     s      i     s      s     y\n",
       "3  humph     h      u     m      p     h\n",
       "4  awake     a      w     a      k     e"
      ]
     },
     "execution_count": 15,
     "metadata": {},
     "output_type": "execute_result"
    }
   ],
   "source": [
    "df_words.head()"
   ]
  },
  {
   "cell_type": "code",
   "execution_count": 16,
   "metadata": {},
   "outputs": [
    {
     "data": {
      "text/plain": [
       "False"
      ]
     },
     "execution_count": 16,
     "metadata": {},
     "output_type": "execute_result"
    }
   ],
   "source": [
    "df_words['first'][0]==df_words['second'][0]"
   ]
  },
  {
   "cell_type": "code",
   "execution_count": 17,
   "metadata": {},
   "outputs": [],
   "source": [
    "alphas = ['a','b','c','d','e','f','g','h','i','j','k','l','m','n','o','p','q','r','s','t','u','v','w','x','y','z']"
   ]
  },
  {
   "cell_type": "code",
   "execution_count": 18,
   "metadata": {},
   "outputs": [],
   "source": [
    "dfalpha = pd.DataFrame(alphas)\n",
    "dfalpha.columns = ['letters']\n",
    "dfalpha.set_index('letters', inplace=True)"
   ]
  },
  {
   "cell_type": "code",
   "execution_count": 19,
   "metadata": {},
   "outputs": [],
   "source": [
    "# build the frequerncy table from each smaller dataframe\n",
    "df_counts = df_words['first'].value_counts()\n",
    "df_counts_second = df_words['second'].value_counts()\n",
    "df_counts_third = df_words['third'].value_counts()\n",
    "df_counts_fourth = df_words['fourth'].value_counts()\n",
    "df_counts_fifth = df_words['fifth'].value_counts()\n",
    "\n",
    "dfranks = pd.concat([dfalpha, df_counts], axis=1)\n",
    "dfranks = pd.concat([dfranks, df_counts_second], axis=1)\n",
    "dfranks = pd.concat([dfranks, df_counts_third], axis=1)\n",
    "dfranks = pd.concat([dfranks, df_counts_fourth], axis=1)\n",
    "dfranks = pd.concat([dfranks, df_counts_fifth], axis=1)"
   ]
  },
  {
   "cell_type": "code",
   "execution_count": 20,
   "metadata": {},
   "outputs": [
    {
     "data": {
      "text/plain": [
       "s    1565\n",
       "c     922\n",
       "b     909\n",
       "p     859\n",
       "t     815\n",
       "Name: first, dtype: int64"
      ]
     },
     "execution_count": 20,
     "metadata": {},
     "output_type": "execute_result"
    }
   ],
   "source": [
    "df_counts.head()"
   ]
  },
  {
   "cell_type": "code",
   "execution_count": 21,
   "metadata": {},
   "outputs": [
    {
     "data": {
      "text/html": [
       "<div>\n",
       "<style scoped>\n",
       "    .dataframe tbody tr th:only-of-type {\n",
       "        vertical-align: middle;\n",
       "    }\n",
       "\n",
       "    .dataframe tbody tr th {\n",
       "        vertical-align: top;\n",
       "    }\n",
       "\n",
       "    .dataframe thead th {\n",
       "        text-align: right;\n",
       "    }\n",
       "</style>\n",
       "<table border=\"1\" class=\"dataframe\">\n",
       "  <thead>\n",
       "    <tr style=\"text-align: right;\">\n",
       "      <th></th>\n",
       "      <th>first</th>\n",
       "      <th>second</th>\n",
       "      <th>third</th>\n",
       "      <th>fourth</th>\n",
       "      <th>fifth</th>\n",
       "    </tr>\n",
       "  </thead>\n",
       "  <tbody>\n",
       "    <tr>\n",
       "      <th>a</th>\n",
       "      <td>737</td>\n",
       "      <td>2263</td>\n",
       "      <td>1236</td>\n",
       "      <td>1074</td>\n",
       "      <td>680</td>\n",
       "    </tr>\n",
       "    <tr>\n",
       "      <th>b</th>\n",
       "      <td>909</td>\n",
       "      <td>81</td>\n",
       "      <td>335</td>\n",
       "      <td>243</td>\n",
       "      <td>59</td>\n",
       "    </tr>\n",
       "    <tr>\n",
       "      <th>c</th>\n",
       "      <td>922</td>\n",
       "      <td>176</td>\n",
       "      <td>392</td>\n",
       "      <td>411</td>\n",
       "      <td>127</td>\n",
       "    </tr>\n",
       "    <tr>\n",
       "      <th>d</th>\n",
       "      <td>685</td>\n",
       "      <td>84</td>\n",
       "      <td>390</td>\n",
       "      <td>471</td>\n",
       "      <td>823</td>\n",
       "    </tr>\n",
       "    <tr>\n",
       "      <th>e</th>\n",
       "      <td>303</td>\n",
       "      <td>1628</td>\n",
       "      <td>882</td>\n",
       "      <td>2327</td>\n",
       "      <td>1522</td>\n",
       "    </tr>\n",
       "  </tbody>\n",
       "</table>\n",
       "</div>"
      ],
      "text/plain": [
       "   first  second  third  fourth  fifth\n",
       "a    737    2263   1236    1074    680\n",
       "b    909      81    335     243     59\n",
       "c    922     176    392     411    127\n",
       "d    685      84    390     471    823\n",
       "e    303    1628    882    2327   1522"
      ]
     },
     "execution_count": 21,
     "metadata": {},
     "output_type": "execute_result"
    }
   ],
   "source": [
    "dfranks.head()"
   ]
  },
  {
   "cell_type": "code",
   "execution_count": 22,
   "metadata": {},
   "outputs": [
    {
     "data": {
      "text/plain": [
       "737"
      ]
     },
     "execution_count": 22,
     "metadata": {},
     "output_type": "execute_result"
    }
   ],
   "source": [
    "dfranks['first']['a']"
   ]
  },
  {
   "cell_type": "code",
   "execution_count": 23,
   "metadata": {},
   "outputs": [],
   "source": [
    "def freq_ranking(word):\n",
    "    val = dfranks['first'][word[0]] + dfranks['second'][word[1]] +dfranks['third'][word[2]] + dfranks['fourth'][word[3]] +dfranks['fifth'][word[4]]\n",
    "    return val"
   ]
  },
  {
   "cell_type": "code",
   "execution_count": 24,
   "metadata": {},
   "outputs": [],
   "source": [
    "df_word_ranks = pd.DataFrame({'word' : [],'value':[]})\n",
    "word_freq = {'word':'value'}\n",
    "for word in words5:\n",
    "    df_word_ranks.loc[len(df_word_ranks.index), 'word'] = word\n",
    "    df_word_ranks.loc[len(df_word_ranks.index)-1, 'value'] = freq_ranking(word)"
   ]
  },
  {
   "cell_type": "code",
   "execution_count": 25,
   "metadata": {},
   "outputs": [
    {
     "data": {
      "text/html": [
       "<div>\n",
       "<style scoped>\n",
       "    .dataframe tbody tr th:only-of-type {\n",
       "        vertical-align: middle;\n",
       "    }\n",
       "\n",
       "    .dataframe tbody tr th {\n",
       "        vertical-align: top;\n",
       "    }\n",
       "\n",
       "    .dataframe thead th {\n",
       "        text-align: right;\n",
       "    }\n",
       "</style>\n",
       "<table border=\"1\" class=\"dataframe\">\n",
       "  <thead>\n",
       "    <tr style=\"text-align: right;\">\n",
       "      <th></th>\n",
       "      <th>word</th>\n",
       "      <th>value</th>\n",
       "    </tr>\n",
       "  </thead>\n",
       "  <tbody>\n",
       "    <tr>\n",
       "      <th>0</th>\n",
       "      <td>cigar</td>\n",
       "      <td>4416.0</td>\n",
       "    </tr>\n",
       "    <tr>\n",
       "      <th>1</th>\n",
       "      <td>rebut</td>\n",
       "      <td>3719.0</td>\n",
       "    </tr>\n",
       "    <tr>\n",
       "      <th>2</th>\n",
       "      <td>sissy</td>\n",
       "      <td>5298.0</td>\n",
       "    </tr>\n",
       "    <tr>\n",
       "      <th>3</th>\n",
       "      <td>humph</td>\n",
       "      <td>2975.0</td>\n",
       "    </tr>\n",
       "    <tr>\n",
       "      <th>4</th>\n",
       "      <td>awake</td>\n",
       "      <td>4161.0</td>\n",
       "    </tr>\n",
       "  </tbody>\n",
       "</table>\n",
       "</div>"
      ],
      "text/plain": [
       "    word   value\n",
       "0  cigar  4416.0\n",
       "1  rebut  3719.0\n",
       "2  sissy  5298.0\n",
       "3  humph  2975.0\n",
       "4  awake  4161.0"
      ]
     },
     "execution_count": 25,
     "metadata": {},
     "output_type": "execute_result"
    }
   ],
   "source": [
    "df_word_ranks.head()"
   ]
  },
  {
   "cell_type": "code",
   "execution_count": 26,
   "metadata": {},
   "outputs": [],
   "source": [
    "df_word_ranks = df_word_ranks.merge(df_doubles,how='left')\n",
    "df_ranks_no_doubles = df_word_ranks.loc[df_word_ranks['double'] != True]"
   ]
  },
  {
   "cell_type": "code",
   "execution_count": 27,
   "metadata": {},
   "outputs": [],
   "source": [
    "df_word_ranks.to_csv('datasets/word_ranks.csv')"
   ]
  },
  {
   "cell_type": "code",
   "execution_count": 28,
   "metadata": {},
   "outputs": [
    {
     "data": {
      "text/html": [
       "<div>\n",
       "<style scoped>\n",
       "    .dataframe tbody tr th:only-of-type {\n",
       "        vertical-align: middle;\n",
       "    }\n",
       "\n",
       "    .dataframe tbody tr th {\n",
       "        vertical-align: top;\n",
       "    }\n",
       "\n",
       "    .dataframe thead th {\n",
       "        text-align: right;\n",
       "    }\n",
       "</style>\n",
       "<table border=\"1\" class=\"dataframe\">\n",
       "  <thead>\n",
       "    <tr style=\"text-align: right;\">\n",
       "      <th></th>\n",
       "      <th>word</th>\n",
       "      <th>value</th>\n",
       "      <th>double</th>\n",
       "    </tr>\n",
       "  </thead>\n",
       "  <tbody>\n",
       "    <tr>\n",
       "      <th>0</th>\n",
       "      <td>cigar</td>\n",
       "      <td>4416.0</td>\n",
       "      <td>NaN</td>\n",
       "    </tr>\n",
       "    <tr>\n",
       "      <th>1</th>\n",
       "      <td>rebut</td>\n",
       "      <td>3719.0</td>\n",
       "      <td>NaN</td>\n",
       "    </tr>\n",
       "    <tr>\n",
       "      <th>2</th>\n",
       "      <td>sissy</td>\n",
       "      <td>5298.0</td>\n",
       "      <td>True</td>\n",
       "    </tr>\n",
       "    <tr>\n",
       "      <th>3</th>\n",
       "      <td>humph</td>\n",
       "      <td>2975.0</td>\n",
       "      <td>True</td>\n",
       "    </tr>\n",
       "    <tr>\n",
       "      <th>4</th>\n",
       "      <td>awake</td>\n",
       "      <td>4161.0</td>\n",
       "      <td>True</td>\n",
       "    </tr>\n",
       "  </tbody>\n",
       "</table>\n",
       "</div>"
      ],
      "text/plain": [
       "    word   value double\n",
       "0  cigar  4416.0    NaN\n",
       "1  rebut  3719.0    NaN\n",
       "2  sissy  5298.0   True\n",
       "3  humph  2975.0   True\n",
       "4  awake  4161.0   True"
      ]
     },
     "execution_count": 28,
     "metadata": {},
     "output_type": "execute_result"
    }
   ],
   "source": [
    "df_word_ranks.head()"
   ]
  },
  {
   "cell_type": "code",
   "execution_count": 29,
   "metadata": {},
   "outputs": [
    {
     "name": "stdout",
     "output_type": "stream",
     "text": [
      "with doubles\n",
      "sores\n",
      "11144.0\n",
      "no double letters\n",
      "cares\n",
      "10668.0\n"
     ]
    }
   ],
   "source": [
    "print('with doubles')\n",
    "print (df_word_ranks['word'][df_word_ranks['value'].idxmax()])\n",
    "print (df_word_ranks['value'][df_word_ranks['value'].idxmax()])\n",
    "print('no double letters')\n",
    "print (df_ranks_no_doubles['word'][df_ranks_no_doubles['value'].idxmax()])\n",
    "print (df_ranks_no_doubles['value'][df_ranks_no_doubles['value'].idxmax()])"
   ]
  },
  {
   "cell_type": "code",
   "execution_count": 30,
   "metadata": {},
   "outputs": [
    {
     "data": {
      "text/html": [
       "<div>\n",
       "<style scoped>\n",
       "    .dataframe tbody tr th:only-of-type {\n",
       "        vertical-align: middle;\n",
       "    }\n",
       "\n",
       "    .dataframe tbody tr th {\n",
       "        vertical-align: top;\n",
       "    }\n",
       "\n",
       "    .dataframe thead th {\n",
       "        text-align: right;\n",
       "    }\n",
       "</style>\n",
       "<table border=\"1\" class=\"dataframe\">\n",
       "  <thead>\n",
       "    <tr style=\"text-align: right;\">\n",
       "      <th></th>\n",
       "      <th>word</th>\n",
       "      <th>value</th>\n",
       "      <th>double</th>\n",
       "    </tr>\n",
       "  </thead>\n",
       "  <tbody>\n",
       "    <tr>\n",
       "      <th>0</th>\n",
       "      <td>cigar</td>\n",
       "      <td>4416.0</td>\n",
       "      <td>NaN</td>\n",
       "    </tr>\n",
       "    <tr>\n",
       "      <th>2</th>\n",
       "      <td>sissy</td>\n",
       "      <td>5298.0</td>\n",
       "      <td>True</td>\n",
       "    </tr>\n",
       "    <tr>\n",
       "      <th>3</th>\n",
       "      <td>humph</td>\n",
       "      <td>2975.0</td>\n",
       "      <td>True</td>\n",
       "    </tr>\n",
       "    <tr>\n",
       "      <th>4</th>\n",
       "      <td>awake</td>\n",
       "      <td>4161.0</td>\n",
       "      <td>True</td>\n",
       "    </tr>\n",
       "    <tr>\n",
       "      <th>5</th>\n",
       "      <td>blush</td>\n",
       "      <td>3161.0</td>\n",
       "      <td>NaN</td>\n",
       "    </tr>\n",
       "    <tr>\n",
       "      <th>...</th>\n",
       "      <td>...</td>\n",
       "      <td>...</td>\n",
       "      <td>...</td>\n",
       "    </tr>\n",
       "    <tr>\n",
       "      <th>12967</th>\n",
       "      <td>zuzim</td>\n",
       "      <td>2496.0</td>\n",
       "      <td>True</td>\n",
       "    </tr>\n",
       "    <tr>\n",
       "      <th>12968</th>\n",
       "      <td>zygal</td>\n",
       "      <td>2290.0</td>\n",
       "      <td>NaN</td>\n",
       "    </tr>\n",
       "    <tr>\n",
       "      <th>12969</th>\n",
       "      <td>zygon</td>\n",
       "      <td>1968.0</td>\n",
       "      <td>NaN</td>\n",
       "    </tr>\n",
       "    <tr>\n",
       "      <th>12970</th>\n",
       "      <td>zymes</td>\n",
       "      <td>7172.0</td>\n",
       "      <td>NaN</td>\n",
       "    </tr>\n",
       "    <tr>\n",
       "      <th>12971</th>\n",
       "      <td>zymic</td>\n",
       "      <td>1894.0</td>\n",
       "      <td>NaN</td>\n",
       "    </tr>\n",
       "  </tbody>\n",
       "</table>\n",
       "<p>9939 rows × 3 columns</p>\n",
       "</div>"
      ],
      "text/plain": [
       "        word   value double\n",
       "0      cigar  4416.0    NaN\n",
       "2      sissy  5298.0   True\n",
       "3      humph  2975.0   True\n",
       "4      awake  4161.0   True\n",
       "5      blush  3161.0    NaN\n",
       "...      ...     ...    ...\n",
       "12967  zuzim  2496.0   True\n",
       "12968  zygal  2290.0    NaN\n",
       "12969  zygon  1968.0    NaN\n",
       "12970  zymes  7172.0    NaN\n",
       "12971  zymic  1894.0    NaN\n",
       "\n",
       "[9939 rows x 3 columns]"
      ]
     },
     "metadata": {},
     "output_type": "display_data"
    }
   ],
   "source": [
    "# here we determine the next best word based on results of the best word per wordle feedback\n",
    "# how to determine which items were elimiated\n",
    "#  ~ before a contains statement makes it a \"not\" I was lucky to find this\n",
    "display(df_word_ranks.loc[(~df_word_ranks['word'].str.contains('t'))])"
   ]
  },
  {
   "cell_type": "code",
   "execution_count": 31,
   "metadata": {},
   "outputs": [],
   "source": [
    "grey = ['s','l','a','t','e']"
   ]
  },
  {
   "cell_type": "code",
   "execution_count": 32,
   "metadata": {},
   "outputs": [
    {
     "data": {
      "text/html": [
       "<div>\n",
       "<style scoped>\n",
       "    .dataframe tbody tr th:only-of-type {\n",
       "        vertical-align: middle;\n",
       "    }\n",
       "\n",
       "    .dataframe tbody tr th {\n",
       "        vertical-align: top;\n",
       "    }\n",
       "\n",
       "    .dataframe thead th {\n",
       "        text-align: right;\n",
       "    }\n",
       "</style>\n",
       "<table border=\"1\" class=\"dataframe\">\n",
       "  <thead>\n",
       "    <tr style=\"text-align: right;\">\n",
       "      <th></th>\n",
       "      <th>word</th>\n",
       "      <th>value</th>\n",
       "      <th>double</th>\n",
       "    </tr>\n",
       "  </thead>\n",
       "  <tbody>\n",
       "    <tr>\n",
       "      <th>3</th>\n",
       "      <td>humph</td>\n",
       "      <td>2975.0</td>\n",
       "      <td>True</td>\n",
       "    </tr>\n",
       "    <tr>\n",
       "      <th>48</th>\n",
       "      <td>mimic</td>\n",
       "      <td>3594.0</td>\n",
       "      <td>True</td>\n",
       "    </tr>\n",
       "    <tr>\n",
       "      <th>49</th>\n",
       "      <td>pound</td>\n",
       "      <td>5233.0</td>\n",
       "      <td>NaN</td>\n",
       "    </tr>\n",
       "    <tr>\n",
       "      <th>54</th>\n",
       "      <td>booby</td>\n",
       "      <td>5542.0</td>\n",
       "      <td>True</td>\n",
       "    </tr>\n",
       "    <tr>\n",
       "      <th>59</th>\n",
       "      <td>ivory</td>\n",
       "      <td>3230.0</td>\n",
       "      <td>NaN</td>\n",
       "    </tr>\n",
       "    <tr>\n",
       "      <th>...</th>\n",
       "      <td>...</td>\n",
       "      <td>...</td>\n",
       "      <td>...</td>\n",
       "    </tr>\n",
       "    <tr>\n",
       "      <th>12955</th>\n",
       "      <td>zoppo</td>\n",
       "      <td>3372.0</td>\n",
       "      <td>True</td>\n",
       "    </tr>\n",
       "    <tr>\n",
       "      <th>12958</th>\n",
       "      <td>zorro</td>\n",
       "      <td>4507.0</td>\n",
       "      <td>True</td>\n",
       "    </tr>\n",
       "    <tr>\n",
       "      <th>12967</th>\n",
       "      <td>zuzim</td>\n",
       "      <td>2496.0</td>\n",
       "      <td>True</td>\n",
       "    </tr>\n",
       "    <tr>\n",
       "      <th>12969</th>\n",
       "      <td>zygon</td>\n",
       "      <td>1968.0</td>\n",
       "      <td>NaN</td>\n",
       "    </tr>\n",
       "    <tr>\n",
       "      <th>12971</th>\n",
       "      <td>zymic</td>\n",
       "      <td>1894.0</td>\n",
       "      <td>NaN</td>\n",
       "    </tr>\n",
       "  </tbody>\n",
       "</table>\n",
       "<p>865 rows × 3 columns</p>\n",
       "</div>"
      ],
      "text/plain": [
       "        word   value double\n",
       "3      humph  2975.0   True\n",
       "48     mimic  3594.0   True\n",
       "49     pound  5233.0    NaN\n",
       "54     booby  5542.0   True\n",
       "59     ivory  3230.0    NaN\n",
       "...      ...     ...    ...\n",
       "12955  zoppo  3372.0   True\n",
       "12958  zorro  4507.0   True\n",
       "12967  zuzim  2496.0   True\n",
       "12969  zygon  1968.0    NaN\n",
       "12971  zymic  1894.0    NaN\n",
       "\n",
       "[865 rows x 3 columns]"
      ]
     },
     "execution_count": 32,
     "metadata": {},
     "output_type": "execute_result"
    }
   ],
   "source": [
    "df_sub = df_word_ranks\n",
    "for l in grey:\n",
    "    # print(l)\n",
    "    # print(str(len(df_sub.index)))\n",
    "    df_sub = (df_sub.loc[(~df_sub['word'].str.contains(l))])\n",
    "df_sub"
   ]
  },
  {
   "cell_type": "code",
   "execution_count": 33,
   "metadata": {},
   "outputs": [
    {
     "name": "stdout",
     "output_type": "stream",
     "text": [
      "corny\n",
      "6305.0\n"
     ]
    }
   ],
   "source": [
    "print (df_sub['word'][df_sub['value'].idxmax()])\n",
    "print (df_sub['value'][df_sub['value'].idxmax()])"
   ]
  },
  {
   "cell_type": "code",
   "execution_count": 34,
   "metadata": {},
   "outputs": [
    {
     "name": "stdout",
     "output_type": "stream",
     "text": [
      "2\n"
     ]
    }
   ],
   "source": [
    "test = \"dogg\"\n",
    "print(test.count('g'))"
   ]
  },
  {
   "cell_type": "code",
   "execution_count": 35,
   "metadata": {},
   "outputs": [
    {
     "name": "stdout",
     "output_type": "stream",
     "text": [
      "exact char match on letter c in positions 0\n",
      "exact char match on letter c in positions 1\n"
     ]
    }
   ],
   "source": [
    "word = 'score'\n",
    "guess = 'scres'\n",
    "score = 0\n",
    "\n",
    "for i in range(0,4):\n",
    "    # find character match in locations\n",
    "    if guess[i]==word[i]:\n",
    "        print(f'exact char match on letter {letter} in positions {i}')\n",
    "        score += 2"
   ]
  },
  {
   "cell_type": "code",
   "execution_count": 36,
   "metadata": {},
   "outputs": [
    {
     "name": "stdout",
     "output_type": "stream",
     "text": [
      "0\n",
      "write\n",
      "1\n",
      "fight\n",
      "2\n",
      "soyet\n",
      "3\n",
      "cleat\n"
     ]
    },
    {
     "data": {
      "text/html": [
       "<div>\n",
       "<style scoped>\n",
       "    .dataframe tbody tr th:only-of-type {\n",
       "        vertical-align: middle;\n",
       "    }\n",
       "\n",
       "    .dataframe tbody tr th {\n",
       "        vertical-align: top;\n",
       "    }\n",
       "\n",
       "    .dataframe thead th {\n",
       "        text-align: right;\n",
       "    }\n",
       "</style>\n",
       "<table border=\"1\" class=\"dataframe\">\n",
       "  <thead>\n",
       "    <tr style=\"text-align: right;\">\n",
       "      <th></th>\n",
       "      <th>guess</th>\n",
       "      <th>score</th>\n",
       "      <th>answer</th>\n",
       "    </tr>\n",
       "  </thead>\n",
       "  <tbody>\n",
       "    <tr>\n",
       "      <th>0</th>\n",
       "      <td>scres</td>\n",
       "      <td>4.0</td>\n",
       "      <td>write</td>\n",
       "    </tr>\n",
       "    <tr>\n",
       "      <th>1</th>\n",
       "      <td>scres</td>\n",
       "      <td>4.0</td>\n",
       "      <td>fight</td>\n",
       "    </tr>\n",
       "    <tr>\n",
       "      <th>2</th>\n",
       "      <td>scres</td>\n",
       "      <td>4.0</td>\n",
       "      <td>soyet</td>\n",
       "    </tr>\n",
       "    <tr>\n",
       "      <th>3</th>\n",
       "      <td>scres</td>\n",
       "      <td>4.0</td>\n",
       "      <td>cleat</td>\n",
       "    </tr>\n",
       "  </tbody>\n",
       "</table>\n",
       "</div>"
      ],
      "text/plain": [
       "   guess  score answer\n",
       "0  scres    4.0  write\n",
       "1  scres    4.0  fight\n",
       "2  scres    4.0  soyet\n",
       "3  scres    4.0  cleat"
      ]
     },
     "execution_count": 36,
     "metadata": {},
     "output_type": "execute_result"
    }
   ],
   "source": [
    "solution = ['write','fight','soyet','cleat']\n",
    "\n",
    "df_geuss_value = pd.DataFrame({'guess' : [],'score':[], 'answer':[]})\n",
    "\n",
    "for idx, word in enumerate(solution):\n",
    "    print(str(idx))\n",
    "    print(str(word))\n",
    "\n",
    "    df_geuss_value.loc[idx, 'guess'] = guess\n",
    "    df_geuss_value.loc[idx, 'score'] = score\n",
    "    df_geuss_value.loc[idx, 'answer'] = word\n",
    "\n",
    "df_geuss_value"
   ]
  },
  {
   "cell_type": "code",
   "execution_count": 37,
   "metadata": {},
   "outputs": [
    {
     "data": {
      "text/html": [
       "<div>\n",
       "<style scoped>\n",
       "    .dataframe tbody tr th:only-of-type {\n",
       "        vertical-align: middle;\n",
       "    }\n",
       "\n",
       "    .dataframe tbody tr th {\n",
       "        vertical-align: top;\n",
       "    }\n",
       "\n",
       "    .dataframe thead th {\n",
       "        text-align: right;\n",
       "    }\n",
       "</style>\n",
       "<table border=\"1\" class=\"dataframe\">\n",
       "  <thead>\n",
       "    <tr style=\"text-align: right;\">\n",
       "      <th></th>\n",
       "      <th>guess</th>\n",
       "      <th>score</th>\n",
       "      <th>answer</th>\n",
       "    </tr>\n",
       "  </thead>\n",
       "  <tbody>\n",
       "    <tr>\n",
       "      <th>0</th>\n",
       "      <td>scres</td>\n",
       "      <td>4.0</td>\n",
       "      <td>write</td>\n",
       "    </tr>\n",
       "    <tr>\n",
       "      <th>1</th>\n",
       "      <td>scres</td>\n",
       "      <td>4.0</td>\n",
       "      <td>fight</td>\n",
       "    </tr>\n",
       "    <tr>\n",
       "      <th>2</th>\n",
       "      <td>scres</td>\n",
       "      <td>4.0</td>\n",
       "      <td>soyet</td>\n",
       "    </tr>\n",
       "    <tr>\n",
       "      <th>3</th>\n",
       "      <td>scres</td>\n",
       "      <td>4.0</td>\n",
       "      <td>cleat</td>\n",
       "    </tr>\n",
       "  </tbody>\n",
       "</table>\n",
       "</div>"
      ],
      "text/plain": [
       "   guess  score answer\n",
       "0  scres    4.0  write\n",
       "1  scres    4.0  fight\n",
       "2  scres    4.0  soyet\n",
       "3  scres    4.0  cleat"
      ]
     },
     "execution_count": 37,
     "metadata": {},
     "output_type": "execute_result"
    }
   ],
   "source": [
    "df_geuss_value.head()"
   ]
  },
  {
   "cell_type": "code",
   "execution_count": 38,
   "metadata": {},
   "outputs": [],
   "source": [
    "df_geuss_value = pd.DataFrame({'guess':[],'score_match':[], 'answer':[], 'score_exact_match':[]})"
   ]
  },
  {
   "cell_type": "code",
   "execution_count": 39,
   "metadata": {},
   "outputs": [],
   "source": [
    "# turn my existing loop into a function that can be parallelized\n",
    "def word_val(guess, solution_list):\n",
    "    df_geuss_value = pd.DataFrame({'guess':[],'score_match':[], 'answer':[], 'score_exact_match':[]})\n",
    "\n",
    "\n",
    "# make a smaller dataframe for each guess and have that be appended to the larger dataframe for each individual guess\n",
    "\n",
    "\n",
    "    for idx, word in enumerate(solution_list):\n",
    "        results = []\n",
    "        score = 0\n",
    "        score_exact = 0\n",
    "        # print(word)\n",
    "        for letter in guess:\n",
    "    # match of letter\n",
    "    # give one point\n",
    "            # print(f' for the guess {guess}, and the answer {word} the score for letter: {letter} is {word.count(letter)}')\n",
    "            score += int(word.count(letter))\n",
    "        if word.count(letter) >=1:\n",
    "            for i in range(0,4):\n",
    "    # find character match in locations\n",
    "                char = guess[i]\n",
    "                if guess[i]==word[i]:\n",
    "                    # print(f'exact char match on letter {char} in positions {i}')\n",
    "                    score_exact += 1\n",
    "        \n",
    "        df_geuss_value.loc[idx, 'guess'] = guess\n",
    "        df_geuss_value.loc[idx, 'score_match'] = score\n",
    "        df_geuss_value.loc[idx, 'answer'] = word\n",
    "        df_geuss_value.loc[idx, 'score_exact_match'] = score_exact\n",
    "\n",
    "    # results.append(guess)\n",
    "    # results.append(score)\n",
    "    # results.append(word)\n",
    "    # results.append(score_exact)\n",
    "    # results.append(idx)\n",
    "\n",
    "    return df_geuss_value\n",
    "\n"
   ]
  },
  {
   "cell_type": "code",
   "execution_count": 40,
   "metadata": {},
   "outputs": [],
   "source": [
    "def row_results(results_df):\n",
    "    # global df_geuss_value\n",
    "    # df_geuss_value.loc[idx, 'guess'] = results[0]\n",
    "    # df_geuss_value.loc[idx, 'score_match'] = results[1]\n",
    "    # df_geuss_value.loc[idx, 'answer'] = results[2]\n",
    "    # df_geuss_value.loc[idx, 'score_exact_match'] = results[3]\n",
    "    global df_geuss_value\n",
    "    df_geuss_value = df_geuss_value.append(results_df)\n",
    "    # df_geuss_value = pd.concat(results_df)\n"
   ]
  },
  {
   "cell_type": "code",
   "execution_count": 41,
   "metadata": {},
   "outputs": [],
   "source": [
    "few_guesses = guesses[0:50]\n",
    "# few_guesses"
   ]
  },
  {
   "cell_type": "code",
   "execution_count": 42,
   "metadata": {},
   "outputs": [],
   "source": [
    "# warnings.filterwarnings(action='once')\n",
    "\n",
    "# for idx, guess in enumerate(few_guesses):\n",
    "#     # print(guess)\n",
    "#     # print(word_val(guess,solutions))\n",
    "#     row_results(word_val(guess,solutions))"
   ]
  },
  {
   "cell_type": "code",
   "execution_count": 43,
   "metadata": {},
   "outputs": [
    {
     "name": "stdout",
     "output_type": "stream",
     "text": [
      "Empty DataFrame\n",
      "Columns: [guess, score_match, answer, score_exact_match]\n",
      "Index: []\n",
      "0\n"
     ]
    }
   ],
   "source": [
    "print(df_geuss_value.head())\n",
    "index = df_geuss_value.index\n",
    "number_of_rows = len(index)\n",
    "print(number_of_rows)\n",
    "df_geuss_value.to_csv('datasets/guess_value_iterations_guesses')"
   ]
  },
  {
   "cell_type": "code",
   "execution_count": 44,
   "metadata": {},
   "outputs": [],
   "source": [
    "df_geuss_value = pd.DataFrame({'guess':[],'score_match':[], 'answer':[], 'score_exact_match':[]})"
   ]
  },
  {
   "cell_type": "code",
   "execution_count": 45,
   "metadata": {},
   "outputs": [
    {
     "name": "stdout",
     "output_type": "stream",
     "text": [
      "Number of CPUs availible: 16\n"
     ]
    }
   ],
   "source": [
    "print(f'Number of CPUs availible: {mp.cpu_count()}')\n",
    "pool_count = mp.cpu_count() -2\n",
    "pool = mp.Pool(pool_count)\n",
    "# pool = mp.Pool(8) # if you would like to use less of your PC's total threads just specify a number less than your total here "
   ]
  },
  {
   "cell_type": "code",
   "execution_count": 54,
   "metadata": {},
   "outputs": [],
   "source": [
    "# if you plan to run this, it will take a while, this took 46 minutes over 14 threads the last time I ran it.\n",
    "\n",
    "for guess in guesses:\n",
    "    pool.apply_async(word_val, args=(guess,solutions),callback=row_results)\n",
    "\n",
    "pool.close()\n",
    "pool.join()"
   ]
  },
  {
   "cell_type": "code",
   "execution_count": 55,
   "metadata": {},
   "outputs": [
    {
     "name": "stdout",
     "output_type": "stream",
     "text": [
      "   guess  score_match answer  score_exact_match\n",
      "0  cigar          5.0  cigar                4.0\n",
      "1  cigar          1.0  rebut                0.0\n",
      "2  cigar          1.0  sissy                0.0\n",
      "3  cigar          0.0  humph                0.0\n",
      "4  cigar          2.0  awake                0.0\n",
      "30030180\n"
     ]
    }
   ],
   "source": [
    "print(df_geuss_value.head())\n",
    "index = df_geuss_value.index\n",
    "number_of_rows = len(index)\n",
    "print(number_of_rows)\n",
    "df_geuss_value.to_csv('datasets/guess_value_iterations_guesses.csv') # this file will be too large for github and I've not included it"
   ]
  }
 ],
 "metadata": {
  "interpreter": {
   "hash": "89c9495d7288a841850a3e94f59b3b05e223feb05ad00310e8b7beb8d89f2966"
  },
  "kernelspec": {
   "display_name": "Python 3.10.1 64-bit ('pingme-0wiYN-f2': pipenv)",
   "language": "python",
   "name": "python3"
  },
  "language_info": {
   "codemirror_mode": {
    "name": "ipython",
    "version": 3
   },
   "file_extension": ".py",
   "mimetype": "text/x-python",
   "name": "python",
   "nbconvert_exporter": "python",
   "pygments_lexer": "ipython3",
   "version": "3.10.2"
  },
  "orig_nbformat": 4
 },
 "nbformat": 4,
 "nbformat_minor": 2
}
