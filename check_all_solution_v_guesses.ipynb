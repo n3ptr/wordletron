{
 "cells": [
  {
   "cell_type": "code",
   "execution_count": 1,
   "metadata": {},
   "outputs": [],
   "source": [
    "# from english_words import english_words_set\\\n",
    "import multiprocessing as mp\n",
    "import warnings\n",
    "import pandas as pd\n",
    "import numpy as np"
   ]
  },
  {
   "cell_type": "code",
   "execution_count": 2,
   "metadata": {},
   "outputs": [],
   "source": [
    "warnings.filterwarnings('ignore')"
   ]
  },
  {
   "cell_type": "code",
   "execution_count": 3,
   "metadata": {},
   "outputs": [
    {
     "name": "stdout",
     "output_type": "stream",
     "text": [
      "12972\n"
     ]
    }
   ],
   "source": [
    "f = open('guesses.txt','r')\n",
    "guesses = []\n",
    "\n",
    "for line in f:\n",
    "    guesses.append(line.strip())\n",
    "\n",
    "print(str(len(guesses)))"
   ]
  },
  {
   "cell_type": "code",
   "execution_count": 4,
   "metadata": {},
   "outputs": [
    {
     "name": "stdout",
     "output_type": "stream",
     "text": [
      "2315\n"
     ]
    }
   ],
   "source": [
    "f = open('solutions.txt','r')\n",
    "solutions = []\n",
    "\n",
    "for line in f:\n",
    "    solutions.append(line.strip())\n",
    "\n",
    "print(str(len(solutions)))"
   ]
  },
  {
   "cell_type": "code",
   "execution_count": 5,
   "metadata": {},
   "outputs": [],
   "source": [
    "words5 = solutions"
   ]
  },
  {
   "cell_type": "code",
   "execution_count": 6,
   "metadata": {},
   "outputs": [
    {
     "name": "stdout",
     "output_type": "stream",
     "text": [
      "[]\n"
     ]
    }
   ],
   "source": [
    "# this should be an empty list, checking to be sure we do not have non alpha chars in the words\n",
    "print([i for i in words5 if not i.isalpha()])"
   ]
  },
  {
   "cell_type": "code",
   "execution_count": 7,
   "metadata": {},
   "outputs": [
    {
     "data": {
      "text/plain": [
       "2315"
      ]
     },
     "execution_count": 7,
     "metadata": {},
     "output_type": "execute_result"
    }
   ],
   "source": [
    "len(words5)"
   ]
  },
  {
   "cell_type": "code",
   "execution_count": 8,
   "metadata": {},
   "outputs": [],
   "source": [
    "# word = 'wifie'\n",
    "word_doubles = []\n",
    "for word in words5:\n",
    "    word_counts = 0\n",
    "    for letter in word:\n",
    "        # print(word)\n",
    "        # print(letter)\n",
    "        # print(str(word.count(letter)))\n",
    "        word_counts += word.count(letter)\n",
    "    if word_counts > 5:\n",
    "        word_doubles.append(word)"
   ]
  },
  {
   "cell_type": "code",
   "execution_count": 9,
   "metadata": {},
   "outputs": [
    {
     "data": {
      "text/plain": [
       "749"
      ]
     },
     "execution_count": 9,
     "metadata": {},
     "output_type": "execute_result"
    }
   ],
   "source": [
    "len(word_doubles)"
   ]
  },
  {
   "cell_type": "code",
   "execution_count": 10,
   "metadata": {},
   "outputs": [],
   "source": [
    "df_words = pd.DataFrame(words5)\n",
    "df_words.columns=['words']\n",
    "\n",
    "df_doubles = pd.DataFrame(word_doubles)\n",
    "df_doubles.columns=['word']"
   ]
  },
  {
   "cell_type": "code",
   "execution_count": 11,
   "metadata": {},
   "outputs": [],
   "source": [
    "df_doubles['double']=True"
   ]
  },
  {
   "cell_type": "code",
   "execution_count": 12,
   "metadata": {},
   "outputs": [
    {
     "data": {
      "text/html": [
       "<div>\n",
       "<style scoped>\n",
       "    .dataframe tbody tr th:only-of-type {\n",
       "        vertical-align: middle;\n",
       "    }\n",
       "\n",
       "    .dataframe tbody tr th {\n",
       "        vertical-align: top;\n",
       "    }\n",
       "\n",
       "    .dataframe thead th {\n",
       "        text-align: right;\n",
       "    }\n",
       "</style>\n",
       "<table border=\"1\" class=\"dataframe\">\n",
       "  <thead>\n",
       "    <tr style=\"text-align: right;\">\n",
       "      <th></th>\n",
       "      <th>word</th>\n",
       "      <th>double</th>\n",
       "    </tr>\n",
       "  </thead>\n",
       "  <tbody>\n",
       "    <tr>\n",
       "      <th>0</th>\n",
       "      <td>sissy</td>\n",
       "      <td>True</td>\n",
       "    </tr>\n",
       "    <tr>\n",
       "      <th>1</th>\n",
       "      <td>humph</td>\n",
       "      <td>True</td>\n",
       "    </tr>\n",
       "    <tr>\n",
       "      <th>2</th>\n",
       "      <td>awake</td>\n",
       "      <td>True</td>\n",
       "    </tr>\n",
       "    <tr>\n",
       "      <th>3</th>\n",
       "      <td>evade</td>\n",
       "      <td>True</td>\n",
       "    </tr>\n",
       "    <tr>\n",
       "      <th>4</th>\n",
       "      <td>naval</td>\n",
       "      <td>True</td>\n",
       "    </tr>\n",
       "  </tbody>\n",
       "</table>\n",
       "</div>"
      ],
      "text/plain": [
       "    word  double\n",
       "0  sissy    True\n",
       "1  humph    True\n",
       "2  awake    True\n",
       "3  evade    True\n",
       "4  naval    True"
      ]
     },
     "execution_count": 12,
     "metadata": {},
     "output_type": "execute_result"
    }
   ],
   "source": [
    "df_doubles.head()"
   ]
  },
  {
   "cell_type": "code",
   "execution_count": 13,
   "metadata": {},
   "outputs": [],
   "source": [
    "df_words['first'] = df_words['words'].str.slice(0,1)\n",
    "df_words['second'] = df_words['words'].str.slice(1,2)\n",
    "df_words['third'] = df_words['words'].str.slice(2,3)\n",
    "df_words['fourth'] = df_words['words'].str.slice(3,4)\n",
    "df_words['fifth'] = df_words['words'].str.slice(4,5)"
   ]
  },
  {
   "cell_type": "code",
   "execution_count": 14,
   "metadata": {},
   "outputs": [
    {
     "data": {
      "text/html": [
       "<div>\n",
       "<style scoped>\n",
       "    .dataframe tbody tr th:only-of-type {\n",
       "        vertical-align: middle;\n",
       "    }\n",
       "\n",
       "    .dataframe tbody tr th {\n",
       "        vertical-align: top;\n",
       "    }\n",
       "\n",
       "    .dataframe thead th {\n",
       "        text-align: right;\n",
       "    }\n",
       "</style>\n",
       "<table border=\"1\" class=\"dataframe\">\n",
       "  <thead>\n",
       "    <tr style=\"text-align: right;\">\n",
       "      <th></th>\n",
       "      <th>words</th>\n",
       "      <th>first</th>\n",
       "      <th>second</th>\n",
       "      <th>third</th>\n",
       "      <th>fourth</th>\n",
       "      <th>fifth</th>\n",
       "    </tr>\n",
       "  </thead>\n",
       "  <tbody>\n",
       "    <tr>\n",
       "      <th>0</th>\n",
       "      <td>cigar</td>\n",
       "      <td>c</td>\n",
       "      <td>i</td>\n",
       "      <td>g</td>\n",
       "      <td>a</td>\n",
       "      <td>r</td>\n",
       "    </tr>\n",
       "    <tr>\n",
       "      <th>1</th>\n",
       "      <td>rebut</td>\n",
       "      <td>r</td>\n",
       "      <td>e</td>\n",
       "      <td>b</td>\n",
       "      <td>u</td>\n",
       "      <td>t</td>\n",
       "    </tr>\n",
       "    <tr>\n",
       "      <th>2</th>\n",
       "      <td>sissy</td>\n",
       "      <td>s</td>\n",
       "      <td>i</td>\n",
       "      <td>s</td>\n",
       "      <td>s</td>\n",
       "      <td>y</td>\n",
       "    </tr>\n",
       "    <tr>\n",
       "      <th>3</th>\n",
       "      <td>humph</td>\n",
       "      <td>h</td>\n",
       "      <td>u</td>\n",
       "      <td>m</td>\n",
       "      <td>p</td>\n",
       "      <td>h</td>\n",
       "    </tr>\n",
       "    <tr>\n",
       "      <th>4</th>\n",
       "      <td>awake</td>\n",
       "      <td>a</td>\n",
       "      <td>w</td>\n",
       "      <td>a</td>\n",
       "      <td>k</td>\n",
       "      <td>e</td>\n",
       "    </tr>\n",
       "  </tbody>\n",
       "</table>\n",
       "</div>"
      ],
      "text/plain": [
       "   words first second third fourth fifth\n",
       "0  cigar     c      i     g      a     r\n",
       "1  rebut     r      e     b      u     t\n",
       "2  sissy     s      i     s      s     y\n",
       "3  humph     h      u     m      p     h\n",
       "4  awake     a      w     a      k     e"
      ]
     },
     "execution_count": 14,
     "metadata": {},
     "output_type": "execute_result"
    }
   ],
   "source": [
    "df_words.head()"
   ]
  },
  {
   "cell_type": "code",
   "execution_count": 15,
   "metadata": {},
   "outputs": [
    {
     "data": {
      "text/plain": [
       "False"
      ]
     },
     "execution_count": 15,
     "metadata": {},
     "output_type": "execute_result"
    }
   ],
   "source": [
    "df_words['first'][0]==df_words['second'][0]"
   ]
  },
  {
   "cell_type": "code",
   "execution_count": 16,
   "metadata": {},
   "outputs": [],
   "source": [
    "aplhas = ['a','b','c','d','e','f','g','h','i','j','k','l','m','n','o','p','q','r','s','t','u','v','w','x','y','z']"
   ]
  },
  {
   "cell_type": "code",
   "execution_count": 17,
   "metadata": {},
   "outputs": [],
   "source": [
    "dfalpha = pd.DataFrame(aplhas)\n",
    "dfalpha.columns = ['letters']\n",
    "dfalpha.set_index('letters', inplace=True)"
   ]
  },
  {
   "cell_type": "code",
   "execution_count": 18,
   "metadata": {},
   "outputs": [],
   "source": [
    "# build the frequerncy table from each smaller dataframe\n",
    "df_counts = df_words['first'].value_counts()\n",
    "df_counts_second = df_words['second'].value_counts()\n",
    "df_counts_third = df_words['third'].value_counts()\n",
    "df_counts_fourth = df_words['fourth'].value_counts()\n",
    "df_counts_fifth = df_words['fifth'].value_counts()\n",
    "\n",
    "dfranks = pd.concat([dfalpha, df_counts], axis=1)\n",
    "dfranks = pd.concat([dfranks, df_counts_second], axis=1)\n",
    "dfranks = pd.concat([dfranks, df_counts_third], axis=1)\n",
    "dfranks = pd.concat([dfranks, df_counts_fourth], axis=1)\n",
    "dfranks = pd.concat([dfranks, df_counts_fifth], axis=1)"
   ]
  },
  {
   "cell_type": "code",
   "execution_count": 19,
   "metadata": {},
   "outputs": [
    {
     "data": {
      "text/plain": [
       "s    366\n",
       "c    198\n",
       "b    173\n",
       "t    149\n",
       "p    142\n",
       "Name: first, dtype: int64"
      ]
     },
     "execution_count": 19,
     "metadata": {},
     "output_type": "execute_result"
    }
   ],
   "source": [
    "df_counts.head()"
   ]
  },
  {
   "cell_type": "code",
   "execution_count": 20,
   "metadata": {},
   "outputs": [
    {
     "data": {
      "text/html": [
       "<div>\n",
       "<style scoped>\n",
       "    .dataframe tbody tr th:only-of-type {\n",
       "        vertical-align: middle;\n",
       "    }\n",
       "\n",
       "    .dataframe tbody tr th {\n",
       "        vertical-align: top;\n",
       "    }\n",
       "\n",
       "    .dataframe thead th {\n",
       "        text-align: right;\n",
       "    }\n",
       "</style>\n",
       "<table border=\"1\" class=\"dataframe\">\n",
       "  <thead>\n",
       "    <tr style=\"text-align: right;\">\n",
       "      <th></th>\n",
       "      <th>first</th>\n",
       "      <th>second</th>\n",
       "      <th>third</th>\n",
       "      <th>fourth</th>\n",
       "      <th>fifth</th>\n",
       "    </tr>\n",
       "  </thead>\n",
       "  <tbody>\n",
       "    <tr>\n",
       "      <th>a</th>\n",
       "      <td>141.0</td>\n",
       "      <td>304</td>\n",
       "      <td>307</td>\n",
       "      <td>163.0</td>\n",
       "      <td>64.0</td>\n",
       "    </tr>\n",
       "    <tr>\n",
       "      <th>b</th>\n",
       "      <td>173.0</td>\n",
       "      <td>16</td>\n",
       "      <td>57</td>\n",
       "      <td>24.0</td>\n",
       "      <td>11.0</td>\n",
       "    </tr>\n",
       "    <tr>\n",
       "      <th>c</th>\n",
       "      <td>198.0</td>\n",
       "      <td>40</td>\n",
       "      <td>56</td>\n",
       "      <td>152.0</td>\n",
       "      <td>31.0</td>\n",
       "    </tr>\n",
       "    <tr>\n",
       "      <th>d</th>\n",
       "      <td>111.0</td>\n",
       "      <td>20</td>\n",
       "      <td>75</td>\n",
       "      <td>69.0</td>\n",
       "      <td>118.0</td>\n",
       "    </tr>\n",
       "    <tr>\n",
       "      <th>e</th>\n",
       "      <td>72.0</td>\n",
       "      <td>242</td>\n",
       "      <td>177</td>\n",
       "      <td>318.0</td>\n",
       "      <td>424.0</td>\n",
       "    </tr>\n",
       "  </tbody>\n",
       "</table>\n",
       "</div>"
      ],
      "text/plain": [
       "   first  second  third  fourth  fifth\n",
       "a  141.0     304    307   163.0   64.0\n",
       "b  173.0      16     57    24.0   11.0\n",
       "c  198.0      40     56   152.0   31.0\n",
       "d  111.0      20     75    69.0  118.0\n",
       "e   72.0     242    177   318.0  424.0"
      ]
     },
     "execution_count": 20,
     "metadata": {},
     "output_type": "execute_result"
    }
   ],
   "source": [
    "dfranks.head()"
   ]
  },
  {
   "cell_type": "code",
   "execution_count": 21,
   "metadata": {},
   "outputs": [
    {
     "data": {
      "text/plain": [
       "141.0"
      ]
     },
     "execution_count": 21,
     "metadata": {},
     "output_type": "execute_result"
    }
   ],
   "source": [
    "dfranks['first']['a']"
   ]
  },
  {
   "cell_type": "code",
   "execution_count": 22,
   "metadata": {},
   "outputs": [],
   "source": [
    "def freq_ranking(word):\n",
    "    val = dfranks['first'][word[0]] + dfranks['second'][word[1]] +dfranks['third'][word[2]] + dfranks['fourth'][word[3]] +dfranks['fifth'][word[4]]\n",
    "    return val"
   ]
  },
  {
   "cell_type": "code",
   "execution_count": 23,
   "metadata": {},
   "outputs": [],
   "source": [
    "df_word_ranks = pd.DataFrame({'word' : [],'value':[]})\n",
    "word_freq = {'word':'value'}\n",
    "for word in words5:\n",
    "    df_word_ranks.loc[len(df_word_ranks.index), 'word'] = word\n",
    "    df_word_ranks.loc[len(df_word_ranks.index)-1, 'value'] = freq_ranking(word)"
   ]
  },
  {
   "cell_type": "code",
   "execution_count": 24,
   "metadata": {},
   "outputs": [
    {
     "data": {
      "text/html": [
       "<div>\n",
       "<style scoped>\n",
       "    .dataframe tbody tr th:only-of-type {\n",
       "        vertical-align: middle;\n",
       "    }\n",
       "\n",
       "    .dataframe tbody tr th {\n",
       "        vertical-align: top;\n",
       "    }\n",
       "\n",
       "    .dataframe thead th {\n",
       "        text-align: right;\n",
       "    }\n",
       "</style>\n",
       "<table border=\"1\" class=\"dataframe\">\n",
       "  <thead>\n",
       "    <tr style=\"text-align: right;\">\n",
       "      <th></th>\n",
       "      <th>word</th>\n",
       "      <th>value</th>\n",
       "    </tr>\n",
       "  </thead>\n",
       "  <tbody>\n",
       "    <tr>\n",
       "      <th>0</th>\n",
       "      <td>cigar</td>\n",
       "      <td>842.0</td>\n",
       "    </tr>\n",
       "    <tr>\n",
       "      <th>1</th>\n",
       "      <td>rebut</td>\n",
       "      <td>739.0</td>\n",
       "    </tr>\n",
       "    <tr>\n",
       "      <th>2</th>\n",
       "      <td>sissy</td>\n",
       "      <td>1183.0</td>\n",
       "    </tr>\n",
       "    <tr>\n",
       "      <th>3</th>\n",
       "      <td>humph</td>\n",
       "      <td>505.0</td>\n",
       "    </tr>\n",
       "    <tr>\n",
       "      <th>4</th>\n",
       "      <td>awake</td>\n",
       "      <td>971.0</td>\n",
       "    </tr>\n",
       "  </tbody>\n",
       "</table>\n",
       "</div>"
      ],
      "text/plain": [
       "    word   value\n",
       "0  cigar   842.0\n",
       "1  rebut   739.0\n",
       "2  sissy  1183.0\n",
       "3  humph   505.0\n",
       "4  awake   971.0"
      ]
     },
     "execution_count": 24,
     "metadata": {},
     "output_type": "execute_result"
    }
   ],
   "source": [
    "df_word_ranks.head()"
   ]
  },
  {
   "cell_type": "code",
   "execution_count": 25,
   "metadata": {},
   "outputs": [],
   "source": [
    "df_word_ranks = df_word_ranks.merge(df_doubles,how='left')\n",
    "df_ranks_no_doubles = df_word_ranks.loc[df_word_ranks['double'] != True]"
   ]
  },
  {
   "cell_type": "code",
   "execution_count": 26,
   "metadata": {},
   "outputs": [],
   "source": [
    "df_word_ranks.to_csv('word_ranks')"
   ]
  },
  {
   "cell_type": "code",
   "execution_count": 27,
   "metadata": {},
   "outputs": [
    {
     "data": {
      "text/html": [
       "<div>\n",
       "<style scoped>\n",
       "    .dataframe tbody tr th:only-of-type {\n",
       "        vertical-align: middle;\n",
       "    }\n",
       "\n",
       "    .dataframe tbody tr th {\n",
       "        vertical-align: top;\n",
       "    }\n",
       "\n",
       "    .dataframe thead th {\n",
       "        text-align: right;\n",
       "    }\n",
       "</style>\n",
       "<table border=\"1\" class=\"dataframe\">\n",
       "  <thead>\n",
       "    <tr style=\"text-align: right;\">\n",
       "      <th></th>\n",
       "      <th>word</th>\n",
       "      <th>value</th>\n",
       "      <th>double</th>\n",
       "    </tr>\n",
       "  </thead>\n",
       "  <tbody>\n",
       "    <tr>\n",
       "      <th>0</th>\n",
       "      <td>cigar</td>\n",
       "      <td>842.0</td>\n",
       "      <td>NaN</td>\n",
       "    </tr>\n",
       "    <tr>\n",
       "      <th>1</th>\n",
       "      <td>rebut</td>\n",
       "      <td>739.0</td>\n",
       "      <td>NaN</td>\n",
       "    </tr>\n",
       "    <tr>\n",
       "      <th>2</th>\n",
       "      <td>sissy</td>\n",
       "      <td>1183.0</td>\n",
       "      <td>True</td>\n",
       "    </tr>\n",
       "    <tr>\n",
       "      <th>3</th>\n",
       "      <td>humph</td>\n",
       "      <td>505.0</td>\n",
       "      <td>True</td>\n",
       "    </tr>\n",
       "    <tr>\n",
       "      <th>4</th>\n",
       "      <td>awake</td>\n",
       "      <td>971.0</td>\n",
       "      <td>True</td>\n",
       "    </tr>\n",
       "  </tbody>\n",
       "</table>\n",
       "</div>"
      ],
      "text/plain": [
       "    word   value double\n",
       "0  cigar   842.0    NaN\n",
       "1  rebut   739.0    NaN\n",
       "2  sissy  1183.0   True\n",
       "3  humph   505.0   True\n",
       "4  awake   971.0   True"
      ]
     },
     "execution_count": 27,
     "metadata": {},
     "output_type": "execute_result"
    }
   ],
   "source": [
    "df_word_ranks.head()"
   ]
  },
  {
   "cell_type": "code",
   "execution_count": 28,
   "metadata": {},
   "outputs": [
    {
     "name": "stdout",
     "output_type": "stream",
     "text": [
      "with doubles\n",
      "slate\n",
      "1437.0\n",
      "no double letters\n",
      "slate\n",
      "1437.0\n"
     ]
    }
   ],
   "source": [
    "print('with doubles')\n",
    "print (df_word_ranks['word'][df_word_ranks['value'].idxmax()])\n",
    "print (df_word_ranks['value'][df_word_ranks['value'].idxmax()])\n",
    "print('no double letters')\n",
    "print (df_ranks_no_doubles['word'][df_ranks_no_doubles['value'].idxmax()])\n",
    "print (df_ranks_no_doubles['value'][df_ranks_no_doubles['value'].idxmax()])"
   ]
  },
  {
   "cell_type": "code",
   "execution_count": 29,
   "metadata": {},
   "outputs": [
    {
     "data": {
      "text/html": [
       "<div>\n",
       "<style scoped>\n",
       "    .dataframe tbody tr th:only-of-type {\n",
       "        vertical-align: middle;\n",
       "    }\n",
       "\n",
       "    .dataframe tbody tr th {\n",
       "        vertical-align: top;\n",
       "    }\n",
       "\n",
       "    .dataframe thead th {\n",
       "        text-align: right;\n",
       "    }\n",
       "</style>\n",
       "<table border=\"1\" class=\"dataframe\">\n",
       "  <thead>\n",
       "    <tr style=\"text-align: right;\">\n",
       "      <th></th>\n",
       "      <th>word</th>\n",
       "      <th>value</th>\n",
       "      <th>double</th>\n",
       "    </tr>\n",
       "  </thead>\n",
       "  <tbody>\n",
       "    <tr>\n",
       "      <th>0</th>\n",
       "      <td>cigar</td>\n",
       "      <td>842.0</td>\n",
       "      <td>NaN</td>\n",
       "    </tr>\n",
       "    <tr>\n",
       "      <th>2</th>\n",
       "      <td>sissy</td>\n",
       "      <td>1183.0</td>\n",
       "      <td>True</td>\n",
       "    </tr>\n",
       "    <tr>\n",
       "      <th>3</th>\n",
       "      <td>humph</td>\n",
       "      <td>505.0</td>\n",
       "      <td>True</td>\n",
       "    </tr>\n",
       "    <tr>\n",
       "      <th>4</th>\n",
       "      <td>awake</td>\n",
       "      <td>971.0</td>\n",
       "      <td>True</td>\n",
       "    </tr>\n",
       "    <tr>\n",
       "      <th>5</th>\n",
       "      <td>blush</td>\n",
       "      <td>849.0</td>\n",
       "      <td>NaN</td>\n",
       "    </tr>\n",
       "    <tr>\n",
       "      <th>...</th>\n",
       "      <td>...</td>\n",
       "      <td>...</td>\n",
       "      <td>...</td>\n",
       "    </tr>\n",
       "    <tr>\n",
       "      <th>2305</th>\n",
       "      <td>rival</td>\n",
       "      <td>675.0</td>\n",
       "      <td>NaN</td>\n",
       "    </tr>\n",
       "    <tr>\n",
       "      <th>2310</th>\n",
       "      <td>judge</td>\n",
       "      <td>781.0</td>\n",
       "      <td>NaN</td>\n",
       "    </tr>\n",
       "    <tr>\n",
       "      <th>2311</th>\n",
       "      <td>rower</td>\n",
       "      <td>940.0</td>\n",
       "      <td>True</td>\n",
       "    </tr>\n",
       "    <tr>\n",
       "      <th>2313</th>\n",
       "      <td>rural</td>\n",
       "      <td>773.0</td>\n",
       "      <td>True</td>\n",
       "    </tr>\n",
       "    <tr>\n",
       "      <th>2314</th>\n",
       "      <td>shave</td>\n",
       "      <td>1287.0</td>\n",
       "      <td>NaN</td>\n",
       "    </tr>\n",
       "  </tbody>\n",
       "</table>\n",
       "<p>1648 rows × 3 columns</p>\n",
       "</div>"
      ],
      "text/plain": [
       "       word   value double\n",
       "0     cigar   842.0    NaN\n",
       "2     sissy  1183.0   True\n",
       "3     humph   505.0   True\n",
       "4     awake   971.0   True\n",
       "5     blush   849.0    NaN\n",
       "...     ...     ...    ...\n",
       "2305  rival   675.0    NaN\n",
       "2310  judge   781.0    NaN\n",
       "2311  rower   940.0   True\n",
       "2313  rural   773.0   True\n",
       "2314  shave  1287.0    NaN\n",
       "\n",
       "[1648 rows x 3 columns]"
      ]
     },
     "metadata": {},
     "output_type": "display_data"
    }
   ],
   "source": [
    "# here we determine the next best word based on results of the best word per wordle feedback\n",
    "# how to determine which items were elimiated\n",
    "#  ~ before a contains statement makes it a \"not\" I was lucky to find this\n",
    "display(df_word_ranks.loc[(~df_word_ranks['word'].str.contains('t'))])"
   ]
  },
  {
   "cell_type": "code",
   "execution_count": 30,
   "metadata": {},
   "outputs": [],
   "source": [
    "grey = ['s','l','a','t','e']"
   ]
  },
  {
   "cell_type": "code",
   "execution_count": 31,
   "metadata": {},
   "outputs": [
    {
     "data": {
      "text/html": [
       "<div>\n",
       "<style scoped>\n",
       "    .dataframe tbody tr th:only-of-type {\n",
       "        vertical-align: middle;\n",
       "    }\n",
       "\n",
       "    .dataframe tbody tr th {\n",
       "        vertical-align: top;\n",
       "    }\n",
       "\n",
       "    .dataframe thead th {\n",
       "        text-align: right;\n",
       "    }\n",
       "</style>\n",
       "<table border=\"1\" class=\"dataframe\">\n",
       "  <thead>\n",
       "    <tr style=\"text-align: right;\">\n",
       "      <th></th>\n",
       "      <th>word</th>\n",
       "      <th>value</th>\n",
       "      <th>double</th>\n",
       "    </tr>\n",
       "  </thead>\n",
       "  <tbody>\n",
       "    <tr>\n",
       "      <th>3</th>\n",
       "      <td>humph</td>\n",
       "      <td>505.0</td>\n",
       "      <td>True</td>\n",
       "    </tr>\n",
       "    <tr>\n",
       "      <th>48</th>\n",
       "      <td>mimic</td>\n",
       "      <td>559.0</td>\n",
       "      <td>True</td>\n",
       "    </tr>\n",
       "    <tr>\n",
       "      <th>49</th>\n",
       "      <td>pound</td>\n",
       "      <td>886.0</td>\n",
       "      <td>NaN</td>\n",
       "    </tr>\n",
       "    <tr>\n",
       "      <th>54</th>\n",
       "      <td>booby</td>\n",
       "      <td>1084.0</td>\n",
       "      <td>True</td>\n",
       "    </tr>\n",
       "    <tr>\n",
       "      <th>59</th>\n",
       "      <td>ivory</td>\n",
       "      <td>809.0</td>\n",
       "      <td>NaN</td>\n",
       "    </tr>\n",
       "    <tr>\n",
       "      <th>...</th>\n",
       "      <td>...</td>\n",
       "      <td>...</td>\n",
       "      <td>...</td>\n",
       "    </tr>\n",
       "    <tr>\n",
       "      <th>2255</th>\n",
       "      <td>going</td>\n",
       "      <td>883.0</td>\n",
       "      <td>True</td>\n",
       "    </tr>\n",
       "    <tr>\n",
       "      <th>2258</th>\n",
       "      <td>hound</td>\n",
       "      <td>813.0</td>\n",
       "      <td>NaN</td>\n",
       "    </tr>\n",
       "    <tr>\n",
       "      <th>2267</th>\n",
       "      <td>undid</td>\n",
       "      <td>471.0</td>\n",
       "      <td>True</td>\n",
       "    </tr>\n",
       "    <tr>\n",
       "      <th>2283</th>\n",
       "      <td>knock</td>\n",
       "      <td>616.0</td>\n",
       "      <td>True</td>\n",
       "    </tr>\n",
       "    <tr>\n",
       "      <th>2285</th>\n",
       "      <td>condo</td>\n",
       "      <td>743.0</td>\n",
       "      <td>True</td>\n",
       "    </tr>\n",
       "  </tbody>\n",
       "</table>\n",
       "<p>221 rows × 3 columns</p>\n",
       "</div>"
      ],
      "text/plain": [
       "       word   value double\n",
       "3     humph   505.0   True\n",
       "48    mimic   559.0   True\n",
       "49    pound   886.0    NaN\n",
       "54    booby  1084.0   True\n",
       "59    ivory   809.0    NaN\n",
       "...     ...     ...    ...\n",
       "2255  going   883.0   True\n",
       "2258  hound   813.0    NaN\n",
       "2267  undid   471.0   True\n",
       "2283  knock   616.0   True\n",
       "2285  condo   743.0   True\n",
       "\n",
       "[221 rows x 3 columns]"
      ]
     },
     "execution_count": 31,
     "metadata": {},
     "output_type": "execute_result"
    }
   ],
   "source": [
    "df_sub = df_word_ranks\n",
    "for l in grey:\n",
    "    # print(l)\n",
    "    # print(str(len(df_sub.index)))\n",
    "    df_sub = (df_sub.loc[(~df_sub['word'].str.contains(l))])\n",
    "df_sub"
   ]
  },
  {
   "cell_type": "code",
   "execution_count": 32,
   "metadata": {},
   "outputs": [
    {
     "name": "stdout",
     "output_type": "stream",
     "text": [
      "crony\n",
      "1255.0\n"
     ]
    }
   ],
   "source": [
    "print (df_sub['word'][df_sub['value'].idxmax()])\n",
    "print (df_sub['value'][df_sub['value'].idxmax()])"
   ]
  },
  {
   "cell_type": "code",
   "execution_count": 33,
   "metadata": {},
   "outputs": [],
   "source": [
    "def remove_notcontains(grey,df):\n",
    "    df_sub = df\n",
    "    for l in grey:\n",
    "        df_sub = (df_sub.loc[(~df_sub['word'].str.contains(l))])\n",
    "    return df_sub"
   ]
  },
  {
   "cell_type": "code",
   "execution_count": 34,
   "metadata": {},
   "outputs": [],
   "source": [
    "def remove_by_contains(letters,df):\n",
    "    df_sub = df\n",
    "    for l in letters:\n",
    "        df_sub = (df_sub.loc[(df_sub['word'].str.contains(l))])\n",
    "    return df_sub"
   ]
  },
  {
   "cell_type": "code",
   "execution_count": 35,
   "metadata": {},
   "outputs": [],
   "source": [
    "def remove_by_location(loc,letter,df):\n",
    "    df_sub = df\n",
    "    for l in letter:\n",
    "        df_sub = (df_sub.loc[(df_sub['word'].str[loc]==l)])\n",
    "    return df_sub"
   ]
  },
  {
   "cell_type": "code",
   "execution_count": 36,
   "metadata": {},
   "outputs": [],
   "source": [
    "def remove_by_letter_count(letter,count,df):\n",
    "    df_sub = df\n",
    "    for l in letter:\n",
    "        df_sub = (df_sub.loc[(df_sub['word'].str.count(letter)==count)])\n",
    "    return df_sub"
   ]
  },
  {
   "cell_type": "code",
   "execution_count": 37,
   "metadata": {},
   "outputs": [],
   "source": [
    "confirmed = 'cr'"
   ]
  },
  {
   "cell_type": "code",
   "execution_count": 38,
   "metadata": {},
   "outputs": [
    {
     "name": "stdout",
     "output_type": "stream",
     "text": [
      "2\n"
     ]
    }
   ],
   "source": [
    "test = \"dogg\"\n",
    "print(test.count('g'))"
   ]
  },
  {
   "cell_type": "code",
   "execution_count": 39,
   "metadata": {},
   "outputs": [
    {
     "name": "stdout",
     "output_type": "stream",
     "text": [
      "exact char match on letter e in positions 0\n",
      "exact char match on letter e in positions 1\n"
     ]
    }
   ],
   "source": [
    "word = 'score'\n",
    "guess = 'scres'\n",
    "score = 0\n",
    "\n",
    "for i in range(0,4):\n",
    "    # find character match in locations\n",
    "    if guess[i]==word[i]:\n",
    "        print(f'exact char match on letter {letter} in positions {i}')\n",
    "        score += 2"
   ]
  },
  {
   "cell_type": "code",
   "execution_count": 40,
   "metadata": {},
   "outputs": [
    {
     "name": "stdout",
     "output_type": "stream",
     "text": [
      "0\n",
      "write\n",
      "1\n",
      "fight\n",
      "2\n",
      "soyet\n",
      "3\n",
      "cleat\n"
     ]
    },
    {
     "data": {
      "text/html": [
       "<div>\n",
       "<style scoped>\n",
       "    .dataframe tbody tr th:only-of-type {\n",
       "        vertical-align: middle;\n",
       "    }\n",
       "\n",
       "    .dataframe tbody tr th {\n",
       "        vertical-align: top;\n",
       "    }\n",
       "\n",
       "    .dataframe thead th {\n",
       "        text-align: right;\n",
       "    }\n",
       "</style>\n",
       "<table border=\"1\" class=\"dataframe\">\n",
       "  <thead>\n",
       "    <tr style=\"text-align: right;\">\n",
       "      <th></th>\n",
       "      <th>guess</th>\n",
       "      <th>score</th>\n",
       "      <th>answer</th>\n",
       "    </tr>\n",
       "  </thead>\n",
       "  <tbody>\n",
       "    <tr>\n",
       "      <th>0</th>\n",
       "      <td>scres</td>\n",
       "      <td>4.0</td>\n",
       "      <td>write</td>\n",
       "    </tr>\n",
       "    <tr>\n",
       "      <th>1</th>\n",
       "      <td>scres</td>\n",
       "      <td>4.0</td>\n",
       "      <td>fight</td>\n",
       "    </tr>\n",
       "    <tr>\n",
       "      <th>2</th>\n",
       "      <td>scres</td>\n",
       "      <td>4.0</td>\n",
       "      <td>soyet</td>\n",
       "    </tr>\n",
       "    <tr>\n",
       "      <th>3</th>\n",
       "      <td>scres</td>\n",
       "      <td>4.0</td>\n",
       "      <td>cleat</td>\n",
       "    </tr>\n",
       "  </tbody>\n",
       "</table>\n",
       "</div>"
      ],
      "text/plain": [
       "   guess  score answer\n",
       "0  scres    4.0  write\n",
       "1  scres    4.0  fight\n",
       "2  scres    4.0  soyet\n",
       "3  scres    4.0  cleat"
      ]
     },
     "execution_count": 40,
     "metadata": {},
     "output_type": "execute_result"
    }
   ],
   "source": [
    "solution = ['write','fight','soyet','cleat']\n",
    "\n",
    "df_geuss_value = pd.DataFrame({'guess' : [],'score':[], 'answer':[]})\n",
    "\n",
    "for idx, word in enumerate(solution):\n",
    "    print(str(idx))\n",
    "    print(str(word))\n",
    "\n",
    "    df_geuss_value.loc[idx, 'guess'] = guess\n",
    "    df_geuss_value.loc[idx, 'score'] = score\n",
    "    df_geuss_value.loc[idx, 'answer'] = word\n",
    "\n",
    "df_geuss_value"
   ]
  },
  {
   "cell_type": "code",
   "execution_count": 41,
   "metadata": {},
   "outputs": [
    {
     "data": {
      "text/html": [
       "<div>\n",
       "<style scoped>\n",
       "    .dataframe tbody tr th:only-of-type {\n",
       "        vertical-align: middle;\n",
       "    }\n",
       "\n",
       "    .dataframe tbody tr th {\n",
       "        vertical-align: top;\n",
       "    }\n",
       "\n",
       "    .dataframe thead th {\n",
       "        text-align: right;\n",
       "    }\n",
       "</style>\n",
       "<table border=\"1\" class=\"dataframe\">\n",
       "  <thead>\n",
       "    <tr style=\"text-align: right;\">\n",
       "      <th></th>\n",
       "      <th>guess</th>\n",
       "      <th>score</th>\n",
       "      <th>answer</th>\n",
       "    </tr>\n",
       "  </thead>\n",
       "  <tbody>\n",
       "    <tr>\n",
       "      <th>0</th>\n",
       "      <td>scres</td>\n",
       "      <td>4.0</td>\n",
       "      <td>write</td>\n",
       "    </tr>\n",
       "    <tr>\n",
       "      <th>1</th>\n",
       "      <td>scres</td>\n",
       "      <td>4.0</td>\n",
       "      <td>fight</td>\n",
       "    </tr>\n",
       "    <tr>\n",
       "      <th>2</th>\n",
       "      <td>scres</td>\n",
       "      <td>4.0</td>\n",
       "      <td>soyet</td>\n",
       "    </tr>\n",
       "    <tr>\n",
       "      <th>3</th>\n",
       "      <td>scres</td>\n",
       "      <td>4.0</td>\n",
       "      <td>cleat</td>\n",
       "    </tr>\n",
       "  </tbody>\n",
       "</table>\n",
       "</div>"
      ],
      "text/plain": [
       "   guess  score answer\n",
       "0  scres    4.0  write\n",
       "1  scres    4.0  fight\n",
       "2  scres    4.0  soyet\n",
       "3  scres    4.0  cleat"
      ]
     },
     "execution_count": 41,
     "metadata": {},
     "output_type": "execute_result"
    }
   ],
   "source": [
    "df_geuss_value.head()"
   ]
  },
  {
   "cell_type": "markdown",
   "metadata": {},
   "source": [
    "without parallels"
   ]
  },
  {
   "cell_type": "code",
   "execution_count": 42,
   "metadata": {},
   "outputs": [],
   "source": [
    "# now try this for all words in the guesses table vs all the potential solutions\n",
    "# calcuating potential eliminations for each starting word and each potential answer\n",
    "# solution = ['write','fight','soyet','cleat']\n",
    "\n",
    "# guess = ''\n",
    "\n",
    "# # for guess in solutions:\n",
    "# for guess in few_guesses:\n",
    "\n",
    "#     df_geuss_value = pd.DataFrame({'guess':[],'score_match':[], 'answer':[], 'score_exact_match':[]})\n",
    "\n",
    "#     for idx, word in enumerate(solutions):\n",
    "#         score = 0\n",
    "#         score_exact = 0\n",
    "#         # print(word)\n",
    "#         for letter in guess:\n",
    "#     # match of letter\n",
    "#     # give one point\n",
    "#             # print(f' for the guess {guess}, and the answer {word} the score for letter: {letter} is {word.count(letter)}')\n",
    "#             score += int(word.count(letter))\n",
    "#         if word.count(letter) >=1:\n",
    "#             for i in range(0,4):\n",
    "#     # find character match in locations\n",
    "#                 char = guess[i]\n",
    "#                 if guess[i]==word[i]:\n",
    "#                     # print(f'exact char match on letter {char} in positions {i}')\n",
    "#                     score_exact += 1\n",
    "        \n",
    "#         df_geuss_value.loc[idx, 'guess'] = guess\n",
    "#         df_geuss_value.loc[idx, 'score_match'] = score\n",
    "#         df_geuss_value.loc[idx, 'answer'] = word\n",
    "#         df_geuss_value.loc[idx, 'score_exact_match'] = score_exact\n"
   ]
  },
  {
   "cell_type": "code",
   "execution_count": 43,
   "metadata": {},
   "outputs": [],
   "source": [
    "df_geuss_value = pd.DataFrame({'guess':[],'score_match':[], 'answer':[], 'score_exact_match':[]})"
   ]
  },
  {
   "cell_type": "code",
   "execution_count": 44,
   "metadata": {},
   "outputs": [
    {
     "name": "stdout",
     "output_type": "stream",
     "text": [
      "Empty DataFrame\n",
      "Columns: [guess, score_match, answer, score_exact_match]\n",
      "Index: []\n",
      "0\n"
     ]
    }
   ],
   "source": [
    "print(df_geuss_value.head())\n",
    "index = df_geuss_value.index\n",
    "number_of_rows = len(index)\n",
    "print(number_of_rows)\n",
    "df_geuss_value.to_csv('guess_value_iterations_guesses')"
   ]
  },
  {
   "cell_type": "markdown",
   "metadata": {},
   "source": [
    "todo - with parallel threads"
   ]
  },
  {
   "cell_type": "code",
   "execution_count": 45,
   "metadata": {},
   "outputs": [],
   "source": [
    "# turn my existing loop into a function that can be parallelized\n",
    "def word_val(guess, solution_list):\n",
    "    df_geuss_value = pd.DataFrame({'guess':[],'score_match':[], 'answer':[], 'score_exact_match':[]})\n",
    "\n",
    "\n",
    "# make a smaller dataframe for each guess and have that be appended to the larger dataframe for each individual guess\n",
    "\n",
    "\n",
    "    for idx, word in enumerate(solution_list):\n",
    "        results = []\n",
    "        score = 0\n",
    "        score_exact = 0\n",
    "        # print(word)\n",
    "        for letter in guess:\n",
    "    # match of letter\n",
    "    # give one point\n",
    "            # print(f' for the guess {guess}, and the answer {word} the score for letter: {letter} is {word.count(letter)}')\n",
    "            score += int(word.count(letter))\n",
    "        if word.count(letter) >=1:\n",
    "            for i in range(0,4):\n",
    "    # find character match in locations\n",
    "                char = guess[i]\n",
    "                if guess[i]==word[i]:\n",
    "                    # print(f'exact char match on letter {char} in positions {i}')\n",
    "                    score_exact += 1\n",
    "        \n",
    "        df_geuss_value.loc[idx, 'guess'] = guess\n",
    "        df_geuss_value.loc[idx, 'score_match'] = score\n",
    "        df_geuss_value.loc[idx, 'answer'] = word\n",
    "        df_geuss_value.loc[idx, 'score_exact_match'] = score_exact\n",
    "\n",
    "    # results.append(guess)\n",
    "    # results.append(score)\n",
    "    # results.append(word)\n",
    "    # results.append(score_exact)\n",
    "    # results.append(idx)\n",
    "\n",
    "    return df_geuss_value\n",
    "\n"
   ]
  },
  {
   "cell_type": "code",
   "execution_count": 46,
   "metadata": {},
   "outputs": [],
   "source": [
    "def row_results(results_df):\n",
    "    # global df_geuss_value\n",
    "    # df_geuss_value.loc[idx, 'guess'] = results[0]\n",
    "    # df_geuss_value.loc[idx, 'score_match'] = results[1]\n",
    "    # df_geuss_value.loc[idx, 'answer'] = results[2]\n",
    "    # df_geuss_value.loc[idx, 'score_exact_match'] = results[3]\n",
    "    global df_geuss_value\n",
    "    df_geuss_value = df_geuss_value.append(results_df)\n",
    "    # df_geuss_value = pd.concat(results_df)\n"
   ]
  },
  {
   "cell_type": "code",
   "execution_count": 47,
   "metadata": {},
   "outputs": [],
   "source": [
    "few_guesses = guesses[0:50]\n",
    "# few_guesses"
   ]
  },
  {
   "cell_type": "code",
   "execution_count": 48,
   "metadata": {},
   "outputs": [],
   "source": [
    "# warnings.filterwarnings(action='once')\n",
    "\n",
    "# for idx, guess in enumerate(few_guesses):\n",
    "#     # print(guess)\n",
    "#     # print(word_val(guess,solutions))\n",
    "#     row_results(word_val(guess,solutions))"
   ]
  },
  {
   "cell_type": "code",
   "execution_count": 52,
   "metadata": {},
   "outputs": [
    {
     "name": "stdout",
     "output_type": "stream",
     "text": [
      "Empty DataFrame\n",
      "Columns: [guess, score_match, answer, score_exact_match]\n",
      "Index: []\n",
      "0\n"
     ]
    }
   ],
   "source": [
    "print(df_geuss_value.head())\n",
    "index = df_geuss_value.index\n",
    "number_of_rows = len(index)\n",
    "print(number_of_rows)\n",
    "df_geuss_value.to_csv('guess_value_iterations_guesses')"
   ]
  },
  {
   "cell_type": "code",
   "execution_count": 50,
   "metadata": {},
   "outputs": [],
   "source": [
    "df_geuss_value = pd.DataFrame({'guess':[],'score_match':[], 'answer':[], 'score_exact_match':[]})"
   ]
  },
  {
   "cell_type": "code",
   "execution_count": 51,
   "metadata": {},
   "outputs": [
    {
     "name": "stdout",
     "output_type": "stream",
     "text": [
      "Number of CPUs availible: 16\n"
     ]
    }
   ],
   "source": [
    "print(f'Number of CPUs availible: {mp.cpu_count()}')\n",
    "# pool = mp.Pool(mp.cpu_count())\n",
    "pool = mp.Pool(8)"
   ]
  },
  {
   "cell_type": "code",
   "execution_count": 53,
   "metadata": {},
   "outputs": [],
   "source": [
    "for guess in guesses:\n",
    "    pool.apply_async(word_val, args=(guess,solutions),callback=row_results)\n",
    "\n",
    "pool.close()\n",
    "pool.join()"
   ]
  },
  {
   "cell_type": "code",
   "execution_count": 54,
   "metadata": {},
   "outputs": [
    {
     "name": "stdout",
     "output_type": "stream",
     "text": [
      "   guess  score_match answer  score_exact_match\n",
      "0  cigar          5.0  cigar                4.0\n",
      "1  cigar          1.0  rebut                0.0\n",
      "2  cigar          1.0  sissy                0.0\n",
      "3  cigar          0.0  humph                0.0\n",
      "4  cigar          2.0  awake                0.0\n",
      "30030180\n"
     ]
    }
   ],
   "source": [
    "print(df_geuss_value.head())\n",
    "index = df_geuss_value.index\n",
    "number_of_rows = len(index)\n",
    "print(number_of_rows)\n",
    "df_geuss_value.to_csv('guess_value_iterations_guesses')"
   ]
  },
  {
   "cell_type": "code",
   "execution_count": null,
   "metadata": {},
   "outputs": [],
   "source": [
    "# now try this for all words in the guesses table vs all the potential solutions\n",
    "# calcuating potential eliminations for each starting word and each potential answer\n",
    "# solution = ['write','fight','soyet','cleat']\n",
    "\n",
    "guess = ''\n",
    "\n",
    "for guess in solutions[0:50]:\n",
    "# for guess in guesses:\n",
    "\n",
    "    df_geuss_value = pd.DataFrame({'guess':[],'score_match':[], 'answer':[], 'score_exact_match':[]})\n",
    "\n",
    "    for idx, word in enumerate(solutions):\n",
    "        score = 0\n",
    "        score_exact = 0\n",
    "        # print(word)\n",
    "        for letter in guess:\n",
    "    # match of letter\n",
    "    # give one point\n",
    "            # print(f' for the guess {guess}, and the answer {word} the score for letter: {letter} is {word.count(letter)}')\n",
    "            score += int(word.count(letter))\n",
    "        if word.count(letter) >=1:\n",
    "            for i in range(0,4):\n",
    "    # find character match in locations\n",
    "                char = guess[i]\n",
    "                if guess[i]==word[i]:\n",
    "                    # print(f'exact char match on letter {char} in positions {i}')\n",
    "                    score_exact += 1\n",
    "        \n",
    "        df_geuss_value.loc[idx, 'guess'] = guess\n",
    "        df_geuss_value.loc[idx, 'score_match'] = score\n",
    "        df_geuss_value.loc[idx, 'answer'] = word\n",
    "        df_geuss_value.loc[idx, 'score_exact_match'] = score_exact"
   ]
  },
  {
   "cell_type": "markdown",
   "metadata": {},
   "source": [
    "<-- below this is the game aid loop -->"
   ]
  },
  {
   "cell_type": "markdown",
   "metadata": {},
   "source": [
    "here is the game aid loop"
   ]
  },
  {
   "cell_type": "code",
   "execution_count": null,
   "metadata": {},
   "outputs": [],
   "source": [
    "# make the testing loop\n",
    "# starting DF df_word_ranks\n",
    "\n",
    "round = 0\n",
    "df_options = df_word_ranks\n",
    "\n",
    "print('strongest suggestions')\n",
    "print(df_options.nlargest(3, 'value'))\n",
    "go = 'go'\n",
    "\n",
    "while go != 'no':\n",
    "    round += 1 \n",
    "    if round == 1:\n",
    "\n",
    "        print('initial guess')\n",
    "        word = input('enter your guess:')\n",
    "        pass\n",
    "\n",
    "    if round > 1:\n",
    "\n",
    "        print(str(round))\n",
    "\n",
    "        not_char = input('enter eliminated letters:[l,e,t,t,e,r]')\n",
    "        is_char = input('enter confirmed letters:[y,e,s]')\n",
    "        loc_letters = input('enter confirmed locations: [letter,location]')\n",
    "        dup_letters = input('enter known letter counts: [letter,count]')\n",
    "\n",
    "        # eliminate options, and show the reduced best 5 choices\n",
    "        if len(not_char)>0:\n",
    "            df_options = remove_notcontains(not_char,df_options)\n",
    "\n",
    "        if len(is_char)>0:\n",
    "            df_options = remove_by_contains(is_char,df_options)\n",
    "\n",
    "        if len(loc_letters)>0:\n",
    "            # remove by letters in correct location\n",
    "            for i in range(0,int(len(loc_letters)),2):\n",
    "                df_options = remove_by_location(loc=int(loc_letters[i+1]),letter=str(loc_letters[i]),df=df_options)\n",
    "        \n",
    "        if len(dup_letters)>0:\n",
    "            # remove by letters in correct location\n",
    "            for i in range(0,int(len(loc_letters)),2):\n",
    "                df_options = remove_by_letter_count(loc=int(dup_letters[i+1]),letter=str(dup_letters[i]),df=df_options)\n",
    "        \n",
    "        try:\n",
    "            next_best = (df_options['word'][df_options['value'].idxmax()])\n",
    "            print('from the results of the last guess')\n",
    "            print('next best option is ' + str(next_best))\n",
    "            print('your top remaiing options are: ')\n",
    "            print(df_options.nlargest(3, 'value'))\n",
    "        except:\n",
    "            print('e message')\n",
    "            print(df_options.head())\n",
    "            pass\n",
    "    \n",
    "        go = input('go again?:')\n",
    "    # go = input('go again?:')\n",
    "    print(str(round))\n"
   ]
  },
  {
   "cell_type": "code",
   "execution_count": null,
   "metadata": {},
   "outputs": [],
   "source": [
    "#  this can be improved by confiming the number of letters in a word, 'wince' has one E and this was confirmed\n",
    "# use this to elimate more from the pool when the information is availible"
   ]
  }
 ],
 "metadata": {
  "interpreter": {
   "hash": "89c9495d7288a841850a3e94f59b3b05e223feb05ad00310e8b7beb8d89f2966"
  },
  "kernelspec": {
   "display_name": "Python 3.10.1 64-bit ('pingme-0wiYN-f2': pipenv)",
   "language": "python",
   "name": "python3"
  },
  "language_info": {
   "codemirror_mode": {
    "name": "ipython",
    "version": 3
   },
   "file_extension": ".py",
   "mimetype": "text/x-python",
   "name": "python",
   "nbconvert_exporter": "python",
   "pygments_lexer": "ipython3",
   "version": "3.10.2"
  },
  "orig_nbformat": 4
 },
 "nbformat": 4,
 "nbformat_minor": 2
}
