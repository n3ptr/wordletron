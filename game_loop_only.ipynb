{
 "cells": [
  {
   "cell_type": "code",
   "execution_count": 1,
   "metadata": {},
   "outputs": [],
   "source": [
    "# from english_words import english_words_set\\\n",
    "# import multiprocessing as mp\n",
    "# import warnings\n",
    "import pandas as pd\n",
    "# import numpy as np"
   ]
  },
  {
   "cell_type": "code",
   "execution_count": 2,
   "metadata": {},
   "outputs": [
    {
     "name": "stdout",
     "output_type": "stream",
     "text": [
      "12972\n"
     ]
    }
   ],
   "source": [
    "f = open('data/guesses.txt','r')\n",
    "guesses = []\n",
    "\n",
    "for line in f:\n",
    "    guesses.append(line.strip())\n",
    "\n",
    "print(str(len(guesses)))"
   ]
  },
  {
   "cell_type": "code",
   "execution_count": 3,
   "metadata": {},
   "outputs": [],
   "source": [
    "words5 = guesses"
   ]
  },
  {
   "cell_type": "code",
   "execution_count": 4,
   "metadata": {},
   "outputs": [
    {
     "name": "stdout",
     "output_type": "stream",
     "text": [
      "[]\n"
     ]
    }
   ],
   "source": [
    "# this should be an empty list, checking to be sure we do not have non alpha chars in the words\n",
    "print([i for i in words5 if not i.isalpha()])"
   ]
  },
  {
   "cell_type": "code",
   "execution_count": 5,
   "metadata": {},
   "outputs": [
    {
     "data": {
      "text/plain": [
       "12972"
      ]
     },
     "execution_count": 5,
     "metadata": {},
     "output_type": "execute_result"
    }
   ],
   "source": [
    "len(words5)"
   ]
  },
  {
   "cell_type": "code",
   "execution_count": 6,
   "metadata": {},
   "outputs": [],
   "source": [
    "value_set = pd.read_csv('data/rank_set.csv')"
   ]
  },
  {
   "cell_type": "code",
   "execution_count": 7,
   "metadata": {},
   "outputs": [
    {
     "data": {
      "text/html": [
       "<div>\n",
       "<style scoped>\n",
       "    .dataframe tbody tr th:only-of-type {\n",
       "        vertical-align: middle;\n",
       "    }\n",
       "\n",
       "    .dataframe tbody tr th {\n",
       "        vertical-align: top;\n",
       "    }\n",
       "\n",
       "    .dataframe thead th {\n",
       "        text-align: right;\n",
       "    }\n",
       "</style>\n",
       "<table border=\"1\" class=\"dataframe\">\n",
       "  <thead>\n",
       "    <tr style=\"text-align: right;\">\n",
       "      <th></th>\n",
       "      <th>Unnamed: 0</th>\n",
       "      <th>guess</th>\n",
       "      <th>score_match</th>\n",
       "      <th>score_exact_match</th>\n",
       "      <th>solution</th>\n",
       "      <th>double</th>\n",
       "      <th>total_score</th>\n",
       "    </tr>\n",
       "  </thead>\n",
       "  <tbody>\n",
       "    <tr>\n",
       "      <th>0</th>\n",
       "      <td>0</td>\n",
       "      <td>aahed</td>\n",
       "      <td>3973.0</td>\n",
       "      <td>118.0</td>\n",
       "      <td>NaN</td>\n",
       "      <td>True</td>\n",
       "      <td>4091.0</td>\n",
       "    </tr>\n",
       "    <tr>\n",
       "      <th>1</th>\n",
       "      <td>1</td>\n",
       "      <td>aalii</td>\n",
       "      <td>4019.0</td>\n",
       "      <td>269.0</td>\n",
       "      <td>NaN</td>\n",
       "      <td>True</td>\n",
       "      <td>4288.0</td>\n",
       "    </tr>\n",
       "    <tr>\n",
       "      <th>2</th>\n",
       "      <td>2</td>\n",
       "      <td>aargh</td>\n",
       "      <td>3557.0</td>\n",
       "      <td>90.0</td>\n",
       "      <td>NaN</td>\n",
       "      <td>True</td>\n",
       "      <td>3647.0</td>\n",
       "    </tr>\n",
       "    <tr>\n",
       "      <th>3</th>\n",
       "      <td>3</td>\n",
       "      <td>aarti</td>\n",
       "      <td>4257.0</td>\n",
       "      <td>140.0</td>\n",
       "      <td>NaN</td>\n",
       "      <td>True</td>\n",
       "      <td>4397.0</td>\n",
       "    </tr>\n",
       "    <tr>\n",
       "      <th>4</th>\n",
       "      <td>4</td>\n",
       "      <td>abaca</td>\n",
       "      <td>3695.0</td>\n",
       "      <td>511.0</td>\n",
       "      <td>NaN</td>\n",
       "      <td>True</td>\n",
       "      <td>4206.0</td>\n",
       "    </tr>\n",
       "  </tbody>\n",
       "</table>\n",
       "</div>"
      ],
      "text/plain": [
       "   Unnamed: 0  guess  score_match  score_exact_match solution double  \\\n",
       "0           0  aahed       3973.0              118.0      NaN   True   \n",
       "1           1  aalii       4019.0              269.0      NaN   True   \n",
       "2           2  aargh       3557.0               90.0      NaN   True   \n",
       "3           3  aarti       4257.0              140.0      NaN   True   \n",
       "4           4  abaca       3695.0              511.0      NaN   True   \n",
       "\n",
       "   total_score  \n",
       "0       4091.0  \n",
       "1       4288.0  \n",
       "2       3647.0  \n",
       "3       4397.0  \n",
       "4       4206.0  "
      ]
     },
     "execution_count": 7,
     "metadata": {},
     "output_type": "execute_result"
    }
   ],
   "source": [
    "value_set.head()"
   ]
  },
  {
   "cell_type": "code",
   "execution_count": 13,
   "metadata": {},
   "outputs": [],
   "source": [
    "value_no_doubles = (value_set.loc[(value_set['double']!=True)])\n",
    "# value_no_doubles = (value_no_doubles.loc[(value_no_doubles['solution']==True)])"
   ]
  },
  {
   "cell_type": "code",
   "execution_count": 14,
   "metadata": {},
   "outputs": [
    {
     "data": {
      "text/html": [
       "<div>\n",
       "<style scoped>\n",
       "    .dataframe tbody tr th:only-of-type {\n",
       "        vertical-align: middle;\n",
       "    }\n",
       "\n",
       "    .dataframe tbody tr th {\n",
       "        vertical-align: top;\n",
       "    }\n",
       "\n",
       "    .dataframe thead th {\n",
       "        text-align: right;\n",
       "    }\n",
       "</style>\n",
       "<table border=\"1\" class=\"dataframe\">\n",
       "  <thead>\n",
       "    <tr style=\"text-align: right;\">\n",
       "      <th></th>\n",
       "      <th>Unnamed: 0</th>\n",
       "      <th>guess</th>\n",
       "      <th>score_match</th>\n",
       "      <th>score_exact_match</th>\n",
       "      <th>solution</th>\n",
       "      <th>double</th>\n",
       "      <th>total_score</th>\n",
       "    </tr>\n",
       "  </thead>\n",
       "  <tbody>\n",
       "    <tr>\n",
       "      <th>26</th>\n",
       "      <td>26</td>\n",
       "      <td>abers</td>\n",
       "      <td>4061.0</td>\n",
       "      <td>133.0</td>\n",
       "      <td>NaN</td>\n",
       "      <td>NaN</td>\n",
       "      <td>4194.0</td>\n",
       "    </tr>\n",
       "    <tr>\n",
       "      <th>27</th>\n",
       "      <td>27</td>\n",
       "      <td>abets</td>\n",
       "      <td>3891.0</td>\n",
       "      <td>125.0</td>\n",
       "      <td>NaN</td>\n",
       "      <td>NaN</td>\n",
       "      <td>4016.0</td>\n",
       "    </tr>\n",
       "    <tr>\n",
       "      <th>28</th>\n",
       "      <td>28</td>\n",
       "      <td>abhor</td>\n",
       "      <td>3302.0</td>\n",
       "      <td>101.0</td>\n",
       "      <td>True</td>\n",
       "      <td>NaN</td>\n",
       "      <td>3403.0</td>\n",
       "    </tr>\n",
       "    <tr>\n",
       "      <th>29</th>\n",
       "      <td>29</td>\n",
       "      <td>abide</td>\n",
       "      <td>3557.0</td>\n",
       "      <td>215.0</td>\n",
       "      <td>True</td>\n",
       "      <td>NaN</td>\n",
       "      <td>3772.0</td>\n",
       "    </tr>\n",
       "    <tr>\n",
       "      <th>30</th>\n",
       "      <td>30</td>\n",
       "      <td>abies</td>\n",
       "      <td>3833.0</td>\n",
       "      <td>159.0</td>\n",
       "      <td>NaN</td>\n",
       "      <td>NaN</td>\n",
       "      <td>3992.0</td>\n",
       "    </tr>\n",
       "    <tr>\n",
       "      <th>...</th>\n",
       "      <td>...</td>\n",
       "      <td>...</td>\n",
       "      <td>...</td>\n",
       "      <td>...</td>\n",
       "      <td>...</td>\n",
       "      <td>...</td>\n",
       "      <td>...</td>\n",
       "    </tr>\n",
       "    <tr>\n",
       "      <th>12966</th>\n",
       "      <td>12966</td>\n",
       "      <td>zurfs</td>\n",
       "      <td>2305.0</td>\n",
       "      <td>97.0</td>\n",
       "      <td>NaN</td>\n",
       "      <td>NaN</td>\n",
       "      <td>2402.0</td>\n",
       "    </tr>\n",
       "    <tr>\n",
       "      <th>12968</th>\n",
       "      <td>12968</td>\n",
       "      <td>zygal</td>\n",
       "      <td>2474.0</td>\n",
       "      <td>103.0</td>\n",
       "      <td>NaN</td>\n",
       "      <td>NaN</td>\n",
       "      <td>2577.0</td>\n",
       "    </tr>\n",
       "    <tr>\n",
       "      <th>12969</th>\n",
       "      <td>12969</td>\n",
       "      <td>zygon</td>\n",
       "      <td>2105.0</td>\n",
       "      <td>69.0</td>\n",
       "      <td>NaN</td>\n",
       "      <td>NaN</td>\n",
       "      <td>2174.0</td>\n",
       "    </tr>\n",
       "    <tr>\n",
       "      <th>12970</th>\n",
       "      <td>12970</td>\n",
       "      <td>zymes</td>\n",
       "      <td>2683.0</td>\n",
       "      <td>62.0</td>\n",
       "      <td>NaN</td>\n",
       "      <td>NaN</td>\n",
       "      <td>2745.0</td>\n",
       "    </tr>\n",
       "    <tr>\n",
       "      <th>12971</th>\n",
       "      <td>12971</td>\n",
       "      <td>zymic</td>\n",
       "      <td>1929.0</td>\n",
       "      <td>54.0</td>\n",
       "      <td>NaN</td>\n",
       "      <td>NaN</td>\n",
       "      <td>1983.0</td>\n",
       "    </tr>\n",
       "  </tbody>\n",
       "</table>\n",
       "<p>8322 rows × 7 columns</p>\n",
       "</div>"
      ],
      "text/plain": [
       "       Unnamed: 0  guess  score_match  score_exact_match solution double  \\\n",
       "26             26  abers       4061.0              133.0      NaN    NaN   \n",
       "27             27  abets       3891.0              125.0      NaN    NaN   \n",
       "28             28  abhor       3302.0              101.0     True    NaN   \n",
       "29             29  abide       3557.0              215.0     True    NaN   \n",
       "30             30  abies       3833.0              159.0      NaN    NaN   \n",
       "...           ...    ...          ...                ...      ...    ...   \n",
       "12966       12966  zurfs       2305.0               97.0      NaN    NaN   \n",
       "12968       12968  zygal       2474.0              103.0      NaN    NaN   \n",
       "12969       12969  zygon       2105.0               69.0      NaN    NaN   \n",
       "12970       12970  zymes       2683.0               62.0      NaN    NaN   \n",
       "12971       12971  zymic       1929.0               54.0      NaN    NaN   \n",
       "\n",
       "       total_score  \n",
       "26          4194.0  \n",
       "27          4016.0  \n",
       "28          3403.0  \n",
       "29          3772.0  \n",
       "30          3992.0  \n",
       "...            ...  \n",
       "12966       2402.0  \n",
       "12968       2577.0  \n",
       "12969       2174.0  \n",
       "12970       2745.0  \n",
       "12971       1983.0  \n",
       "\n",
       "[8322 rows x 7 columns]"
      ]
     },
     "execution_count": 14,
     "metadata": {},
     "output_type": "execute_result"
    }
   ],
   "source": [
    "value_no_doubles"
   ]
  },
  {
   "cell_type": "code",
   "execution_count": 15,
   "metadata": {},
   "outputs": [
    {
     "name": "stdout",
     "output_type": "stream",
     "text": [
      "strongest start suggestion\n",
      "soare\n",
      "4947.0\n"
     ]
    }
   ],
   "source": [
    "print('strongest start suggestion')\n",
    "print (value_no_doubles['guess'][value_no_doubles['total_score'].idxmax()])\n",
    "print (value_no_doubles['total_score'][value_no_doubles['total_score'].idxmax()])"
   ]
  },
  {
   "cell_type": "code",
   "execution_count": 16,
   "metadata": {},
   "outputs": [],
   "source": [
    "large_ranks_dataset_no_dup = 'large_rank_no_doubles'\n",
    "large_ranks_dataset = 'large_word_ranks'\n",
    "df_word_ranks = pd.read_csv(large_ranks_dataset)\n",
    "df_word_ranks_no_doubles = pd.read_csv(large_ranks_dataset_no_dup)"
   ]
  },
  {
   "cell_type": "code",
   "execution_count": 17,
   "metadata": {},
   "outputs": [],
   "source": [
    "df_ranks = df_word_ranks[['guess','score_match','score_exact_match','solution','double']].copy()"
   ]
  },
  {
   "cell_type": "code",
   "execution_count": 18,
   "metadata": {},
   "outputs": [],
   "source": [
    "df_ranks['total_score'] = (df_ranks['score_match'] + df_ranks['score_exact_match'])"
   ]
  },
  {
   "cell_type": "code",
   "execution_count": 19,
   "metadata": {},
   "outputs": [
    {
     "data": {
      "text/html": [
       "<div>\n",
       "<style scoped>\n",
       "    .dataframe tbody tr th:only-of-type {\n",
       "        vertical-align: middle;\n",
       "    }\n",
       "\n",
       "    .dataframe tbody tr th {\n",
       "        vertical-align: top;\n",
       "    }\n",
       "\n",
       "    .dataframe thead th {\n",
       "        text-align: right;\n",
       "    }\n",
       "</style>\n",
       "<table border=\"1\" class=\"dataframe\">\n",
       "  <thead>\n",
       "    <tr style=\"text-align: right;\">\n",
       "      <th></th>\n",
       "      <th>guess</th>\n",
       "      <th>score_match</th>\n",
       "      <th>score_exact_match</th>\n",
       "      <th>solution</th>\n",
       "      <th>double</th>\n",
       "      <th>total_score</th>\n",
       "    </tr>\n",
       "  </thead>\n",
       "  <tbody>\n",
       "    <tr>\n",
       "      <th>0</th>\n",
       "      <td>aahed</td>\n",
       "      <td>3973.0</td>\n",
       "      <td>118.0</td>\n",
       "      <td>NaN</td>\n",
       "      <td>True</td>\n",
       "      <td>4091.0</td>\n",
       "    </tr>\n",
       "    <tr>\n",
       "      <th>1</th>\n",
       "      <td>aalii</td>\n",
       "      <td>4019.0</td>\n",
       "      <td>269.0</td>\n",
       "      <td>NaN</td>\n",
       "      <td>True</td>\n",
       "      <td>4288.0</td>\n",
       "    </tr>\n",
       "    <tr>\n",
       "      <th>2</th>\n",
       "      <td>aargh</td>\n",
       "      <td>3557.0</td>\n",
       "      <td>90.0</td>\n",
       "      <td>NaN</td>\n",
       "      <td>True</td>\n",
       "      <td>3647.0</td>\n",
       "    </tr>\n",
       "    <tr>\n",
       "      <th>3</th>\n",
       "      <td>aarti</td>\n",
       "      <td>4257.0</td>\n",
       "      <td>140.0</td>\n",
       "      <td>NaN</td>\n",
       "      <td>True</td>\n",
       "      <td>4397.0</td>\n",
       "    </tr>\n",
       "    <tr>\n",
       "      <th>4</th>\n",
       "      <td>abaca</td>\n",
       "      <td>3695.0</td>\n",
       "      <td>511.0</td>\n",
       "      <td>NaN</td>\n",
       "      <td>True</td>\n",
       "      <td>4206.0</td>\n",
       "    </tr>\n",
       "  </tbody>\n",
       "</table>\n",
       "</div>"
      ],
      "text/plain": [
       "   guess  score_match  score_exact_match solution double  total_score\n",
       "0  aahed       3973.0              118.0      NaN   True       4091.0\n",
       "1  aalii       4019.0              269.0      NaN   True       4288.0\n",
       "2  aargh       3557.0               90.0      NaN   True       3647.0\n",
       "3  aarti       4257.0              140.0      NaN   True       4397.0\n",
       "4  abaca       3695.0              511.0      NaN   True       4206.0"
      ]
     },
     "execution_count": 19,
     "metadata": {},
     "output_type": "execute_result"
    }
   ],
   "source": [
    "df_ranks.head()"
   ]
  },
  {
   "cell_type": "code",
   "execution_count": 20,
   "metadata": {},
   "outputs": [],
   "source": [
    "df_ranks.to_csv('data/rank_set.csv')"
   ]
  },
  {
   "cell_type": "code",
   "execution_count": 21,
   "metadata": {},
   "outputs": [
    {
     "name": "stdout",
     "output_type": "stream",
     "text": [
      "strongest start suggestion\n",
      "resee\n",
      "5923.0\n"
     ]
    }
   ],
   "source": [
    "print('strongest start suggestion')\n",
    "print (df_ranks['guess'][df_ranks['total_score'].idxmax()])\n",
    "print (df_ranks['total_score'][df_ranks['total_score'].idxmax()])\n"
   ]
  },
  {
   "cell_type": "code",
   "execution_count": 22,
   "metadata": {},
   "outputs": [
    {
     "name": "stdout",
     "output_type": "stream",
     "text": [
      "resee\n",
      "5923.0\n"
     ]
    }
   ],
   "source": [
    "print (df_ranks['guess'][df_ranks['total_score'].idxmax()])\n",
    "print (df_ranks['total_score'][df_ranks['total_score'].idxmax()])"
   ]
  },
  {
   "cell_type": "code",
   "execution_count": 23,
   "metadata": {},
   "outputs": [
    {
     "name": "stdout",
     "output_type": "stream",
     "text": [
      "   guess  score_match  score_exact_match solution double  total_score\n",
      "0  aahed       3973.0              118.0      NaN   True       4091.0\n",
      "1  aalii       4019.0              269.0      NaN   True       4288.0\n",
      "2  aargh       3557.0               90.0      NaN   True       3647.0\n",
      "3  aarti       4257.0              140.0      NaN   True       4397.0\n",
      "4  abaca       3695.0              511.0      NaN   True       4206.0\n",
      "strongest start suggestion\n",
      "resee\n",
      "5923.0\n"
     ]
    }
   ],
   "source": [
    "print(df_ranks.head())\n",
    "print('strongest start suggestion')\n",
    "print (df_ranks['guess'][df_ranks['total_score'].idxmax()])\n",
    "print (df_ranks['total_score'][df_ranks['total_score'].idxmax()])"
   ]
  },
  {
   "cell_type": "code",
   "execution_count": 24,
   "metadata": {},
   "outputs": [],
   "source": [
    "def remove_notcontains(grey,df):\n",
    "    df_sub = df\n",
    "    for l in grey:\n",
    "        df_sub = (df_sub.loc[(~df_sub['guess'].str.contains(l))])\n",
    "    return df_sub\n",
    "\n",
    "def remove_by_contains(letters,df):\n",
    "    df_sub = df\n",
    "    for l in letters:\n",
    "        df_sub = (df_sub.loc[(df_sub['guess'].str.contains(l))])\n",
    "    return df_sub\n",
    "\n",
    "def remove_by_location(loc,letter,df):\n",
    "    df_sub = df\n",
    "    loc = loc # for easier use 0 is positon 1\n",
    "    for l in letter:\n",
    "        df_sub = (df_sub.loc[(df_sub['guess'].str[loc]==l)])\n",
    "    return df_sub\n",
    "\n",
    "def remove_by_not_location(loc,letter,df):\n",
    "    df_sub = df\n",
    "    loc = loc # for easier use 0 is positon 1\n",
    "    for l in letter:\n",
    "        df_sub = (df_sub.loc[(df_sub['guess'].str[loc]!=l)])\n",
    "    return df_sub\n",
    "    \n",
    "def remove_by_letter_count(letter,count,df):\n",
    "    df_sub = df\n",
    "    for l in letter:\n",
    "        df_sub = (df_sub.loc[(df_sub['guess'].str.count(letter)==count)])\n",
    "    return df_sub"
   ]
  },
  {
   "cell_type": "markdown",
   "metadata": {},
   "source": [
    "here is the game aid loop"
   ]
  },
  {
   "cell_type": "code",
   "execution_count": 25,
   "metadata": {},
   "outputs": [],
   "source": [
    "df = value_no_doubles"
   ]
  },
  {
   "cell_type": "code",
   "execution_count": 26,
   "metadata": {},
   "outputs": [],
   "source": [
    "example_result = {'i0': ['present', '0'],\n",
    " 'n1': ['absent', '1'],\n",
    " 'l2': ['present', '2'],\n",
    " 'e3': ['absent', '3'],\n",
    " 't4': ['correct', '4']}\n",
    "\n",
    "# result = example_result"
   ]
  },
  {
   "cell_type": "code",
   "execution_count": 31,
   "metadata": {},
   "outputs": [],
   "source": [
    "example_result_1 = {'l0': ['correct', '0'],\n",
    " 'i1': ['correct', '1'],\n",
    " 'a2': ['absent', '2'],\n",
    " 'r3': ['absent', '3'],\n",
    " 't4': ['correct', '4']}"
   ]
  },
  {
   "cell_type": "code",
   "execution_count": 35,
   "metadata": {},
   "outputs": [],
   "source": [
    "example_result_2 = {'l0': ['correct', '0'],\n",
    " 'i1': ['correct', '1'],\n",
    " 'c2': ['absent', '2'],\n",
    " 'h3': ['correct', '3'],\n",
    " 't4': ['correct', '4']}"
   ]
  },
  {
   "cell_type": "code",
   "execution_count": 36,
   "metadata": {},
   "outputs": [],
   "source": [
    "# evaluate loop\n",
    "def next_guess(result, df):\n",
    "    for v in result:\n",
    "        letter = v[0] \n",
    "        status = result[v][0]\n",
    "        placement = int(result[v][1])\n",
    "        if status == 'correct':\n",
    "            print('correct')\n",
    "            df = remove_by_contains(letter,df)\n",
    "            df = remove_by_location(placement,letter,df)\n",
    "        elif status == 'present':\n",
    "            print('present')\n",
    "            df = remove_by_contains(letter,df)\n",
    "        elif status == 'absent':\n",
    "            print('absent')\n",
    "            df = remove_notcontains(letter,df)\n",
    "\n",
    "    return df"
   ]
  },
  {
   "cell_type": "code",
   "execution_count": 40,
   "metadata": {},
   "outputs": [
    {
     "name": "stdout",
     "output_type": "stream",
     "text": [
      "correct\n",
      "correct\n",
      "absent\n",
      "correct\n",
      "correct\n"
     ]
    }
   ],
   "source": [
    "df_results = next_guess(example_result_2, df)"
   ]
  },
  {
   "cell_type": "code",
   "execution_count": 41,
   "metadata": {},
   "outputs": [
    {
     "data": {
      "text/html": [
       "<div>\n",
       "<style scoped>\n",
       "    .dataframe tbody tr th:only-of-type {\n",
       "        vertical-align: middle;\n",
       "    }\n",
       "\n",
       "    .dataframe tbody tr th {\n",
       "        vertical-align: top;\n",
       "    }\n",
       "\n",
       "    .dataframe thead th {\n",
       "        text-align: right;\n",
       "    }\n",
       "</style>\n",
       "<table border=\"1\" class=\"dataframe\">\n",
       "  <thead>\n",
       "    <tr style=\"text-align: right;\">\n",
       "      <th></th>\n",
       "      <th>Unnamed: 0</th>\n",
       "      <th>guess</th>\n",
       "      <th>score_match</th>\n",
       "      <th>score_exact_match</th>\n",
       "      <th>solution</th>\n",
       "      <th>double</th>\n",
       "      <th>total_score</th>\n",
       "    </tr>\n",
       "  </thead>\n",
       "  <tbody>\n",
       "    <tr>\n",
       "      <th>6289</th>\n",
       "      <td>6289</td>\n",
       "      <td>light</td>\n",
       "      <td>2819.0</td>\n",
       "      <td>106.0</td>\n",
       "      <td>True</td>\n",
       "      <td>NaN</td>\n",
       "      <td>2925.0</td>\n",
       "    </tr>\n",
       "  </tbody>\n",
       "</table>\n",
       "</div>"
      ],
      "text/plain": [
       "      Unnamed: 0  guess  score_match  score_exact_match solution double  \\\n",
       "6289        6289  light       2819.0              106.0     True    NaN   \n",
       "\n",
       "      total_score  \n",
       "6289       2925.0  "
      ]
     },
     "execution_count": 41,
     "metadata": {},
     "output_type": "execute_result"
    }
   ],
   "source": [
    "df_results.head()"
   ]
  },
  {
   "cell_type": "code",
   "execution_count": 42,
   "metadata": {},
   "outputs": [
    {
     "data": {
      "text/plain": [
       "'light'"
      ]
     },
     "execution_count": 42,
     "metadata": {},
     "output_type": "execute_result"
    }
   ],
   "source": [
    "max_val_guess = (df_results['guess'][df_results['total_score'].idxmax()])\n",
    "max_val_guess"
   ]
  },
  {
   "cell_type": "code",
   "execution_count": null,
   "metadata": {},
   "outputs": [],
   "source": [
    "df_results.head()"
   ]
  },
  {
   "cell_type": "code",
   "execution_count": null,
   "metadata": {},
   "outputs": [],
   "source": [
    "max_val_guess = (df['guess'][df['total_score'].idxmax()])"
   ]
  },
  {
   "cell_type": "code",
   "execution_count": null,
   "metadata": {},
   "outputs": [],
   "source": [
    "df = df_ranks\n",
    "\n",
    "\n",
    "for v in result:\n",
    "    letter = v \n",
    "    status = result[v][0]\n",
    "    placement = result[v][1]\n",
    "    if status == 'correct':\n",
    "        print('correct')\n",
    "        df = remove_by_contains(letter,df)\n",
    "        df = remove_by_location(placement,letter,df)\n",
    "    elif status == 'present':\n",
    "        print('present')\n",
    "        df = remove_by_contains(letter,df)\n",
    "    elif status == 'absent':\n",
    "        print('absent')\n",
    "        df = remove_notcontains(letter,df)\n",
    "\n",
    "    "
   ]
  },
  {
   "cell_type": "code",
   "execution_count": null,
   "metadata": {},
   "outputs": [],
   "source": [
    "# make the testing loop\n",
    "# starting DF df_word_ranks\n",
    "\n",
    "# show results and sort non-doubles over doubles after score value\n",
    "\n",
    "round = 0\n",
    "word = ''\n",
    "df_options = df_ranks\n",
    "\n",
    "print('strongest start suggestion')\n",
    "print (df_ranks['guess'][df_ranks['total_score'].idxmax()])\n",
    "print (df_ranks['total_score'][df_ranks['total_score'].idxmax()])\n",
    "\n",
    "go = 'go'\n",
    "\n",
    "while go != 'no':\n",
    "    round += 1 \n",
    "    if round == 1:\n",
    "\n",
    "        print('initial guess')\n",
    "        word = input('enter your guess:')\n",
    "        pass\n",
    "\n",
    "    if round > 1:\n",
    "\n",
    "        print(str(round))\n",
    "\n",
    "        not_char = input('enter eliminated letters:[l,e,t,t,e,r]')\n",
    "        is_char = input('enter confirmed letters:[y,e,s]')\n",
    "        loc_letters = input('enter confirmed locations: [letter,location]')\n",
    "        dup_letters = input('enter known letter counts: [letter,count]')\n",
    "        not_loc_letters = input('for known letters, where are they not located? : [letter,count]')\n",
    "\n",
    "        # eliminate options, and show the reduced best 5 choices\n",
    "        if len(not_char)>0:\n",
    "            df_options = remove_notcontains(not_char,df_options)\n",
    "\n",
    "        if len(is_char)>0:\n",
    "            df_options = remove_by_contains(is_char,df_options)\n",
    "            if len(not_loc_letters) >0:\n",
    "                for i in range(0,int(len(not_loc_letters)),2):\n",
    "                    df_options = remove_by_not_location(loc=int(not_loc_letters[i+1]),letter=str(not_loc_letters[i]),df=df_options)\n",
    "\n",
    "        if len(loc_letters)>0:\n",
    "            # remove by letters in correct location\n",
    "            for i in range(0,int(len(loc_letters)),2):\n",
    "                df_options = remove_by_location(loc=int(loc_letters[i+1]),letter=str(loc_letters[i]),df=df_options)\n",
    "        \n",
    "        if len(dup_letters)>0:\n",
    "            # remove by letters in correct location\n",
    "            for i in range(0,int(len(loc_letters)),2):\n",
    "                df_options = remove_by_letter_count(loc=int(dup_letters[i+1]),letter=str(dup_letters[i]),df=df_options)\n",
    "        \n",
    "        try:\n",
    "            next_best = (df_options['guess'][df_options['total_score'].idxmax()])\n",
    "            print('from the results of the last guess')\n",
    "            print('next best option is ' + str(next_best))\n",
    "            print('your top remaiing options are: ')\n",
    "            print(df_options.nlargest(3, 'total_score'))\n",
    "        except:\n",
    "            print('message')\n",
    "            print(df_options.head())\n",
    "            pass\n",
    "    \n",
    "    \n",
    "        go = input('go again?:')\n",
    "\n",
    "    print(str(round))\n"
   ]
  },
  {
   "cell_type": "code",
   "execution_count": null,
   "metadata": {},
   "outputs": [],
   "source": [
    "#  this can be improved by confiming the number of letters in a word, 'wince' has one E and this was confirmed\n",
    "# use this to elimate more from the pool when the information is availible"
   ]
  }
 ],
 "metadata": {
  "interpreter": {
   "hash": "89c9495d7288a841850a3e94f59b3b05e223feb05ad00310e8b7beb8d89f2966"
  },
  "kernelspec": {
   "display_name": "Python 3.10.1 64-bit ('pingme-0wiYN-f2': pipenv)",
   "language": "python",
   "name": "python3"
  },
  "language_info": {
   "codemirror_mode": {
    "name": "ipython",
    "version": 3
   },
   "file_extension": ".py",
   "mimetype": "text/x-python",
   "name": "python",
   "nbconvert_exporter": "python",
   "pygments_lexer": "ipython3",
   "version": "3.10.2"
  },
  "orig_nbformat": 4
 },
 "nbformat": 4,
 "nbformat_minor": 2
}
