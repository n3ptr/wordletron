{
 "cells": [
  {
   "cell_type": "code",
   "execution_count": 1,
   "metadata": {},
   "outputs": [],
   "source": [
    "# from english_words import english_words_set\\\n",
    "# import multiprocessing as mp\n",
    "# import warnings\n",
    "import pandas as pd\n",
    "# import numpy as np"
   ]
  },
  {
   "cell_type": "code",
   "execution_count": 2,
   "metadata": {},
   "outputs": [
    {
     "name": "stdout",
     "output_type": "stream",
     "text": [
      "12972\n"
     ]
    }
   ],
   "source": [
    "f = open('guesses.txt','r')\n",
    "guesses = []\n",
    "\n",
    "for line in f:\n",
    "    guesses.append(line.strip())\n",
    "\n",
    "print(str(len(guesses)))"
   ]
  },
  {
   "cell_type": "code",
   "execution_count": 3,
   "metadata": {},
   "outputs": [],
   "source": [
    "words5 = guesses"
   ]
  },
  {
   "cell_type": "code",
   "execution_count": 4,
   "metadata": {},
   "outputs": [
    {
     "name": "stdout",
     "output_type": "stream",
     "text": [
      "[]\n"
     ]
    }
   ],
   "source": [
    "# this should be an empty list, checking to be sure we do not have non alpha chars in the words\n",
    "print([i for i in words5 if not i.isalpha()])"
   ]
  },
  {
   "cell_type": "code",
   "execution_count": 5,
   "metadata": {},
   "outputs": [
    {
     "data": {
      "text/plain": [
       "12972"
      ]
     },
     "execution_count": 5,
     "metadata": {},
     "output_type": "execute_result"
    }
   ],
   "source": [
    "len(words5)"
   ]
  },
  {
   "cell_type": "code",
   "execution_count": 19,
   "metadata": {},
   "outputs": [],
   "source": [
    "large_ranks_dataset_no_dup = 'large_rank_no_doubles'\n",
    "large_ranks_dataset = 'large_word_ranks'\n",
    "df_word_ranks = pd.read_csv(large_ranks_dataset)\n",
    "df_word_ranks_no_doubles = pd.read_csv(large_ranks_dataset_no_dup)"
   ]
  },
  {
   "cell_type": "code",
   "execution_count": 20,
   "metadata": {},
   "outputs": [],
   "source": [
    "df_ranks = df_word_ranks[['guess','score_match','score_exact_match','solution','double']].copy()"
   ]
  },
  {
   "cell_type": "code",
   "execution_count": 21,
   "metadata": {},
   "outputs": [],
   "source": [
    "df_ranks['total_score'] = (df_ranks['score_match'] + df_ranks['score_exact_match'])"
   ]
  },
  {
   "cell_type": "code",
   "execution_count": 22,
   "metadata": {},
   "outputs": [
    {
     "data": {
      "text/html": [
       "<div>\n",
       "<style scoped>\n",
       "    .dataframe tbody tr th:only-of-type {\n",
       "        vertical-align: middle;\n",
       "    }\n",
       "\n",
       "    .dataframe tbody tr th {\n",
       "        vertical-align: top;\n",
       "    }\n",
       "\n",
       "    .dataframe thead th {\n",
       "        text-align: right;\n",
       "    }\n",
       "</style>\n",
       "<table border=\"1\" class=\"dataframe\">\n",
       "  <thead>\n",
       "    <tr style=\"text-align: right;\">\n",
       "      <th></th>\n",
       "      <th>guess</th>\n",
       "      <th>score_match</th>\n",
       "      <th>score_exact_match</th>\n",
       "      <th>solution</th>\n",
       "      <th>double</th>\n",
       "      <th>total_score</th>\n",
       "    </tr>\n",
       "  </thead>\n",
       "  <tbody>\n",
       "    <tr>\n",
       "      <th>0</th>\n",
       "      <td>aahed</td>\n",
       "      <td>3973.0</td>\n",
       "      <td>118.0</td>\n",
       "      <td>NaN</td>\n",
       "      <td>True</td>\n",
       "      <td>4091.0</td>\n",
       "    </tr>\n",
       "    <tr>\n",
       "      <th>1</th>\n",
       "      <td>aalii</td>\n",
       "      <td>4019.0</td>\n",
       "      <td>269.0</td>\n",
       "      <td>NaN</td>\n",
       "      <td>True</td>\n",
       "      <td>4288.0</td>\n",
       "    </tr>\n",
       "    <tr>\n",
       "      <th>2</th>\n",
       "      <td>aargh</td>\n",
       "      <td>3557.0</td>\n",
       "      <td>90.0</td>\n",
       "      <td>NaN</td>\n",
       "      <td>True</td>\n",
       "      <td>3647.0</td>\n",
       "    </tr>\n",
       "    <tr>\n",
       "      <th>3</th>\n",
       "      <td>aarti</td>\n",
       "      <td>4257.0</td>\n",
       "      <td>140.0</td>\n",
       "      <td>NaN</td>\n",
       "      <td>True</td>\n",
       "      <td>4397.0</td>\n",
       "    </tr>\n",
       "    <tr>\n",
       "      <th>4</th>\n",
       "      <td>abaca</td>\n",
       "      <td>3695.0</td>\n",
       "      <td>511.0</td>\n",
       "      <td>NaN</td>\n",
       "      <td>True</td>\n",
       "      <td>4206.0</td>\n",
       "    </tr>\n",
       "  </tbody>\n",
       "</table>\n",
       "</div>"
      ],
      "text/plain": [
       "   guess  score_match  score_exact_match solution double  total_score\n",
       "0  aahed       3973.0              118.0      NaN   True       4091.0\n",
       "1  aalii       4019.0              269.0      NaN   True       4288.0\n",
       "2  aargh       3557.0               90.0      NaN   True       3647.0\n",
       "3  aarti       4257.0              140.0      NaN   True       4397.0\n",
       "4  abaca       3695.0              511.0      NaN   True       4206.0"
      ]
     },
     "execution_count": 22,
     "metadata": {},
     "output_type": "execute_result"
    }
   ],
   "source": [
    "df_ranks.head()"
   ]
  },
  {
   "cell_type": "code",
   "execution_count": 23,
   "metadata": {},
   "outputs": [
    {
     "name": "stdout",
     "output_type": "stream",
     "text": [
      "resee\n",
      "5923.0\n"
     ]
    }
   ],
   "source": [
    "print (df_ranks['guess'][df_ranks['total_score'].idxmax()])\n",
    "print (df_ranks['total_score'][df_ranks['total_score'].idxmax()])"
   ]
  },
  {
   "cell_type": "code",
   "execution_count": 24,
   "metadata": {},
   "outputs": [],
   "source": [
    "def remove_notcontains(grey,df):\n",
    "    df_sub = df\n",
    "    for l in grey:\n",
    "        df_sub = (df_sub.loc[(~df_sub['guess'].str.contains(l))])\n",
    "    return df_sub"
   ]
  },
  {
   "cell_type": "code",
   "execution_count": 25,
   "metadata": {},
   "outputs": [],
   "source": [
    "def remove_by_contains(letters,df):\n",
    "    df_sub = df\n",
    "    for l in letters:\n",
    "        df_sub = (df_sub.loc[(df_sub['guess'].str.contains(l))])\n",
    "    return df_sub"
   ]
  },
  {
   "cell_type": "code",
   "execution_count": 26,
   "metadata": {},
   "outputs": [],
   "source": [
    "def remove_by_location(loc,letter,df):\n",
    "    df_sub = df\n",
    "    loc = loc-1 # for easier use 0 is positon 1\n",
    "    for l in letter:\n",
    "        df_sub = (df_sub.loc[(df_sub['guess'].str[loc]==l)])\n",
    "    return df_sub"
   ]
  },
  {
   "cell_type": "code",
   "execution_count": 27,
   "metadata": {},
   "outputs": [],
   "source": [
    "# confirm letter not in location!\n",
    "def remove_by_not_location(loc,letter,df):\n",
    "    df_sub = df\n",
    "    loc = loc-1 # for easier use 0 is positon 1\n",
    "    for l in letter:\n",
    "        df_sub = (df_sub.loc[(df_sub['guess'].str[loc]!=l)])\n",
    "    return df_sub"
   ]
  },
  {
   "cell_type": "code",
   "execution_count": 28,
   "metadata": {},
   "outputs": [],
   "source": [
    "def remove_by_letter_count(letter,count,df):\n",
    "    df_sub = df\n",
    "    for l in letter:\n",
    "        df_sub = (df_sub.loc[(df_sub['guess'].str.count(letter)==count)])\n",
    "    return df_sub"
   ]
  },
  {
   "cell_type": "code",
   "execution_count": 29,
   "metadata": {},
   "outputs": [],
   "source": [
    "# df_ranks = df_ranks.loc[(df_ranks['solution']==True)]"
   ]
  },
  {
   "cell_type": "code",
   "execution_count": 30,
   "metadata": {},
   "outputs": [
    {
     "name": "stdout",
     "output_type": "stream",
     "text": [
      "   guess  score_match  score_exact_match solution double  total_score\n",
      "0  aahed       3973.0              118.0      NaN   True       4091.0\n",
      "1  aalii       4019.0              269.0      NaN   True       4288.0\n",
      "2  aargh       3557.0               90.0      NaN   True       3647.0\n",
      "3  aarti       4257.0              140.0      NaN   True       4397.0\n",
      "4  abaca       3695.0              511.0      NaN   True       4206.0\n",
      "strongest start suggestion\n",
      "resee\n",
      "5923.0\n"
     ]
    }
   ],
   "source": [
    "print(df_ranks.head())\n",
    "print('strongest start suggestion')\n",
    "print (df_ranks['guess'][df_ranks['total_score'].idxmax()])\n",
    "print (df_ranks['total_score'][df_ranks['total_score'].idxmax()])"
   ]
  },
  {
   "cell_type": "markdown",
   "metadata": {},
   "source": [
    "here is the game aid loop"
   ]
  },
  {
   "cell_type": "code",
   "execution_count": 31,
   "metadata": {},
   "outputs": [
    {
     "name": "stdout",
     "output_type": "stream",
     "text": [
      "strongest start suggestion\n",
      "resee\n",
      "5923.0\n",
      "initial guess\n",
      "1\n",
      "2\n",
      "from the results of the last guess\n",
      "next best option is cloot\n",
      "your top remaiing options are: \n",
      "      guess  score_match  score_exact_match solution double  total_score\n",
      "2111  cloot       3433.0              162.0      NaN   True       3595.0\n",
      "7743  onion       3329.0              222.0     True   True       3551.0\n",
      "8291  pitot       3250.0              228.0      NaN   True       3478.0\n",
      "2\n"
     ]
    }
   ],
   "source": [
    "# make the testing loop\n",
    "# starting DF df_word_ranks\n",
    "\n",
    "# show results and sort non-doubles over doubles after score value\n",
    "\n",
    "round = 0\n",
    "word = ''\n",
    "df_options = df_ranks\n",
    "\n",
    "print('strongest start suggestion')\n",
    "print (df_ranks['guess'][df_ranks['total_score'].idxmax()])\n",
    "print (df_ranks['total_score'][df_ranks['total_score'].idxmax()])\n",
    "\n",
    "go = 'go'\n",
    "\n",
    "while go != 'no':\n",
    "    round += 1 \n",
    "    if round == 1:\n",
    "\n",
    "        print('initial guess')\n",
    "        word = input('enter your guess:')\n",
    "        pass\n",
    "\n",
    "    if round > 1:\n",
    "\n",
    "        print(str(round))\n",
    "\n",
    "        not_char = input('enter eliminated letters:[l,e,t,t,e,r]')\n",
    "        is_char = input('enter confirmed letters:[y,e,s]')\n",
    "        loc_letters = input('enter confirmed locations: [letter,location]')\n",
    "        dup_letters = input('enter known letter counts: [letter,count]')\n",
    "        not_loc_letters = input('for known letters, where are they not located? : [letter,count]')\n",
    "\n",
    "        # eliminate options, and show the reduced best 5 choices\n",
    "        if len(not_char)>0:\n",
    "            df_options = remove_notcontains(not_char,df_options)\n",
    "\n",
    "        if len(is_char)>0:\n",
    "            df_options = remove_by_contains(is_char,df_options)\n",
    "            if len(not_loc_letters) >0:\n",
    "                for i in range(0,int(len(not_loc_letters)),2):\n",
    "                    df_options = remove_by_not_location(loc=int(not_loc_letters[i+1]),letter=str(not_loc_letters[i]),df=df_options)\n",
    "\n",
    "        if len(loc_letters)>0:\n",
    "            # remove by letters in correct location\n",
    "            for i in range(0,int(len(loc_letters)),2):\n",
    "                df_options = remove_by_location(loc=int(loc_letters[i+1]),letter=str(loc_letters[i]),df=df_options)\n",
    "        \n",
    "        if len(dup_letters)>0:\n",
    "            # remove by letters in correct location\n",
    "            for i in range(0,int(len(loc_letters)),2):\n",
    "                df_options = remove_by_letter_count(loc=int(dup_letters[i+1]),letter=str(dup_letters[i]),df=df_options)\n",
    "        \n",
    "        try:\n",
    "            next_best = (df_options['guess'][df_options['total_score'].idxmax()])\n",
    "            print('from the results of the last guess')\n",
    "            print('next best option is ' + str(next_best))\n",
    "            print('your top remaiing options are: ')\n",
    "            print(df_options.nlargest(3, 'total_score'))\n",
    "        except:\n",
    "            print('message')\n",
    "            print(df_options.head())\n",
    "            pass\n",
    "    \n",
    "    \n",
    "        go = input('go again?:')\n",
    "\n",
    "    print(str(round))\n"
   ]
  },
  {
   "cell_type": "code",
   "execution_count": null,
   "metadata": {},
   "outputs": [],
   "source": [
    "#  this can be improved by confiming the number of letters in a word, 'wince' has one E and this was confirmed\n",
    "# use this to elimate more from the pool when the information is availible"
   ]
  }
 ],
 "metadata": {
  "interpreter": {
   "hash": "89c9495d7288a841850a3e94f59b3b05e223feb05ad00310e8b7beb8d89f2966"
  },
  "kernelspec": {
   "display_name": "Python 3.10.1 64-bit ('pingme-0wiYN-f2': pipenv)",
   "language": "python",
   "name": "python3"
  },
  "language_info": {
   "codemirror_mode": {
    "name": "ipython",
    "version": 3
   },
   "file_extension": ".py",
   "mimetype": "text/x-python",
   "name": "python",
   "nbconvert_exporter": "python",
   "pygments_lexer": "ipython3",
   "version": "3.10.2"
  },
  "orig_nbformat": 4
 },
 "nbformat": 4,
 "nbformat_minor": 2
}
