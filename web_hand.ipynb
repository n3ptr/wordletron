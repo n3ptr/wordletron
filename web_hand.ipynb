{
 "cells": [
  {
   "cell_type": "code",
   "execution_count": 193,
   "metadata": {},
   "outputs": [],
   "source": [
    "from selenium import webdriver\n",
    "from selenium.webdriver.common.by import By\n",
    "from selenium.webdriver.common.keys import Keys"
   ]
  },
  {
   "cell_type": "code",
   "execution_count": 194,
   "metadata": {},
   "outputs": [],
   "source": [
    "browser = webdriver.Firefox()"
   ]
  },
  {
   "cell_type": "code",
   "execution_count": 195,
   "metadata": {},
   "outputs": [],
   "source": [
    "browser.get('https://www.powerlanguage.co.uk/wordle/')\n",
    "assert 'Wordle' in browser.title"
   ]
  },
  {
   "cell_type": "code",
   "execution_count": 196,
   "metadata": {},
   "outputs": [],
   "source": [
    "elem = browser.find_element(By.CLASS_NAME, 'nightmode')"
   ]
  },
  {
   "cell_type": "code",
   "execution_count": 199,
   "metadata": {},
   "outputs": [],
   "source": [
    "elem.click()"
   ]
  },
  {
   "cell_type": "code",
   "execution_count": 205,
   "metadata": {},
   "outputs": [],
   "source": [
    "guess = 'strip'\n",
    "elem.send_keys(guess + Keys.RETURN)"
   ]
  },
  {
   "cell_type": "code",
   "execution_count": 200,
   "metadata": {},
   "outputs": [],
   "source": [
    "elem = browser.find_element(By.CLASS_NAME, 'nightmode')\n",
    "shadowRoot = browser.execute_script(\"return arguments[0].shadowRoot\", elem)"
   ]
  },
  {
   "cell_type": "code",
   "execution_count": 201,
   "metadata": {},
   "outputs": [],
   "source": [
    "qry_script = \"\"\"return document.querySelector('game-app').shadowRoot.querySelector('game-row').shadowRoot.querySelectorAll('game-tile[letter]')\"\"\""
   ]
  },
  {
   "cell_type": "code",
   "execution_count": null,
   "metadata": {},
   "outputs": [],
   "source": [
    "qry_script = \"\"\"return document.querySelector('game-app').shadowRoot.querySelector('game-row').shadowRoot.querySelectorAll('game-tile')\"\"\""
   ]
  },
  {
   "cell_type": "code",
   "execution_count": null,
   "metadata": {},
   "outputs": [],
   "source": [
    "qry_script = \"\"\"return document.querySelector('game-app').shadowRoot.querySelectorAll('game-row')\"\"\""
   ]
  },
  {
   "cell_type": "code",
   "execution_count": null,
   "metadata": {},
   "outputs": [],
   "source": [
    "qry_r = browser.execute_script(qry_script)"
   ]
  },
  {
   "cell_type": "code",
   "execution_count": null,
   "metadata": {},
   "outputs": [],
   "source": []
  },
  {
   "cell_type": "code",
   "execution_count": null,
   "metadata": {},
   "outputs": [],
   "source": [
    "qry_r[0].get_attribute(\"outerHTML\")"
   ]
  },
  {
   "cell_type": "code",
   "execution_count": null,
   "metadata": {},
   "outputs": [],
   "source": [
    "for my_elem in browser.execute_script(qry_script):\n",
    "    # print(my_elem)\n",
    "    out_texts = my_elem.get_attribute(\"outerHTML\")\n",
    "\n",
    "    print(out_texts)\n"
   ]
  },
  {
   "cell_type": "code",
   "execution_count": 206,
   "metadata": {},
   "outputs": [
    {
     "name": "stdout",
     "output_type": "stream",
     "text": [
      "<game-tile letter=\"r\" evaluation=\"absent\" reveal=\"\"></game-tile>\n",
      "<game-tile letter=\"o\" evaluation=\"correct\" reveal=\"\"></game-tile>\n",
      "<game-tile letter=\"a\" evaluation=\"absent\" reveal=\"\"></game-tile>\n",
      "<game-tile letter=\"t\" evaluation=\"absent\" reveal=\"\"></game-tile>\n",
      "<game-tile letter=\"e\" evaluation=\"absent\" reveal=\"\"></game-tile>\n"
     ]
    }
   ],
   "source": [
    "inner_texts = [my_elem.get_attribute(\"outerHTML\") for my_elem in browser.execute_script(qry_script)]\n",
    "for inner_text in inner_texts:\n",
    "    print(inner_text)"
   ]
  },
  {
   "cell_type": "code",
   "execution_count": null,
   "metadata": {},
   "outputs": [],
   "source": [
    "inner_texts = [my_elem.get_attribute(\"outerHTML\") for my_elem in browser.execute_script(qry_script)]\n",
    "for inner_text in inner_texts:\n",
    "    print(inner_text)"
   ]
  },
  {
   "cell_type": "code",
   "execution_count": null,
   "metadata": {},
   "outputs": [],
   "source": [
    "app"
   ]
  },
  {
   "cell_type": "code",
   "execution_count": null,
   "metadata": {},
   "outputs": [],
   "source": [
    "items = elem.find_elements(By.PARTIAL_LINK_TEXT, 'q')\n",
    "for item in items:\n",
    "    text = item.text\n",
    "    print (text)"
   ]
  },
  {
   "cell_type": "code",
   "execution_count": null,
   "metadata": {},
   "outputs": [],
   "source": [
    "elem.click()"
   ]
  },
  {
   "cell_type": "code",
   "execution_count": null,
   "metadata": {},
   "outputs": [],
   "source": [
    "# items = browser.find_elements(By.ID, 'game')\n",
    "items = elem.find_elements(By.PARTIAL_LINK_TEXT, 'q')\n",
    "for item in items:\n",
    "    text = item.text\n",
    "    print (text)"
   ]
  },
  {
   "cell_type": "code",
   "execution_count": null,
   "metadata": {},
   "outputs": [],
   "source": []
  },
  {
   "cell_type": "code",
   "execution_count": null,
   "metadata": {},
   "outputs": [],
   "source": [
    "browser.quit()"
   ]
  }
 ],
 "metadata": {
  "interpreter": {
   "hash": "0fd60408384064d40e51647f0c8dc788d73d0fd6cabb1af75a64a9d507f10b19"
  },
  "kernelspec": {
   "display_name": "Python 3.10.2 64-bit ('wordletron2000-9JAwi6tr': pipenv)",
   "language": "python",
   "name": "python3"
  },
  "language_info": {
   "codemirror_mode": {
    "name": "ipython",
    "version": 3
   },
   "file_extension": ".py",
   "mimetype": "text/x-python",
   "name": "python",
   "nbconvert_exporter": "python",
   "pygments_lexer": "ipython3",
   "version": "3.10.2"
  },
  "orig_nbformat": 4
 },
 "nbformat": 4,
 "nbformat_minor": 2
}
