{
 "cells": [
  {
   "cell_type": "code",
   "execution_count": 18,
   "metadata": {},
   "outputs": [],
   "source": [
    "import requests\n",
    "from bs4 import BeautifulSoup as bs4\n",
    "from selenium import webdriver\n",
    "from selenium.webdriver.common.by import By\n",
    "from selenium.webdriver.common.keys import Keys"
   ]
  },
  {
   "cell_type": "code",
   "execution_count": 13,
   "metadata": {},
   "outputs": [],
   "source": [
    "browser = webdriver.Firefox()"
   ]
  },
  {
   "cell_type": "code",
   "execution_count": 14,
   "metadata": {},
   "outputs": [],
   "source": [
    "browser.get('https://www.powerlanguage.co.uk/wordle/')\n",
    "assert 'Wordle' in browser.title"
   ]
  },
  {
   "cell_type": "code",
   "execution_count": 63,
   "metadata": {},
   "outputs": [],
   "source": [
    "elem = browser.find_element(By.CLASS_NAME, 'nightmode')"
   ]
  },
  {
   "cell_type": "code",
   "execution_count": 232,
   "metadata": {},
   "outputs": [],
   "source": [
    "#  get the button HTMLs\n",
    "html_source_code = browser.execute_script(\"return document.querySelector('game-app').shadowRoot.querySelector('game-theme-manager').querySelector('game-keyboard').shadowRoot.querySelectorAll('button');\")\n",
    "# html_source_code = browser.execute_script(\"return document.querySelector('game-app').shadowRoot.querySelector('game-theme-manager').querySelector('game-keyboard');\")"
   ]
  },
  {
   "cell_type": "code",
   "execution_count": 233,
   "metadata": {},
   "outputs": [
    {
     "data": {
      "text/plain": [
       "[<selenium.webdriver.remote.webelement.WebElement (session=\"7a8294b8-ade0-433a-8484-d438ac0b710f\", element=\"10fdbf87-26e4-496e-8ba1-4db396a864ef\")>,\n",
       " <selenium.webdriver.remote.webelement.WebElement (session=\"7a8294b8-ade0-433a-8484-d438ac0b710f\", element=\"f0ebb9c6-152c-4c7f-b6fa-d4ee45983bed\")>,\n",
       " <selenium.webdriver.remote.webelement.WebElement (session=\"7a8294b8-ade0-433a-8484-d438ac0b710f\", element=\"b8122027-ccd2-4e9b-97ec-b57a7d3e366c\")>,\n",
       " <selenium.webdriver.remote.webelement.WebElement (session=\"7a8294b8-ade0-433a-8484-d438ac0b710f\", element=\"f671b576-7e35-46f1-b9a5-9d54a827ca5e\")>,\n",
       " <selenium.webdriver.remote.webelement.WebElement (session=\"7a8294b8-ade0-433a-8484-d438ac0b710f\", element=\"efcb6957-8961-4646-8d08-1e0f63f2ba94\")>,\n",
       " <selenium.webdriver.remote.webelement.WebElement (session=\"7a8294b8-ade0-433a-8484-d438ac0b710f\", element=\"59b27b1d-4382-4c3c-b869-a40ef276b9c2\")>,\n",
       " <selenium.webdriver.remote.webelement.WebElement (session=\"7a8294b8-ade0-433a-8484-d438ac0b710f\", element=\"e32f7e06-4087-45d0-b73e-1bf100bb0d0f\")>,\n",
       " <selenium.webdriver.remote.webelement.WebElement (session=\"7a8294b8-ade0-433a-8484-d438ac0b710f\", element=\"e87fcf33-b543-4444-bd5d-6ff0dee8e800\")>,\n",
       " <selenium.webdriver.remote.webelement.WebElement (session=\"7a8294b8-ade0-433a-8484-d438ac0b710f\", element=\"45a5311d-3fe2-4012-8779-9861421e409c\")>,\n",
       " <selenium.webdriver.remote.webelement.WebElement (session=\"7a8294b8-ade0-433a-8484-d438ac0b710f\", element=\"0e4d22d2-3836-4741-be3c-2ae5c308c6b5\")>,\n",
       " <selenium.webdriver.remote.webelement.WebElement (session=\"7a8294b8-ade0-433a-8484-d438ac0b710f\", element=\"b1ce4c28-d007-44be-8906-1eecb8eb03d3\")>,\n",
       " <selenium.webdriver.remote.webelement.WebElement (session=\"7a8294b8-ade0-433a-8484-d438ac0b710f\", element=\"f6f3afe9-94b0-48ae-9778-247a266890c9\")>,\n",
       " <selenium.webdriver.remote.webelement.WebElement (session=\"7a8294b8-ade0-433a-8484-d438ac0b710f\", element=\"ab1f22a3-6297-458c-850d-aa51ce700381\")>,\n",
       " <selenium.webdriver.remote.webelement.WebElement (session=\"7a8294b8-ade0-433a-8484-d438ac0b710f\", element=\"8f467f0d-be7f-48a5-ac8f-ad776061dc37\")>,\n",
       " <selenium.webdriver.remote.webelement.WebElement (session=\"7a8294b8-ade0-433a-8484-d438ac0b710f\", element=\"9a6691de-828f-4b50-8844-ee237be84b25\")>,\n",
       " <selenium.webdriver.remote.webelement.WebElement (session=\"7a8294b8-ade0-433a-8484-d438ac0b710f\", element=\"12d61d5d-00ff-4ec8-96a2-37edaac914ea\")>,\n",
       " <selenium.webdriver.remote.webelement.WebElement (session=\"7a8294b8-ade0-433a-8484-d438ac0b710f\", element=\"0302fe14-5ead-400c-aa02-90593f3a56dc\")>,\n",
       " <selenium.webdriver.remote.webelement.WebElement (session=\"7a8294b8-ade0-433a-8484-d438ac0b710f\", element=\"afd213ae-ae8e-414e-a793-fcd5890e19bd\")>,\n",
       " <selenium.webdriver.remote.webelement.WebElement (session=\"7a8294b8-ade0-433a-8484-d438ac0b710f\", element=\"20a2cdd7-0e5b-4eb4-877e-dec0ce6fc394\")>,\n",
       " <selenium.webdriver.remote.webelement.WebElement (session=\"7a8294b8-ade0-433a-8484-d438ac0b710f\", element=\"79594cbd-15c8-448f-a44a-92cc487903e0\")>,\n",
       " <selenium.webdriver.remote.webelement.WebElement (session=\"7a8294b8-ade0-433a-8484-d438ac0b710f\", element=\"106a2c2c-ea0a-4816-99df-92069c492db1\")>,\n",
       " <selenium.webdriver.remote.webelement.WebElement (session=\"7a8294b8-ade0-433a-8484-d438ac0b710f\", element=\"6de5f258-2767-4fa4-a0e1-7693504edb79\")>,\n",
       " <selenium.webdriver.remote.webelement.WebElement (session=\"7a8294b8-ade0-433a-8484-d438ac0b710f\", element=\"e0ac794f-8e43-4b36-87b1-8bac69100c33\")>,\n",
       " <selenium.webdriver.remote.webelement.WebElement (session=\"7a8294b8-ade0-433a-8484-d438ac0b710f\", element=\"1fe7f8b0-9758-4485-ad3d-63f5eb601c04\")>,\n",
       " <selenium.webdriver.remote.webelement.WebElement (session=\"7a8294b8-ade0-433a-8484-d438ac0b710f\", element=\"6fefbad3-193b-46a7-b050-247c411db64d\")>,\n",
       " <selenium.webdriver.remote.webelement.WebElement (session=\"7a8294b8-ade0-433a-8484-d438ac0b710f\", element=\"e2f063f2-6edb-4611-bcf0-dd4efa875b3f\")>,\n",
       " <selenium.webdriver.remote.webelement.WebElement (session=\"7a8294b8-ade0-433a-8484-d438ac0b710f\", element=\"84f60572-5060-4b00-bf14-c1e9225b1f9d\")>,\n",
       " <selenium.webdriver.remote.webelement.WebElement (session=\"7a8294b8-ade0-433a-8484-d438ac0b710f\", element=\"e4adf15c-7b6a-4de8-aaeb-3c257a48dc5f\")>]"
      ]
     },
     "execution_count": 233,
     "metadata": {},
     "output_type": "execute_result"
    }
   ],
   "source": [
    "html_source_code"
   ]
  },
  {
   "cell_type": "code",
   "execution_count": 235,
   "metadata": {},
   "outputs": [
    {
     "data": {
      "text/plain": [
       "'<button data-key=\"q\">q</button>'"
      ]
     },
     "execution_count": 235,
     "metadata": {},
     "output_type": "execute_result"
    }
   ],
   "source": [
    "html_source_code[0].get_attribute(\"outerHTML\")"
   ]
  },
  {
   "cell_type": "code",
   "execution_count": 66,
   "metadata": {},
   "outputs": [],
   "source": [
    "# need to slow down here"
   ]
  },
  {
   "cell_type": "code",
   "execution_count": 67,
   "metadata": {},
   "outputs": [],
   "source": [
    "elem.click()"
   ]
  },
  {
   "cell_type": "code",
   "execution_count": 69,
   "metadata": {},
   "outputs": [],
   "source": [
    "start = req_text.find(\"<game-tile\") + len(\"<game-tile\")\n",
    "end = req_text.find(\"<game-tile\", start) + 1\n",
    "word_string = req_text[start:end]"
   ]
  },
  {
   "cell_type": "code",
   "execution_count": 70,
   "metadata": {},
   "outputs": [
    {
     "data": {
      "text/plain": [
       "' letter=\"w\" evaluation=\"correct\" reveal></game-tile>\\\\n            <'"
      ]
     },
     "execution_count": 70,
     "metadata": {},
     "output_type": "execute_result"
    }
   ],
   "source": [
    "word_string"
   ]
  },
  {
   "cell_type": "code",
   "execution_count": 71,
   "metadata": {},
   "outputs": [],
   "source": [
    "guess = 'strip'\n",
    "elem.send_keys(guess + Keys.RETURN)"
   ]
  },
  {
   "cell_type": "code",
   "execution_count": 57,
   "metadata": {},
   "outputs": [],
   "source": [
    "elem = browser.find_element(By.CLASS_NAME, 'nightmode')\n",
    "shadowRoot = browser.execute_script(\"return arguments[0].shadowRoot\", elem)"
   ]
  },
  {
   "cell_type": "code",
   "execution_count": 58,
   "metadata": {},
   "outputs": [],
   "source": [
    "qry_script = \"\"\"return document.querySelector('game-app').shadowRoot.querySelector('game-row').shadowRoot.querySelectorAll('game-tile[letter]')\"\"\""
   ]
  },
  {
   "cell_type": "code",
   "execution_count": 9,
   "metadata": {},
   "outputs": [],
   "source": [
    "qry_r = browser.execute_script(qry_script)"
   ]
  },
  {
   "cell_type": "code",
   "execution_count": 10,
   "metadata": {},
   "outputs": [
    {
     "data": {
      "text/plain": [
       "<selenium.webdriver.remote.webelement.WebElement (session=\"e23af958-3211-4205-af2d-a9bbb622e9e8\", element=\"0d9c8d05-0875-40b6-bb81-4a985b7d4058\")>"
      ]
     },
     "execution_count": 10,
     "metadata": {},
     "output_type": "execute_result"
    }
   ],
   "source": [
    "qry_r[0]"
   ]
  },
  {
   "cell_type": "code",
   "execution_count": 11,
   "metadata": {},
   "outputs": [
    {
     "name": "stdout",
     "output_type": "stream",
     "text": [
      "<game-tile letter=\"s\" evaluation=\"absent\" reveal=\"\"></game-tile>\n",
      "<game-tile letter=\"t\" evaluation=\"absent\" reveal=\"\"></game-tile>\n",
      "<game-tile letter=\"r\" evaluation=\"present\" reveal=\"\"></game-tile>\n",
      "<game-tile letter=\"i\" evaluation=\"absent\" reveal=\"\"></game-tile>\n",
      "<game-tile letter=\"p\" evaluation=\"absent\" reveal=\"\"></game-tile>\n"
     ]
    }
   ],
   "source": [
    "for my_elem in browser.execute_script(qry_script):\n",
    "    # print(my_elem)\n",
    "    out_texts = my_elem.get_attribute(\"outerHTML\")\n",
    "\n",
    "    print(out_texts)\n"
   ]
  },
  {
   "cell_type": "code",
   "execution_count": 225,
   "metadata": {},
   "outputs": [
    {
     "name": "stdout",
     "output_type": "stream",
     "text": [
      "<game-row length=\"5\" letters=\"roate\"></game-row>\n",
      "<game-row letters=\"guess\" length=\"5\"></game-row>\n",
      "<game-row letters=\"strip\" length=\"5\"></game-row>\n",
      "<game-row letters=\"\" length=\"5\"></game-row>\n",
      "<game-row letters=\"\" length=\"5\"></game-row>\n",
      "<game-row letters=\"\" length=\"5\"></game-row>\n"
     ]
    }
   ],
   "source": [
    "inner_texts = [my_elem.get_attribute(\"outerHTML\") for my_elem in browser.execute_script(qry_script)]\n",
    "for inner_text in inner_texts:\n",
    "    print(inner_text)"
   ]
  },
  {
   "cell_type": "code",
   "execution_count": null,
   "metadata": {},
   "outputs": [],
   "source": [
    "browser.quit()"
   ]
  },
  {
   "cell_type": "code",
   "execution_count": null,
   "metadata": {},
   "outputs": [],
   "source": [
    "/game-theme-manager/div/div[1]/div/game-row[2]"
   ]
  },
  {
   "cell_type": "code",
   "execution_count": null,
   "metadata": {},
   "outputs": [],
   "source": [
    "/game-theme-manager/div/div[1]/div/game-row[1]"
   ]
  }
 ],
 "metadata": {
  "interpreter": {
   "hash": "0fd60408384064d40e51647f0c8dc788d73d0fd6cabb1af75a64a9d507f10b19"
  },
  "kernelspec": {
   "display_name": "Python 3.10.2 64-bit ('wordletron2000-9JAwi6tr': pipenv)",
   "language": "python",
   "name": "python3"
  },
  "language_info": {
   "codemirror_mode": {
    "name": "ipython",
    "version": 3
   },
   "file_extension": ".py",
   "mimetype": "text/x-python",
   "name": "python",
   "nbconvert_exporter": "python",
   "pygments_lexer": "ipython3",
   "version": "3.10.2"
  },
  "orig_nbformat": 4
 },
 "nbformat": 4,
 "nbformat_minor": 2
}
