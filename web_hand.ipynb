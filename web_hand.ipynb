{
 "cells": [
  {
   "cell_type": "code",
   "execution_count": 193,
   "metadata": {},
   "outputs": [],
   "source": [
    "from selenium import webdriver\n",
    "from selenium.webdriver.common.by import By\n",
    "from selenium.webdriver.common.keys import Keys"
   ]
  },
  {
   "cell_type": "code",
   "execution_count": 194,
   "metadata": {},
   "outputs": [],
   "source": [
    "browser = webdriver.Firefox()"
   ]
  },
  {
   "cell_type": "code",
   "execution_count": 195,
   "metadata": {},
   "outputs": [],
   "source": [
    "browser.get('https://www.powerlanguage.co.uk/wordle/')\n",
    "assert 'Wordle' in browser.title"
   ]
  },
  {
   "cell_type": "code",
   "execution_count": 196,
   "metadata": {},
   "outputs": [],
   "source": [
    "elem = browser.find_element(By.CLASS_NAME, 'nightmode')"
   ]
  },
  {
   "cell_type": "code",
   "execution_count": 199,
   "metadata": {},
   "outputs": [],
   "source": [
    "elem.click()"
   ]
  },
  {
   "cell_type": "code",
   "execution_count": 205,
   "metadata": {},
   "outputs": [],
   "source": [
    "guess = 'strip'\n",
    "elem.send_keys(guess + Keys.RETURN)"
   ]
  },
  {
   "cell_type": "code",
   "execution_count": 200,
   "metadata": {},
   "outputs": [],
   "source": [
    "elem = browser.find_element(By.CLASS_NAME, 'nightmode')\n",
    "shadowRoot = browser.execute_script(\"return arguments[0].shadowRoot\", elem)"
   ]
  },
  {
   "cell_type": "code",
   "execution_count": 217,
   "metadata": {},
   "outputs": [],
   "source": [
    "qry_script = \"\"\"return document.querySelector('game-app').shadowRoot.querySelector('game-row').shadowRoot.querySelectorAll('game-tile[letter]')\"\"\""
   ]
  },
  {
   "cell_type": "code",
   "execution_count": 221,
   "metadata": {},
   "outputs": [],
   "source": [
    "qry_script = \"\"\"return document.querySelector('game-app').shadowRoot.querySelectorAll('game-row')\"\"\""
   ]
  },
  {
   "cell_type": "code",
   "execution_count": 222,
   "metadata": {},
   "outputs": [],
   "source": [
    "qry_r = browser.execute_script(qry_script)"
   ]
  },
  {
   "cell_type": "code",
   "execution_count": 223,
   "metadata": {},
   "outputs": [
    {
     "data": {
      "text/plain": [
       "<selenium.webdriver.remote.webelement.WebElement (session=\"62bf6888-f3da-4e63-bc31-2fbd71889214\", element=\"2aaacda7-7bb9-4fe1-a6fe-d16610c4ed44\")>"
      ]
     },
     "execution_count": 223,
     "metadata": {},
     "output_type": "execute_result"
    }
   ],
   "source": [
    "qry_r[0]"
   ]
  },
  {
   "cell_type": "code",
   "execution_count": 224,
   "metadata": {},
   "outputs": [
    {
     "name": "stdout",
     "output_type": "stream",
     "text": [
      "<game-row length=\"5\" letters=\"roate\"></game-row>\n",
      "<game-row letters=\"guess\" length=\"5\"></game-row>\n",
      "<game-row letters=\"strip\" length=\"5\"></game-row>\n",
      "<game-row letters=\"\" length=\"5\"></game-row>\n",
      "<game-row letters=\"\" length=\"5\"></game-row>\n",
      "<game-row letters=\"\" length=\"5\"></game-row>\n"
     ]
    }
   ],
   "source": [
    "for my_elem in browser.execute_script(qry_script):\n",
    "    # print(my_elem)\n",
    "    out_texts = my_elem.get_attribute(\"outerHTML\")\n",
    "\n",
    "    print(out_texts)\n"
   ]
  },
  {
   "cell_type": "code",
   "execution_count": 225,
   "metadata": {},
   "outputs": [
    {
     "name": "stdout",
     "output_type": "stream",
     "text": [
      "<game-row length=\"5\" letters=\"roate\"></game-row>\n",
      "<game-row letters=\"guess\" length=\"5\"></game-row>\n",
      "<game-row letters=\"strip\" length=\"5\"></game-row>\n",
      "<game-row letters=\"\" length=\"5\"></game-row>\n",
      "<game-row letters=\"\" length=\"5\"></game-row>\n",
      "<game-row letters=\"\" length=\"5\"></game-row>\n"
     ]
    }
   ],
   "source": [
    "inner_texts = [my_elem.get_attribute(\"outerHTML\") for my_elem in browser.execute_script(qry_script)]\n",
    "for inner_text in inner_texts:\n",
    "    print(inner_text)"
   ]
  },
  {
   "cell_type": "code",
   "execution_count": null,
   "metadata": {},
   "outputs": [],
   "source": [
    "browser.quit()"
   ]
  }
 ],
 "metadata": {
  "interpreter": {
   "hash": "0fd60408384064d40e51647f0c8dc788d73d0fd6cabb1af75a64a9d507f10b19"
  },
  "kernelspec": {
   "display_name": "Python 3.10.2 64-bit ('wordletron2000-9JAwi6tr': pipenv)",
   "language": "python",
   "name": "python3"
  },
  "language_info": {
   "codemirror_mode": {
    "name": "ipython",
    "version": 3
   },
   "file_extension": ".py",
   "mimetype": "text/x-python",
   "name": "python",
   "nbconvert_exporter": "python",
   "pygments_lexer": "ipython3",
   "version": "3.10.2"
  },
  "orig_nbformat": 4
 },
 "nbformat": 4,
 "nbformat_minor": 2
}
