{
 "cells": [
  {
   "cell_type": "code",
   "execution_count": 1,
   "metadata": {},
   "outputs": [],
   "source": [
    "from selenium import webdriver\n",
    "from selenium.webdriver.common.by import By\n",
    "from selenium.webdriver.common.keys import Keys"
   ]
  },
  {
   "cell_type": "code",
   "execution_count": 2,
   "metadata": {},
   "outputs": [],
   "source": [
    "browser = webdriver.Firefox()"
   ]
  },
  {
   "cell_type": "code",
   "execution_count": 3,
   "metadata": {},
   "outputs": [],
   "source": [
    "browser.get('https://www.powerlanguage.co.uk/wordle/')\n",
    "assert 'Wordle' in browser.title"
   ]
  },
  {
   "cell_type": "code",
   "execution_count": 47,
   "metadata": {},
   "outputs": [],
   "source": [
    "elem = browser.find_element(By.CLASS_NAME, 'nightmode')"
   ]
  },
  {
   "cell_type": "code",
   "execution_count": 26,
   "metadata": {},
   "outputs": [],
   "source": [
    "app = elem.find_element(By.CSS_SELECTOR, 'body > game-app:nth-child(4)')"
   ]
  },
  {
   "cell_type": "code",
   "execution_count": 48,
   "metadata": {},
   "outputs": [],
   "source": [
    "qry_script = \"\"\"return document.querySelector('game-app').shadowRoot.querySelector('game-row').shadowRoot.querySelectorAll('game-tile[letter]')\"\"\""
   ]
  },
  {
   "cell_type": "code",
   "execution_count": null,
   "metadata": {},
   "outputs": [],
   "source": [
    "<div id=\"board\" style=\"width: 192px; height: 228px;\"><game-row letters=\"strip\" length=\"5\"></game-row><game-row length=\"5\" letters=\"ouija\"></game-row><game-row letters=\"frown\" length=\"5\"></game-row><game-row letters=\"\" length=\"5\"></game-row><game-row letters=\"\" length=\"5\"></game-row><game-row letters=\"\" length=\"5\"></game-row></div>"
   ]
  },
  {
   "cell_type": "code",
   "execution_count": null,
   "metadata": {},
   "outputs": [],
   "source": [
    "<game-row length=\"5\" letters=\"ouija\"></game-row>"
   ]
  },
  {
   "cell_type": "code",
   "execution_count": null,
   "metadata": {},
   "outputs": [],
   "source": [
    "<game-row letters=\"strip\" length=\"5\"></game-row>"
   ]
  },
  {
   "cell_type": "code",
   "execution_count": 77,
   "metadata": {},
   "outputs": [],
   "source": [
    "qry_script = \"\"\"return document.querySelector('game-app').shadowRoot.querySelectorAll('game-row')\"\"\""
   ]
  },
  {
   "cell_type": "code",
   "execution_count": 78,
   "metadata": {},
   "outputs": [
    {
     "name": "stdout",
     "output_type": "stream",
     "text": [
      "<selenium.webdriver.remote.webelement.WebElement (session=\"df4b0a3b-03a1-4939-b101-39cf2c9cb013\", element=\"4e86298e-ebf0-4047-8572-9b62faf2209a\")>\n",
      "<game-row letters=\"strip\" length=\"5\"></game-row>\n",
      "<selenium.webdriver.remote.webelement.WebElement (session=\"df4b0a3b-03a1-4939-b101-39cf2c9cb013\", element=\"6e36e13a-b04e-4d60-a580-266ad81fc50b\")>\n",
      "<game-row length=\"5\" letters=\"ouija\"></game-row>\n",
      "<selenium.webdriver.remote.webelement.WebElement (session=\"df4b0a3b-03a1-4939-b101-39cf2c9cb013\", element=\"c31d5d5f-3844-44b2-8296-89ec7e009e85\")>\n",
      "<game-row letters=\"frown\" length=\"5\"></game-row>\n",
      "<selenium.webdriver.remote.webelement.WebElement (session=\"df4b0a3b-03a1-4939-b101-39cf2c9cb013\", element=\"ae334fa5-6a08-4b62-98fb-0e42a737dec5\")>\n",
      "<game-row letters=\"\" length=\"5\"></game-row>\n",
      "<selenium.webdriver.remote.webelement.WebElement (session=\"df4b0a3b-03a1-4939-b101-39cf2c9cb013\", element=\"12e7308e-7540-40a9-b664-c31eca64950d\")>\n",
      "<game-row letters=\"\" length=\"5\"></game-row>\n",
      "<selenium.webdriver.remote.webelement.WebElement (session=\"df4b0a3b-03a1-4939-b101-39cf2c9cb013\", element=\"a0970900-dbc7-429d-b496-cad2382eedf3\")>\n",
      "<game-row letters=\"\" length=\"5\"></game-row>\n"
     ]
    }
   ],
   "source": [
    "for my_elem in browser.execute_script(qry_script):\n",
    "    print(my_elem)\n",
    "    texts = my_elem.get_attribute(\"outerHTML\")\n",
    "    print(texts)"
   ]
  },
  {
   "cell_type": "code",
   "execution_count": 58,
   "metadata": {},
   "outputs": [
    {
     "name": "stdout",
     "output_type": "stream",
     "text": [
      "<game-tile letter=\"s\" evaluation=\"absent\" reveal=\"\"></game-tile>\n",
      "<game-tile letter=\"t\" evaluation=\"absent\" reveal=\"\"></game-tile>\n",
      "<game-tile letter=\"r\" evaluation=\"absent\" reveal=\"\"></game-tile>\n",
      "<game-tile letter=\"i\" evaluation=\"absent\" reveal=\"\"></game-tile>\n",
      "<game-tile letter=\"p\" evaluation=\"absent\" reveal=\"\"></game-tile>\n"
     ]
    }
   ],
   "source": [
    "inner_texts = [my_elem.get_attribute(\"outerHTML\") for my_elem in browser.execute_script(qry_script)]\n",
    "for inner_text in inner_texts:\n",
    "    print(inner_text)"
   ]
  },
  {
   "cell_type": "code",
   "execution_count": 56,
   "metadata": {},
   "outputs": [
    {
     "name": "stdout",
     "output_type": "stream",
     "text": [
      "<game-tile letter=\"s\" evaluation=\"absent\" reveal=\"\"></game-tile>\n",
      "<game-tile letter=\"t\" evaluation=\"absent\" reveal=\"\"></game-tile>\n",
      "<game-tile letter=\"r\" evaluation=\"absent\" reveal=\"\"></game-tile>\n",
      "<game-tile letter=\"i\" evaluation=\"absent\" reveal=\"\"></game-tile>\n",
      "<game-tile letter=\"p\" evaluation=\"absent\" reveal=\"\"></game-tile>\n"
     ]
    }
   ],
   "source": [
    "inner_texts = [my_elem.get_attribute(\"outerHTML\") for my_elem in browser.execute_script(qry_script)]\n",
    "for inner_text in inner_texts:\n",
    "    print(inner_text)"
   ]
  },
  {
   "cell_type": "code",
   "execution_count": 39,
   "metadata": {},
   "outputs": [
    {
     "data": {
      "text/plain": [
       "<selenium.webdriver.remote.webelement.WebElement (session=\"df4b0a3b-03a1-4939-b101-39cf2c9cb013\", element=\"7de7ee16-c241-4472-8569-c57f556315e4\")>"
      ]
     },
     "execution_count": 39,
     "metadata": {},
     "output_type": "execute_result"
    }
   ],
   "source": [
    "app"
   ]
  },
  {
   "cell_type": "code",
   "execution_count": 24,
   "metadata": {},
   "outputs": [
    {
     "data": {
      "text/plain": [
       "<bound method WebElement.get_attribute of <selenium.webdriver.remote.webelement.WebElement (session=\"df4b0a3b-03a1-4939-b101-39cf2c9cb013\", element=\"7de7ee16-c241-4472-8569-c57f556315e4\")>>"
      ]
     },
     "execution_count": 24,
     "metadata": {},
     "output_type": "execute_result"
    }
   ],
   "source": [
    "items = elem.find_elements(By.PARTIAL_LINK_TEXT, 'q')\n",
    "for item in items:\n",
    "    text = item.text\n",
    "    print (text)"
   ]
  },
  {
   "cell_type": "code",
   "execution_count": 5,
   "metadata": {},
   "outputs": [],
   "source": [
    "elem.click()"
   ]
  },
  {
   "cell_type": "code",
   "execution_count": 15,
   "metadata": {},
   "outputs": [],
   "source": [
    "# items = browser.find_elements(By.ID, 'game')\n",
    "items = elem.find_elements(By.PARTIAL_LINK_TEXT, 'q')\n",
    "for item in items:\n",
    "    text = item.text\n",
    "    print (text)"
   ]
  },
  {
   "cell_type": "code",
   "execution_count": 7,
   "metadata": {},
   "outputs": [],
   "source": [
    "guess = 'strip'\n",
    "elem.send_keys('guess' + Keys.RETURN)"
   ]
  },
  {
   "cell_type": "code",
   "execution_count": null,
   "metadata": {},
   "outputs": [],
   "source": []
  },
  {
   "cell_type": "code",
   "execution_count": null,
   "metadata": {},
   "outputs": [],
   "source": [
    "browser.quit()"
   ]
  }
 ],
 "metadata": {
  "interpreter": {
   "hash": "0fd60408384064d40e51647f0c8dc788d73d0fd6cabb1af75a64a9d507f10b19"
  },
  "kernelspec": {
   "display_name": "Python 3.10.2 64-bit ('wordletron2000-9JAwi6tr': pipenv)",
   "language": "python",
   "name": "python3"
  },
  "language_info": {
   "codemirror_mode": {
    "name": "ipython",
    "version": 3
   },
   "file_extension": ".py",
   "mimetype": "text/x-python",
   "name": "python",
   "nbconvert_exporter": "python",
   "pygments_lexer": "ipython3",
   "version": "3.10.2"
  },
  "orig_nbformat": 4
 },
 "nbformat": 4,
 "nbformat_minor": 2
}
