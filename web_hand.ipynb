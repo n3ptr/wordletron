{
 "cells": [
  {
   "cell_type": "code",
   "execution_count": 232,
   "metadata": {},
   "outputs": [],
   "source": [
    "#  get the button HTMLs\n",
    "html_source_code = browser.execute_script(\"return document.querySelector('game-app').shadowRoot.querySelector('game-theme-manager').querySelector('game-keyboard').shadowRoot.querySelectorAll('button');\")\n",
    "# html_source_code = browser.execute_script(\"return document.querySelector('game-app').shadowRoot.querySelector('game-theme-manager').querySelector('game-keyboard');\")"
   ]
  },
  {
   "cell_type": "code",
   "execution_count": 1,
   "metadata": {},
   "outputs": [],
   "source": [
    "import requests\n",
    "from bs4 import BeautifulSoup as bs4\n",
    "from selenium import webdriver\n",
    "from selenium.webdriver.common.by import By\n",
    "from selenium.webdriver.common.keys import Keys"
   ]
  },
  {
   "cell_type": "code",
   "execution_count": 2,
   "metadata": {},
   "outputs": [],
   "source": [
    "browser = webdriver.Firefox()"
   ]
  },
  {
   "cell_type": "code",
   "execution_count": 3,
   "metadata": {},
   "outputs": [],
   "source": [
    "browser.get('https://www.powerlanguage.co.uk/wordle/')\n",
    "assert 'Wordle' in browser.title"
   ]
  },
  {
   "cell_type": "code",
   "execution_count": 4,
   "metadata": {},
   "outputs": [],
   "source": [
    "elem = browser.find_element(By.CLASS_NAME, 'nightmode')"
   ]
  },
  {
   "cell_type": "code",
   "execution_count": 5,
   "metadata": {},
   "outputs": [],
   "source": [
    "elem.click()"
   ]
  },
  {
   "cell_type": "code",
   "execution_count": 25,
   "metadata": {},
   "outputs": [],
   "source": [
    "guess = 'brunt'\n",
    "elem.send_keys(guess + Keys.RETURN)"
   ]
  },
  {
   "cell_type": "code",
   "execution_count": 26,
   "metadata": {},
   "outputs": [
    {
     "name": "stdout",
     "output_type": "stream",
     "text": [
      "<game-tile letter=\"s\" evaluation=\"absent\" reveal=\"\"></game-tile>\n",
      "<game-tile letter=\"t\" evaluation=\"absent\" reveal=\"\"></game-tile>\n",
      "<game-tile letter=\"r\" evaluation=\"present\" reveal=\"\"></game-tile>\n",
      "<game-tile letter=\"i\" evaluation=\"absent\" reveal=\"\"></game-tile>\n",
      "<game-tile letter=\"p\" evaluation=\"absent\" reveal=\"\"></game-tile>\n",
      "<game-tile letter=\"r\" evaluation=\"present\" reveal=\"\"></game-tile>\n",
      "<game-tile letter=\"o\" evaluation=\"absent\" reveal=\"\"></game-tile>\n",
      "<game-tile letter=\"a\" evaluation=\"absent\" reveal=\"\"></game-tile>\n",
      "<game-tile letter=\"t\" evaluation=\"absent\" reveal=\"\"></game-tile>\n",
      "<game-tile letter=\"e\" evaluation=\"absent\" reveal=\"\"></game-tile>\n",
      "<game-tile letter=\"b\" evaluation=\"absent\" reveal=\"\"></game-tile>\n",
      "<game-tile letter=\"r\" evaluation=\"correct\" reveal=\"\"></game-tile>\n",
      "<game-tile letter=\"u\" evaluation=\"correct\" reveal=\"\"></game-tile>\n",
      "<game-tile letter=\"n\" evaluation=\"correct\" reveal=\"\"></game-tile>\n",
      "<game-tile letter=\"t\" evaluation=\"absent\" reveal=\"\"></game-tile>\n"
     ]
    }
   ],
   "source": [
    "for n in range(6):\n",
    "    qry_script = f\"\"\"return document.querySelector('game-app').shadowRoot.querySelectorAll('game-row')[{n}].shadowRoot.querySelectorAll('game-tile[letter]')\"\"\"\n",
    "\n",
    "    qry_r = browser.execute_script(qry_script)\n",
    "    for i, element in enumerate(qry_r):\n",
    "        try:\n",
    "            row_result = qry_r[i].get_attribute(\"outerHTML\")\n",
    "            print(row_result)\n",
    "            row_result.find('letter=')\n",
    "        except:\n",
    "            print(f\"no result for row {i}\")"
   ]
  },
  {
   "cell_type": "code",
   "execution_count": 28,
   "metadata": {},
   "outputs": [],
   "source": [
    "i = 0 \n",
    "qry_script = f\"\"\"return document.querySelector('game-app').shadowRoot.querySelectorAll('game-row')[{i}].shadowRoot.querySelectorAll('game-tile[letter]')\"\"\""
   ]
  },
  {
   "cell_type": "code",
   "execution_count": 10,
   "metadata": {},
   "outputs": [],
   "source": [
    "qry_script = \"\"\"return document.querySelector('game-app').shadowRoot.querySelectorAll('game-row')[0].shadowRoot.querySelectorAll('game-tile[letter]')\"\"\""
   ]
  },
  {
   "cell_type": "code",
   "execution_count": 29,
   "metadata": {},
   "outputs": [],
   "source": [
    "qry_r = browser.execute_script(qry_script)"
   ]
  },
  {
   "cell_type": "code",
   "execution_count": 37,
   "metadata": {},
   "outputs": [
    {
     "name": "stdout",
     "output_type": "stream",
     "text": [
      "l evaluation=\"absent\"\n"
     ]
    }
   ],
   "source": [
    "sub = qry_r[0].get_attribute(\"outerHTML\")\n",
    "\n",
    "letter = sub[(sub.find('letter=')):(sub.find('letter=')+1)]\n",
    "status = sub[(sub.find('evaluation=')):(sub.find('\" reveal')+1)]\n",
    "\n",
    "print(letter + \" \" + status)"
   ]
  },
  {
   "cell_type": "code",
   "execution_count": 12,
   "metadata": {},
   "outputs": [
    {
     "ename": "NameError",
     "evalue": "name 'html_source_code' is not defined",
     "output_type": "error",
     "traceback": [
      "\u001b[0;31m---------------------------------------------------------------------------\u001b[0m",
      "\u001b[0;31mNameError\u001b[0m                                 Traceback (most recent call last)",
      "\u001b[0;32m/tmp/ipykernel_13870/3090104933.py\u001b[0m in \u001b[0;36m<module>\u001b[0;34m\u001b[0m\n\u001b[0;32m----> 1\u001b[0;31m \u001b[0mhtml_source_code\u001b[0m\u001b[0;34m[\u001b[0m\u001b[0;36m25\u001b[0m\u001b[0;34m]\u001b[0m\u001b[0;34m.\u001b[0m\u001b[0mget_attribute\u001b[0m\u001b[0;34m(\u001b[0m\u001b[0;34m\"outerHTML\"\u001b[0m\u001b[0;34m)\u001b[0m\u001b[0;34m\u001b[0m\u001b[0;34m\u001b[0m\u001b[0m\n\u001b[0m",
      "\u001b[0;31mNameError\u001b[0m: name 'html_source_code' is not defined"
     ]
    }
   ],
   "source": [
    "html_source_code[25].get_attribute(\"outerHTML\")"
   ]
  },
  {
   "cell_type": "code",
   "execution_count": 263,
   "metadata": {},
   "outputs": [],
   "source": [
    "# need to slow down here"
   ]
  },
  {
   "cell_type": "code",
   "execution_count": 238,
   "metadata": {},
   "outputs": [],
   "source": [
    "elem = browser.find_element(By.CLASS_NAME, 'nightmode')\n",
    "shadowRoot = browser.execute_script(\"return arguments[0].shadowRoot\", elem)"
   ]
  },
  {
   "cell_type": "code",
   "execution_count": 239,
   "metadata": {},
   "outputs": [],
   "source": [
    "shadowRoot"
   ]
  },
  {
   "cell_type": "code",
   "execution_count": 256,
   "metadata": {},
   "outputs": [],
   "source": [
    "qry_script = \"\"\"return document.querySelector('game-app').shadowRoot.querySelectorAll('game-row')[2].shadowRoot.querySelectorAll('game-tile[letter]')\"\"\""
   ]
  },
  {
   "cell_type": "code",
   "execution_count": 267,
   "metadata": {},
   "outputs": [
    {
     "ename": "IndexError",
     "evalue": "list index out of range",
     "output_type": "error",
     "traceback": [
      "\u001b[0;31m---------------------------------------------------------------------------\u001b[0m",
      "\u001b[0;31mIndexError\u001b[0m                                Traceback (most recent call last)",
      "\u001b[0;32m/tmp/ipykernel_853757/4052123598.py\u001b[0m in \u001b[0;36m<module>\u001b[0;34m\u001b[0m\n\u001b[0;32m----> 1\u001b[0;31m \u001b[0mqry_r\u001b[0m\u001b[0;34m[\u001b[0m\u001b[0;36m0\u001b[0m\u001b[0;34m]\u001b[0m\u001b[0;34m.\u001b[0m\u001b[0mget_attribute\u001b[0m\u001b[0;34m(\u001b[0m\u001b[0;34m\"outerHTML\"\u001b[0m\u001b[0;34m)\u001b[0m\u001b[0;34m\u001b[0m\u001b[0;34m\u001b[0m\u001b[0m\n\u001b[0m",
      "\u001b[0;31mIndexError\u001b[0m: list index out of range"
     ]
    }
   ],
   "source": [
    "qry_r[0].get_attribute(\"outerHTML\")"
   ]
  },
  {
   "cell_type": "code",
   "execution_count": 268,
   "metadata": {},
   "outputs": [],
   "source": [
    "for my_elem in browser.execute_script(qry_script):\n",
    "    # print(my_elem)\n",
    "    out_texts = my_elem.get_attribute(\"outerHTML\")\n",
    "\n",
    "    print(out_texts)\n"
   ]
  },
  {
   "cell_type": "code",
   "execution_count": 269,
   "metadata": {},
   "outputs": [],
   "source": [
    "inner_texts = [my_elem.get_attribute(\"outerHTML\") for my_elem in browser.execute_script(qry_script)]\n",
    "for inner_text in inner_texts:\n",
    "    print(inner_text)"
   ]
  },
  {
   "cell_type": "code",
   "execution_count": 270,
   "metadata": {},
   "outputs": [],
   "source": [
    "browser.quit()"
   ]
  },
  {
   "cell_type": "code",
   "execution_count": 271,
   "metadata": {},
   "outputs": [
    {
     "ename": "NameError",
     "evalue": "name 'game' is not defined",
     "output_type": "error",
     "traceback": [
      "\u001b[0;31m---------------------------------------------------------------------------\u001b[0m",
      "\u001b[0;31mNameError\u001b[0m                                 Traceback (most recent call last)",
      "\u001b[0;32m/tmp/ipykernel_853757/1937951441.py\u001b[0m in \u001b[0;36m<module>\u001b[0;34m\u001b[0m\n\u001b[0;32m----> 1\u001b[0;31m \u001b[0mgame\u001b[0m\u001b[0;34m-\u001b[0m\u001b[0mtheme\u001b[0m\u001b[0;34m-\u001b[0m\u001b[0mmanager\u001b[0m\u001b[0;34m/\u001b[0m\u001b[0mdiv\u001b[0m\u001b[0;34m/\u001b[0m\u001b[0mdiv\u001b[0m\u001b[0;34m[\u001b[0m\u001b[0;36m1\u001b[0m\u001b[0;34m]\u001b[0m\u001b[0;34m/\u001b[0m\u001b[0mdiv\u001b[0m\u001b[0;34m/\u001b[0m\u001b[0mgame\u001b[0m\u001b[0;34m-\u001b[0m\u001b[0mrow\u001b[0m\u001b[0;34m[\u001b[0m\u001b[0;36m2\u001b[0m\u001b[0;34m]\u001b[0m\u001b[0;34m(\u001b[0m\u001b[0;34m)\u001b[0m\u001b[0;34m\u001b[0m\u001b[0;34m\u001b[0m\u001b[0m\n\u001b[0m",
      "\u001b[0;31mNameError\u001b[0m: name 'game' is not defined"
     ]
    }
   ],
   "source": [
    "/game-theme-manager/div/div[1]/div/game-row[2]"
   ]
  },
  {
   "cell_type": "code",
   "execution_count": null,
   "metadata": {},
   "outputs": [],
   "source": [
    "/game-theme-manager/div/div[1]/div/game-row[1]"
   ]
  }
 ],
 "metadata": {
  "interpreter": {
   "hash": "0fd60408384064d40e51647f0c8dc788d73d0fd6cabb1af75a64a9d507f10b19"
  },
  "kernelspec": {
   "display_name": "Python 3.10.2 64-bit ('wordletron2000-9JAwi6tr': pipenv)",
   "language": "python",
   "name": "python3"
  },
  "language_info": {
   "codemirror_mode": {
    "name": "ipython",
    "version": 3
   },
   "file_extension": ".py",
   "mimetype": "text/x-python",
   "name": "python",
   "nbconvert_exporter": "python",
   "pygments_lexer": "ipython3",
   "version": "3.10.2"
  },
  "orig_nbformat": 4
 },
 "nbformat": 4,
 "nbformat_minor": 2
}
