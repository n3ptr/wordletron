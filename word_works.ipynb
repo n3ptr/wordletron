{
 "cells": [
  {
   "cell_type": "code",
   "execution_count": 1,
   "metadata": {},
   "outputs": [],
   "source": [
    "from english_words import english_words_set\n",
    "import pandas as pd\n",
    "import numpy as np"
   ]
  },
  {
   "cell_type": "code",
   "execution_count": 7,
   "metadata": {},
   "outputs": [],
   "source": [
    "# make a list of 5 lenght words without non-alphas, and no proper nouns\n",
    "words5 = []\n",
    "\n",
    "for word in english_words_set:\n",
    "    if len(word) == 5 and word[0].islower() and word.isalpha():\n",
    "        words5.append(word)"
   ]
  },
  {
   "cell_type": "code",
   "execution_count": 8,
   "metadata": {},
   "outputs": [
    {
     "name": "stdout",
     "output_type": "stream",
     "text": [
      "[]\n"
     ]
    }
   ],
   "source": [
    "# this should be an empty list, checking to be sure we do not have non alpha chars in the words\n",
    "print([i for i in words5 if not i.isalpha()])"
   ]
  },
  {
   "cell_type": "code",
   "execution_count": 18,
   "metadata": {},
   "outputs": [],
   "source": [
    "df_words = pd.DataFrame(words5)\n",
    "df_words.columns=['words']"
   ]
  },
  {
   "cell_type": "code",
   "execution_count": 31,
   "metadata": {},
   "outputs": [],
   "source": [
    "df_words['first'] = df_words['words'].str.slice(0,1)\n",
    "df_words['second'] = df_words['words'].str.slice(1,2)\n",
    "df_words['third'] = df_words['words'].str.slice(2,3)\n",
    "df_words['fourth'] = df_words['words'].str.slice(3,4)\n",
    "df_words['fifth'] = df_words['words'].str.slice(4,5)"
   ]
  },
  {
   "cell_type": "code",
   "execution_count": 33,
   "metadata": {},
   "outputs": [
    {
     "data": {
      "text/html": [
       "<div>\n",
       "<style scoped>\n",
       "    .dataframe tbody tr th:only-of-type {\n",
       "        vertical-align: middle;\n",
       "    }\n",
       "\n",
       "    .dataframe tbody tr th {\n",
       "        vertical-align: top;\n",
       "    }\n",
       "\n",
       "    .dataframe thead th {\n",
       "        text-align: right;\n",
       "    }\n",
       "</style>\n",
       "<table border=\"1\" class=\"dataframe\">\n",
       "  <thead>\n",
       "    <tr style=\"text-align: right;\">\n",
       "      <th></th>\n",
       "      <th>words</th>\n",
       "      <th>first</th>\n",
       "      <th>second</th>\n",
       "      <th>third</th>\n",
       "      <th>fourth</th>\n",
       "      <th>fifth</th>\n",
       "    </tr>\n",
       "  </thead>\n",
       "  <tbody>\n",
       "    <tr>\n",
       "      <th>0</th>\n",
       "      <td>llama</td>\n",
       "      <td>l</td>\n",
       "      <td>l</td>\n",
       "      <td>a</td>\n",
       "      <td>m</td>\n",
       "      <td>a</td>\n",
       "    </tr>\n",
       "    <tr>\n",
       "      <th>1</th>\n",
       "      <td>chaos</td>\n",
       "      <td>c</td>\n",
       "      <td>h</td>\n",
       "      <td>a</td>\n",
       "      <td>o</td>\n",
       "      <td>s</td>\n",
       "    </tr>\n",
       "    <tr>\n",
       "      <th>2</th>\n",
       "      <td>monad</td>\n",
       "      <td>m</td>\n",
       "      <td>o</td>\n",
       "      <td>n</td>\n",
       "      <td>a</td>\n",
       "      <td>d</td>\n",
       "    </tr>\n",
       "    <tr>\n",
       "      <th>3</th>\n",
       "      <td>madam</td>\n",
       "      <td>m</td>\n",
       "      <td>a</td>\n",
       "      <td>d</td>\n",
       "      <td>a</td>\n",
       "      <td>m</td>\n",
       "    </tr>\n",
       "    <tr>\n",
       "      <th>4</th>\n",
       "      <td>annoy</td>\n",
       "      <td>a</td>\n",
       "      <td>n</td>\n",
       "      <td>n</td>\n",
       "      <td>o</td>\n",
       "      <td>y</td>\n",
       "    </tr>\n",
       "  </tbody>\n",
       "</table>\n",
       "</div>"
      ],
      "text/plain": [
       "   words first second third fourth fifth\n",
       "0  llama     l      l     a      m     a\n",
       "1  chaos     c      h     a      o     s\n",
       "2  monad     m      o     n      a     d\n",
       "3  madam     m      a     d      a     m\n",
       "4  annoy     a      n     n      o     y"
      ]
     },
     "execution_count": 33,
     "metadata": {},
     "output_type": "execute_result"
    }
   ],
   "source": [
    "df_words.head()"
   ]
  },
  {
   "cell_type": "code",
   "execution_count": 74,
   "metadata": {},
   "outputs": [],
   "source": [
    "aplhas = ['a','b','c','d','e','f','g','h','i','j','k','l','m','n','o','p','q','r','s','t','u','v','w','x','y','z']"
   ]
  },
  {
   "cell_type": "code",
   "execution_count": 75,
   "metadata": {},
   "outputs": [],
   "source": [
    "dfalpha = pd.DataFrame(aplhas)\n",
    "dfalpha.columns = ['letters']\n",
    "dfalpha.set_index('letters', inplace=True)"
   ]
  },
  {
   "cell_type": "code",
   "execution_count": 76,
   "metadata": {},
   "outputs": [],
   "source": [
    "# build the frequerncy table from each smaller dataframe\n",
    "df_counts = df_words['first'].value_counts()\n",
    "df_counts_second = df_words['second'].value_counts()\n",
    "df_counts_third = df_words['third'].value_counts()\n",
    "df_counts_fourth = df_words['fourth'].value_counts()\n",
    "df_counts_fifth = df_words['fifth'].value_counts()\n",
    "\n",
    "dfranks = pd.concat([dfalpha, df_counts], axis=1)\n",
    "dfranks = pd.concat([dfranks, df_counts_second], axis=1)\n",
    "dfranks = pd.concat([dfranks, df_counts_third], axis=1)\n",
    "dfranks = pd.concat([dfranks, df_counts_fourth], axis=1)\n",
    "dfranks = pd.concat([dfranks, df_counts_fifth], axis=1)"
   ]
  },
  {
   "cell_type": "code",
   "execution_count": 89,
   "metadata": {},
   "outputs": [
    {
     "data": {
      "text/html": [
       "<div>\n",
       "<style scoped>\n",
       "    .dataframe tbody tr th:only-of-type {\n",
       "        vertical-align: middle;\n",
       "    }\n",
       "\n",
       "    .dataframe tbody tr th {\n",
       "        vertical-align: top;\n",
       "    }\n",
       "\n",
       "    .dataframe thead th {\n",
       "        text-align: right;\n",
       "    }\n",
       "</style>\n",
       "<table border=\"1\" class=\"dataframe\">\n",
       "  <thead>\n",
       "    <tr style=\"text-align: right;\">\n",
       "      <th></th>\n",
       "      <th>first</th>\n",
       "      <th>second</th>\n",
       "      <th>third</th>\n",
       "      <th>fourth</th>\n",
       "      <th>fifth</th>\n",
       "    </tr>\n",
       "  </thead>\n",
       "  <tbody>\n",
       "    <tr>\n",
       "      <th>a</th>\n",
       "      <td>157</td>\n",
       "      <td>334</td>\n",
       "      <td>334</td>\n",
       "      <td>199.0</td>\n",
       "      <td>93.0</td>\n",
       "    </tr>\n",
       "    <tr>\n",
       "      <th>b</th>\n",
       "      <td>203</td>\n",
       "      <td>18</td>\n",
       "      <td>56</td>\n",
       "      <td>25.0</td>\n",
       "      <td>10.0</td>\n",
       "    </tr>\n",
       "    <tr>\n",
       "      <th>c</th>\n",
       "      <td>224</td>\n",
       "      <td>42</td>\n",
       "      <td>61</td>\n",
       "      <td>162.0</td>\n",
       "      <td>41.0</td>\n",
       "    </tr>\n",
       "    <tr>\n",
       "      <th>d</th>\n",
       "      <td>107</td>\n",
       "      <td>19</td>\n",
       "      <td>78</td>\n",
       "      <td>74.0</td>\n",
       "      <td>110.0</td>\n",
       "    </tr>\n",
       "    <tr>\n",
       "      <th>e</th>\n",
       "      <td>72</td>\n",
       "      <td>262</td>\n",
       "      <td>197</td>\n",
       "      <td>261.0</td>\n",
       "      <td>468.0</td>\n",
       "    </tr>\n",
       "  </tbody>\n",
       "</table>\n",
       "</div>"
      ],
      "text/plain": [
       "   first  second  third  fourth  fifth\n",
       "a    157     334    334   199.0   93.0\n",
       "b    203      18     56    25.0   10.0\n",
       "c    224      42     61   162.0   41.0\n",
       "d    107      19     78    74.0  110.0\n",
       "e     72     262    197   261.0  468.0"
      ]
     },
     "execution_count": 89,
     "metadata": {},
     "output_type": "execute_result"
    }
   ],
   "source": [
    "dfranks.head()"
   ]
  },
  {
   "cell_type": "code",
   "execution_count": 90,
   "metadata": {},
   "outputs": [
    {
     "data": {
      "text/plain": [
       "157"
      ]
     },
     "execution_count": 90,
     "metadata": {},
     "output_type": "execute_result"
    }
   ],
   "source": [
    "dfranks['first']['a']"
   ]
  },
  {
   "cell_type": "code",
   "execution_count": 95,
   "metadata": {},
   "outputs": [],
   "source": [
    "def freq_ranking(word):\n",
    "    val = dfranks['first'][word[0]] + dfranks['second'][word[1]] +dfranks['third'][word[2]] + dfranks['fourth'][word[3]] +dfranks['fifth'][word[4]]\n",
    "    return val"
   ]
  },
  {
   "cell_type": "code",
   "execution_count": 136,
   "metadata": {},
   "outputs": [],
   "source": [
    "df_word_ranks = pd.DataFrame({'word' : [],'value':[]})"
   ]
  },
  {
   "cell_type": "code",
   "execution_count": 137,
   "metadata": {},
   "outputs": [],
   "source": [
    "word_freq = {'word':'value'}\n",
    "for word in words5:\n",
    "    df_word_ranks.loc[len(df_word_ranks.index), 'word'] = word\n",
    "    df_word_ranks.loc[len(df_word_ranks.index)-1, 'value'] = freq_ranking(word)"
   ]
  },
  {
   "cell_type": "code",
   "execution_count": 138,
   "metadata": {},
   "outputs": [
    {
     "data": {
      "text/html": [
       "<div>\n",
       "<style scoped>\n",
       "    .dataframe tbody tr th:only-of-type {\n",
       "        vertical-align: middle;\n",
       "    }\n",
       "\n",
       "    .dataframe tbody tr th {\n",
       "        vertical-align: top;\n",
       "    }\n",
       "\n",
       "    .dataframe thead th {\n",
       "        text-align: right;\n",
       "    }\n",
       "</style>\n",
       "<table border=\"1\" class=\"dataframe\">\n",
       "  <thead>\n",
       "    <tr style=\"text-align: right;\">\n",
       "      <th></th>\n",
       "      <th>word</th>\n",
       "      <th>value</th>\n",
       "    </tr>\n",
       "  </thead>\n",
       "  <tbody>\n",
       "    <tr>\n",
       "      <th>0</th>\n",
       "      <td>llama</td>\n",
       "      <td>813.0</td>\n",
       "    </tr>\n",
       "    <tr>\n",
       "      <th>1</th>\n",
       "      <td>chaos</td>\n",
       "      <td>924.0</td>\n",
       "    </tr>\n",
       "    <tr>\n",
       "      <th>2</th>\n",
       "      <td>monad</td>\n",
       "      <td>895.0</td>\n",
       "    </tr>\n",
       "    <tr>\n",
       "      <th>3</th>\n",
       "      <td>madam</td>\n",
       "      <td>789.0</td>\n",
       "    </tr>\n",
       "    <tr>\n",
       "      <th>4</th>\n",
       "      <td>annoy</td>\n",
       "      <td>902.0</td>\n",
       "    </tr>\n",
       "  </tbody>\n",
       "</table>\n",
       "</div>"
      ],
      "text/plain": [
       "    word  value\n",
       "0  llama  813.0\n",
       "1  chaos  924.0\n",
       "2  monad  895.0\n",
       "3  madam  789.0\n",
       "4  annoy  902.0"
      ]
     },
     "execution_count": 138,
     "metadata": {},
     "output_type": "execute_result"
    }
   ],
   "source": [
    "df_word_ranks.head()"
   ]
  },
  {
   "cell_type": "code",
   "execution_count": 147,
   "metadata": {},
   "outputs": [],
   "source": [
    "df_word_ranks.to_csv('word_ranks')"
   ]
  },
  {
   "cell_type": "code",
   "execution_count": 146,
   "metadata": {},
   "outputs": [
    {
     "name": "stdout",
     "output_type": "stream",
     "text": [
      "slate\n",
      "1569.0\n"
     ]
    }
   ],
   "source": [
    "print (df_word_ranks['word'][df_word_ranks['value'].idxmax()])\n",
    "print (df_word_ranks['value'][df_word_ranks['value'].idxmax()])"
   ]
  },
  {
   "cell_type": "code",
   "execution_count": null,
   "metadata": {},
   "outputs": [],
   "source": [
    "# here we determine the next best word based on results of the best word per wordle feedback"
   ]
  }
 ],
 "metadata": {
  "interpreter": {
   "hash": "89c9495d7288a841850a3e94f59b3b05e223feb05ad00310e8b7beb8d89f2966"
  },
  "kernelspec": {
   "display_name": "Python 3.10.1 64-bit ('pingme-0wiYN-f2': pipenv)",
   "language": "python",
   "name": "python3"
  },
  "language_info": {
   "codemirror_mode": {
    "name": "ipython",
    "version": 3
   },
   "file_extension": ".py",
   "mimetype": "text/x-python",
   "name": "python",
   "nbconvert_exporter": "python",
   "pygments_lexer": "ipython3",
   "version": "3.10.1"
  },
  "orig_nbformat": 4
 },
 "nbformat": 4,
 "nbformat_minor": 2
}
