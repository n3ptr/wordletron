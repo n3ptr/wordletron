{
 "cells": [
  {
   "cell_type": "code",
   "execution_count": 1,
   "metadata": {},
   "outputs": [],
   "source": [
    "from english_words import english_words_set\n",
    "import pandas as pd"
   ]
  },
  {
   "cell_type": "code",
   "execution_count": 7,
   "metadata": {},
   "outputs": [],
   "source": [
    "# make a list of 5 lenght words without non-alphas, and no proper nouns\n",
    "words5 = []\n",
    "\n",
    "for word in english_words_set:\n",
    "    if len(word) == 5 and word[0].islower() and word.isalpha():\n",
    "        words5.append(word)"
   ]
  },
  {
   "cell_type": "code",
   "execution_count": 8,
   "metadata": {},
   "outputs": [
    {
     "name": "stdout",
     "output_type": "stream",
     "text": [
      "[]\n"
     ]
    }
   ],
   "source": [
    "# this should be an empty list, checking to be sure we do not have non alpha chars in the words\n",
    "print([i for i in words5 if not i.isalpha()])"
   ]
  },
  {
   "cell_type": "code",
   "execution_count": null,
   "metadata": {},
   "outputs": [],
   "source": []
  }
 ],
 "metadata": {
  "interpreter": {
   "hash": "89c9495d7288a841850a3e94f59b3b05e223feb05ad00310e8b7beb8d89f2966"
  },
  "kernelspec": {
   "display_name": "Python 3.10.1 64-bit ('pingme-0wiYN-f2': pipenv)",
   "language": "python",
   "name": "python3"
  },
  "language_info": {
   "codemirror_mode": {
    "name": "ipython",
    "version": 3
   },
   "file_extension": ".py",
   "mimetype": "text/x-python",
   "name": "python",
   "nbconvert_exporter": "python",
   "pygments_lexer": "ipython3",
   "version": "3.10.1"
  },
  "orig_nbformat": 4
 },
 "nbformat": 4,
 "nbformat_minor": 2
}
